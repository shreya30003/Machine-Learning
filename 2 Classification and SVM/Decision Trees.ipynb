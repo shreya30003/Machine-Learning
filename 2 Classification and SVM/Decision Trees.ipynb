{
 "cells": [
  {
   "cell_type": "markdown",
   "id": "c5b06173",
   "metadata": {},
   "source": [
    "> # DECISION TREES - 1 - GINI INDEX"
   ]
  },
  {
   "cell_type": "markdown",
   "id": "da1d28ec",
   "metadata": {},
   "source": [
    "## Import the libraries and read the dataset"
   ]
  },
  {
   "cell_type": "code",
   "execution_count": 1,
   "id": "ec7802ab",
   "metadata": {},
   "outputs": [],
   "source": [
    "import pandas as pd\n",
    "import numpy as np\n",
    "import matplotlib.pyplot as plt\n",
    "import seaborn as sns"
   ]
  },
  {
   "cell_type": "code",
   "execution_count": 2,
   "id": "ef5e642a",
   "metadata": {},
   "outputs": [],
   "source": [
    "data = pd.read_csv(r'ads.csv')"
   ]
  },
  {
   "cell_type": "code",
   "execution_count": 3,
   "id": "c0475724",
   "metadata": {},
   "outputs": [
    {
     "data": {
      "text/html": [
       "<div>\n",
       "<style scoped>\n",
       "    .dataframe tbody tr th:only-of-type {\n",
       "        vertical-align: middle;\n",
       "    }\n",
       "\n",
       "    .dataframe tbody tr th {\n",
       "        vertical-align: top;\n",
       "    }\n",
       "\n",
       "    .dataframe thead th {\n",
       "        text-align: right;\n",
       "    }\n",
       "</style>\n",
       "<table border=\"1\" class=\"dataframe\">\n",
       "  <thead>\n",
       "    <tr style=\"text-align: right;\">\n",
       "      <th></th>\n",
       "      <th>User ID</th>\n",
       "      <th>Age</th>\n",
       "      <th>EstimatedSalary</th>\n",
       "      <th>Purchased</th>\n",
       "    </tr>\n",
       "  </thead>\n",
       "  <tbody>\n",
       "    <tr>\n",
       "      <th>0</th>\n",
       "      <td>15624510</td>\n",
       "      <td>19</td>\n",
       "      <td>19000</td>\n",
       "      <td>0</td>\n",
       "    </tr>\n",
       "    <tr>\n",
       "      <th>1</th>\n",
       "      <td>15810944</td>\n",
       "      <td>35</td>\n",
       "      <td>20000</td>\n",
       "      <td>0</td>\n",
       "    </tr>\n",
       "    <tr>\n",
       "      <th>2</th>\n",
       "      <td>15668575</td>\n",
       "      <td>26</td>\n",
       "      <td>43000</td>\n",
       "      <td>0</td>\n",
       "    </tr>\n",
       "    <tr>\n",
       "      <th>3</th>\n",
       "      <td>15603246</td>\n",
       "      <td>27</td>\n",
       "      <td>57000</td>\n",
       "      <td>0</td>\n",
       "    </tr>\n",
       "    <tr>\n",
       "      <th>4</th>\n",
       "      <td>15804002</td>\n",
       "      <td>19</td>\n",
       "      <td>76000</td>\n",
       "      <td>0</td>\n",
       "    </tr>\n",
       "  </tbody>\n",
       "</table>\n",
       "</div>"
      ],
      "text/plain": [
       "    User ID  Age  EstimatedSalary  Purchased\n",
       "0  15624510   19            19000          0\n",
       "1  15810944   35            20000          0\n",
       "2  15668575   26            43000          0\n",
       "3  15603246   27            57000          0\n",
       "4  15804002   19            76000          0"
      ]
     },
     "execution_count": 3,
     "metadata": {},
     "output_type": "execute_result"
    }
   ],
   "source": [
    "data.head()"
   ]
  },
  {
   "cell_type": "markdown",
   "id": "ced100c0",
   "metadata": {},
   "source": [
    "## Exploratory Data Analysis\n"
   ]
  },
  {
   "cell_type": "code",
   "execution_count": 4,
   "id": "dbd94862",
   "metadata": {},
   "outputs": [
    {
     "data": {
      "text/plain": [
       "Index(['User ID', 'Age', 'EstimatedSalary', 'Purchased'], dtype='object')"
      ]
     },
     "execution_count": 4,
     "metadata": {},
     "output_type": "execute_result"
    }
   ],
   "source": [
    "data.columns"
   ]
  },
  {
   "cell_type": "code",
   "execution_count": 5,
   "id": "9970a540",
   "metadata": {},
   "outputs": [],
   "source": [
    "data.drop(['User ID'],axis=1,inplace=True)"
   ]
  },
  {
   "cell_type": "code",
   "execution_count": 6,
   "id": "f2e663a9",
   "metadata": {},
   "outputs": [
    {
     "data": {
      "text/plain": [
       "Age                False\n",
       "EstimatedSalary    False\n",
       "Purchased          False\n",
       "dtype: bool"
      ]
     },
     "execution_count": 6,
     "metadata": {},
     "output_type": "execute_result"
    }
   ],
   "source": [
    "data.isna().any()"
   ]
  },
  {
   "cell_type": "markdown",
   "id": "25c295ba",
   "metadata": {},
   "source": [
    "## Store the value of the feature and the predicting column in seperate arrays"
   ]
  },
  {
   "cell_type": "code",
   "execution_count": 7,
   "id": "8f7ea9a2",
   "metadata": {},
   "outputs": [],
   "source": [
    "x = data.iloc[:,:-1].values\n",
    "y = data.iloc[:,-1].values"
   ]
  },
  {
   "cell_type": "markdown",
   "id": "ccdf7fac",
   "metadata": {},
   "source": [
    "## Split into training and testing set"
   ]
  },
  {
   "cell_type": "code",
   "execution_count": 8,
   "id": "6d23f09d",
   "metadata": {},
   "outputs": [],
   "source": [
    "from sklearn.model_selection import train_test_split\n",
    "x_train,x_test,y_train,y_test = train_test_split(x,y, test_size=0.25,random_state=0)"
   ]
  },
  {
   "cell_type": "markdown",
   "id": "56aeb0b2",
   "metadata": {},
   "source": [
    "## Feature Scaling"
   ]
  },
  {
   "cell_type": "code",
   "execution_count": 9,
   "id": "a66ef91b",
   "metadata": {},
   "outputs": [],
   "source": [
    "from sklearn.preprocessing import StandardScaler\n",
    "sc = StandardScaler()\n",
    "\n",
    "x_train = sc.fit_transform(x_train)\n",
    "x_test = sc.transform(x_test)"
   ]
  },
  {
   "cell_type": "markdown",
   "id": "5566498c",
   "metadata": {},
   "source": [
    "## Fit the data into the model"
   ]
  },
  {
   "cell_type": "code",
   "execution_count": 10,
   "id": "936e59cc",
   "metadata": {},
   "outputs": [
    {
     "data": {
      "text/plain": [
       "DecisionTreeClassifier()"
      ]
     },
     "execution_count": 10,
     "metadata": {},
     "output_type": "execute_result"
    }
   ],
   "source": [
    "from sklearn.tree import DecisionTreeClassifier\n",
    "clf = DecisionTreeClassifier(criterion='gini')\n",
    "clf.fit(x_train,y_train)"
   ]
  },
  {
   "cell_type": "markdown",
   "id": "d865c43a",
   "metadata": {},
   "source": [
    "## Predict the values"
   ]
  },
  {
   "cell_type": "code",
   "execution_count": 11,
   "id": "41749065",
   "metadata": {},
   "outputs": [],
   "source": [
    "y_pred = clf.predict(x_test)"
   ]
  },
  {
   "cell_type": "code",
   "execution_count": 12,
   "id": "d78598bf",
   "metadata": {
    "scrolled": true
   },
   "outputs": [
    {
     "data": {
      "text/plain": [
       "array([0, 0, 0, 0, 0, 0, 0, 1, 0, 0, 0, 0, 0, 1, 0, 1, 1, 0, 1, 0, 0, 0,\n",
       "       0, 1, 0, 1, 0, 0, 0, 0, 0, 0, 1, 0, 0, 0, 0, 0, 0, 1, 0, 0, 0, 0,\n",
       "       0, 0, 0, 0, 0, 1, 1, 0, 0, 1, 1, 1, 0, 0, 1, 0, 0, 1, 0, 1, 0, 1,\n",
       "       0, 0, 0, 1, 1, 0, 0, 1, 0, 0, 0, 0, 1, 1, 1, 1, 0, 0, 1, 0, 0, 1,\n",
       "       1, 0, 0, 1, 0, 0, 0, 1, 0, 1, 1, 1], dtype=int64)"
      ]
     },
     "execution_count": 12,
     "metadata": {},
     "output_type": "execute_result"
    }
   ],
   "source": [
    "y_pred"
   ]
  },
  {
   "cell_type": "markdown",
   "id": "ede0bbac",
   "metadata": {},
   "source": [
    "## Confusion Matrix, Accuracy Score and Classification Report"
   ]
  },
  {
   "cell_type": "code",
   "execution_count": 13,
   "id": "ef43109c",
   "metadata": {},
   "outputs": [
    {
     "data": {
      "text/plain": [
       "array([[62,  6],\n",
       "       [ 5, 27]], dtype=int64)"
      ]
     },
     "execution_count": 13,
     "metadata": {},
     "output_type": "execute_result"
    }
   ],
   "source": [
    "from sklearn.metrics import confusion_matrix, accuracy_score, classification_report\n",
    "confusion_matrix(y_test,y_pred)"
   ]
  },
  {
   "cell_type": "code",
   "execution_count": 14,
   "id": "0b02d4af",
   "metadata": {},
   "outputs": [
    {
     "data": {
      "text/plain": [
       "89.0"
      ]
     },
     "execution_count": 14,
     "metadata": {},
     "output_type": "execute_result"
    }
   ],
   "source": [
    "accuracy_score(y_test,y_pred)*100"
   ]
  },
  {
   "cell_type": "code",
   "execution_count": 15,
   "id": "dd670460",
   "metadata": {},
   "outputs": [
    {
     "name": "stdout",
     "output_type": "stream",
     "text": [
      "              precision    recall  f1-score   support\n",
      "\n",
      "           0       0.93      0.91      0.92        68\n",
      "           1       0.82      0.84      0.83        32\n",
      "\n",
      "    accuracy                           0.89       100\n",
      "   macro avg       0.87      0.88      0.87       100\n",
      "weighted avg       0.89      0.89      0.89       100\n",
      "\n"
     ]
    }
   ],
   "source": [
    "print(classification_report(y_test,y_pred))"
   ]
  },
  {
   "cell_type": "markdown",
   "id": "aa63e4be",
   "metadata": {},
   "source": [
    "> # DECISION TREES - 2 - ENTROPY"
   ]
  },
  {
   "cell_type": "markdown",
   "id": "f5ee8cca",
   "metadata": {
    "papermill": {
     "duration": 0.0086,
     "end_time": "2023-02-09T09:56:51.427879",
     "exception": false,
     "start_time": "2023-02-09T09:56:51.419279",
     "status": "completed"
    },
    "tags": []
   },
   "source": [
    "## Import the libraries and read the dataset"
   ]
  },
  {
   "cell_type": "code",
   "execution_count": 16,
   "id": "1e357453",
   "metadata": {
    "execution": {
     "iopub.execute_input": "2023-02-09T09:56:51.446766Z",
     "iopub.status.busy": "2023-02-09T09:56:51.446321Z",
     "iopub.status.idle": "2023-02-09T09:56:52.447957Z",
     "shell.execute_reply": "2023-02-09T09:56:52.446831Z"
    },
    "papermill": {
     "duration": 1.014684,
     "end_time": "2023-02-09T09:56:52.451070",
     "exception": false,
     "start_time": "2023-02-09T09:56:51.436386",
     "status": "completed"
    },
    "tags": []
   },
   "outputs": [],
   "source": [
    "import pandas as pd\n",
    "import numpy as np\n",
    "import seaborn as sns\n",
    "import matplotlib.pyplot as plt"
   ]
  },
  {
   "cell_type": "code",
   "execution_count": 17,
   "id": "9e5b5469",
   "metadata": {},
   "outputs": [],
   "source": [
    "data = pd.read_csv(r'car_evaluation.csv')"
   ]
  },
  {
   "cell_type": "markdown",
   "id": "5e343c73",
   "metadata": {
    "papermill": {
     "duration": 0.008222,
     "end_time": "2023-02-09T09:56:52.468381",
     "exception": false,
     "start_time": "2023-02-09T09:56:52.460159",
     "status": "completed"
    },
    "tags": []
   },
   "source": [
    "## Print the values"
   ]
  },
  {
   "cell_type": "code",
   "execution_count": 18,
   "id": "d0ab91e5",
   "metadata": {
    "execution": {
     "iopub.execute_input": "2023-02-09T09:56:52.489052Z",
     "iopub.status.busy": "2023-02-09T09:56:52.488648Z",
     "iopub.status.idle": "2023-02-09T09:56:52.510850Z",
     "shell.execute_reply": "2023-02-09T09:56:52.509990Z"
    },
    "papermill": {
     "duration": 0.035442,
     "end_time": "2023-02-09T09:56:52.514055",
     "exception": false,
     "start_time": "2023-02-09T09:56:52.478613",
     "status": "completed"
    },
    "tags": []
   },
   "outputs": [
    {
     "data": {
      "text/html": [
       "<div>\n",
       "<style scoped>\n",
       "    .dataframe tbody tr th:only-of-type {\n",
       "        vertical-align: middle;\n",
       "    }\n",
       "\n",
       "    .dataframe tbody tr th {\n",
       "        vertical-align: top;\n",
       "    }\n",
       "\n",
       "    .dataframe thead th {\n",
       "        text-align: right;\n",
       "    }\n",
       "</style>\n",
       "<table border=\"1\" class=\"dataframe\">\n",
       "  <thead>\n",
       "    <tr style=\"text-align: right;\">\n",
       "      <th></th>\n",
       "      <th>vhigh</th>\n",
       "      <th>vhigh.1</th>\n",
       "      <th>2</th>\n",
       "      <th>2.1</th>\n",
       "      <th>small</th>\n",
       "      <th>low</th>\n",
       "      <th>unacc</th>\n",
       "    </tr>\n",
       "  </thead>\n",
       "  <tbody>\n",
       "    <tr>\n",
       "      <th>0</th>\n",
       "      <td>vhigh</td>\n",
       "      <td>vhigh</td>\n",
       "      <td>2</td>\n",
       "      <td>2</td>\n",
       "      <td>small</td>\n",
       "      <td>med</td>\n",
       "      <td>unacc</td>\n",
       "    </tr>\n",
       "    <tr>\n",
       "      <th>1</th>\n",
       "      <td>vhigh</td>\n",
       "      <td>vhigh</td>\n",
       "      <td>2</td>\n",
       "      <td>2</td>\n",
       "      <td>small</td>\n",
       "      <td>high</td>\n",
       "      <td>unacc</td>\n",
       "    </tr>\n",
       "    <tr>\n",
       "      <th>2</th>\n",
       "      <td>vhigh</td>\n",
       "      <td>vhigh</td>\n",
       "      <td>2</td>\n",
       "      <td>2</td>\n",
       "      <td>med</td>\n",
       "      <td>low</td>\n",
       "      <td>unacc</td>\n",
       "    </tr>\n",
       "    <tr>\n",
       "      <th>3</th>\n",
       "      <td>vhigh</td>\n",
       "      <td>vhigh</td>\n",
       "      <td>2</td>\n",
       "      <td>2</td>\n",
       "      <td>med</td>\n",
       "      <td>med</td>\n",
       "      <td>unacc</td>\n",
       "    </tr>\n",
       "    <tr>\n",
       "      <th>4</th>\n",
       "      <td>vhigh</td>\n",
       "      <td>vhigh</td>\n",
       "      <td>2</td>\n",
       "      <td>2</td>\n",
       "      <td>med</td>\n",
       "      <td>high</td>\n",
       "      <td>unacc</td>\n",
       "    </tr>\n",
       "  </tbody>\n",
       "</table>\n",
       "</div>"
      ],
      "text/plain": [
       "   vhigh vhigh.1  2 2.1  small   low  unacc\n",
       "0  vhigh   vhigh  2   2  small   med  unacc\n",
       "1  vhigh   vhigh  2   2  small  high  unacc\n",
       "2  vhigh   vhigh  2   2    med   low  unacc\n",
       "3  vhigh   vhigh  2   2    med   med  unacc\n",
       "4  vhigh   vhigh  2   2    med  high  unacc"
      ]
     },
     "execution_count": 18,
     "metadata": {},
     "output_type": "execute_result"
    }
   ],
   "source": [
    "data.head()"
   ]
  },
  {
   "cell_type": "markdown",
   "id": "1070aaf6",
   "metadata": {
    "papermill": {
     "duration": 0.008418,
     "end_time": "2023-02-09T09:56:52.531532",
     "exception": false,
     "start_time": "2023-02-09T09:56:52.523114",
     "status": "completed"
    },
    "tags": []
   },
   "source": [
    "## Exploratory data analysis"
   ]
  },
  {
   "cell_type": "code",
   "execution_count": 19,
   "id": "9a2bf74b",
   "metadata": {
    "execution": {
     "iopub.execute_input": "2023-02-09T09:56:52.551416Z",
     "iopub.status.busy": "2023-02-09T09:56:52.550469Z",
     "iopub.status.idle": "2023-02-09T09:56:52.558015Z",
     "shell.execute_reply": "2023-02-09T09:56:52.556933Z"
    },
    "papermill": {
     "duration": 0.01983,
     "end_time": "2023-02-09T09:56:52.560374",
     "exception": false,
     "start_time": "2023-02-09T09:56:52.540544",
     "status": "completed"
    },
    "tags": []
   },
   "outputs": [
    {
     "data": {
      "text/plain": [
       "(1727, 7)"
      ]
     },
     "execution_count": 19,
     "metadata": {},
     "output_type": "execute_result"
    }
   ],
   "source": [
    "data.shape"
   ]
  },
  {
   "cell_type": "markdown",
   "id": "55a8795e",
   "metadata": {
    "papermill": {
     "duration": 0.008483,
     "end_time": "2023-02-09T09:56:52.577796",
     "exception": false,
     "start_time": "2023-02-09T09:56:52.569313",
     "status": "completed"
    },
    "tags": []
   },
   "source": [
    "#### Rename column names"
   ]
  },
  {
   "cell_type": "code",
   "execution_count": 20,
   "id": "a300a3f8",
   "metadata": {
    "execution": {
     "iopub.execute_input": "2023-02-09T09:56:52.598183Z",
     "iopub.status.busy": "2023-02-09T09:56:52.597062Z",
     "iopub.status.idle": "2023-02-09T09:56:52.602775Z",
     "shell.execute_reply": "2023-02-09T09:56:52.601791Z"
    },
    "papermill": {
     "duration": 0.01839,
     "end_time": "2023-02-09T09:56:52.605028",
     "exception": false,
     "start_time": "2023-02-09T09:56:52.586638",
     "status": "completed"
    },
    "tags": []
   },
   "outputs": [],
   "source": [
    "col_names = ['buying', 'maint', 'doors', 'persons', 'lug_boot', 'safety', 'class']\n",
    "data.columns = col_names"
   ]
  },
  {
   "cell_type": "code",
   "execution_count": 21,
   "id": "46f39c9b",
   "metadata": {
    "execution": {
     "iopub.execute_input": "2023-02-09T09:56:52.624654Z",
     "iopub.status.busy": "2023-02-09T09:56:52.624179Z",
     "iopub.status.idle": "2023-02-09T09:56:52.648861Z",
     "shell.execute_reply": "2023-02-09T09:56:52.647343Z"
    },
    "papermill": {
     "duration": 0.037833,
     "end_time": "2023-02-09T09:56:52.651804",
     "exception": false,
     "start_time": "2023-02-09T09:56:52.613971",
     "status": "completed"
    },
    "tags": []
   },
   "outputs": [
    {
     "name": "stdout",
     "output_type": "stream",
     "text": [
      "<class 'pandas.core.frame.DataFrame'>\n",
      "RangeIndex: 1727 entries, 0 to 1726\n",
      "Data columns (total 7 columns):\n",
      " #   Column    Non-Null Count  Dtype \n",
      "---  ------    --------------  ----- \n",
      " 0   buying    1727 non-null   object\n",
      " 1   maint     1727 non-null   object\n",
      " 2   doors     1727 non-null   object\n",
      " 3   persons   1727 non-null   object\n",
      " 4   lug_boot  1727 non-null   object\n",
      " 5   safety    1727 non-null   object\n",
      " 6   class     1727 non-null   object\n",
      "dtypes: object(7)\n",
      "memory usage: 94.6+ KB\n"
     ]
    }
   ],
   "source": [
    "data.info()"
   ]
  },
  {
   "cell_type": "code",
   "execution_count": 22,
   "id": "01f0f1ab",
   "metadata": {
    "execution": {
     "iopub.execute_input": "2023-02-09T09:56:52.671948Z",
     "iopub.status.busy": "2023-02-09T09:56:52.671452Z",
     "iopub.status.idle": "2023-02-09T09:56:52.681465Z",
     "shell.execute_reply": "2023-02-09T09:56:52.680402Z"
    },
    "papermill": {
     "duration": 0.022789,
     "end_time": "2023-02-09T09:56:52.683774",
     "exception": false,
     "start_time": "2023-02-09T09:56:52.660985",
     "status": "completed"
    },
    "tags": []
   },
   "outputs": [
    {
     "data": {
      "text/plain": [
       "buying      False\n",
       "maint       False\n",
       "doors       False\n",
       "persons     False\n",
       "lug_boot    False\n",
       "safety      False\n",
       "class       False\n",
       "dtype: bool"
      ]
     },
     "execution_count": 22,
     "metadata": {},
     "output_type": "execute_result"
    }
   ],
   "source": [
    "data.isna().any()"
   ]
  },
  {
   "cell_type": "markdown",
   "id": "e5101bce",
   "metadata": {
    "papermill": {
     "duration": 0.008833,
     "end_time": "2023-02-09T09:56:52.702298",
     "exception": false,
     "start_time": "2023-02-09T09:56:52.693465",
     "status": "completed"
    },
    "tags": []
   },
   "source": [
    "#### No null values"
   ]
  },
  {
   "cell_type": "code",
   "execution_count": 23,
   "id": "0bcad6c6",
   "metadata": {
    "execution": {
     "iopub.execute_input": "2023-02-09T09:56:52.722804Z",
     "iopub.status.busy": "2023-02-09T09:56:52.722384Z",
     "iopub.status.idle": "2023-02-09T09:56:52.730436Z",
     "shell.execute_reply": "2023-02-09T09:56:52.729404Z"
    },
    "papermill": {
     "duration": 0.020835,
     "end_time": "2023-02-09T09:56:52.732821",
     "exception": false,
     "start_time": "2023-02-09T09:56:52.711986",
     "status": "completed"
    },
    "tags": []
   },
   "outputs": [
    {
     "data": {
      "text/plain": [
       "buying      object\n",
       "maint       object\n",
       "doors       object\n",
       "persons     object\n",
       "lug_boot    object\n",
       "safety      object\n",
       "class       object\n",
       "dtype: object"
      ]
     },
     "execution_count": 23,
     "metadata": {},
     "output_type": "execute_result"
    }
   ],
   "source": [
    "data.dtypes"
   ]
  },
  {
   "cell_type": "code",
   "execution_count": 24,
   "id": "f254ed20",
   "metadata": {
    "execution": {
     "iopub.execute_input": "2023-02-09T09:56:52.753269Z",
     "iopub.status.busy": "2023-02-09T09:56:52.752572Z",
     "iopub.status.idle": "2023-02-09T09:56:52.766216Z",
     "shell.execute_reply": "2023-02-09T09:56:52.765131Z"
    },
    "papermill": {
     "duration": 0.026676,
     "end_time": "2023-02-09T09:56:52.768755",
     "exception": false,
     "start_time": "2023-02-09T09:56:52.742079",
     "status": "completed"
    },
    "tags": []
   },
   "outputs": [
    {
     "data": {
      "text/html": [
       "<div>\n",
       "<style scoped>\n",
       "    .dataframe tbody tr th:only-of-type {\n",
       "        vertical-align: middle;\n",
       "    }\n",
       "\n",
       "    .dataframe tbody tr th {\n",
       "        vertical-align: top;\n",
       "    }\n",
       "\n",
       "    .dataframe thead th {\n",
       "        text-align: right;\n",
       "    }\n",
       "</style>\n",
       "<table border=\"1\" class=\"dataframe\">\n",
       "  <thead>\n",
       "    <tr style=\"text-align: right;\">\n",
       "      <th></th>\n",
       "      <th>buying</th>\n",
       "      <th>maint</th>\n",
       "      <th>doors</th>\n",
       "      <th>persons</th>\n",
       "      <th>lug_boot</th>\n",
       "      <th>safety</th>\n",
       "      <th>class</th>\n",
       "    </tr>\n",
       "  </thead>\n",
       "  <tbody>\n",
       "    <tr>\n",
       "      <th>0</th>\n",
       "      <td>vhigh</td>\n",
       "      <td>vhigh</td>\n",
       "      <td>2</td>\n",
       "      <td>2</td>\n",
       "      <td>small</td>\n",
       "      <td>med</td>\n",
       "      <td>unacc</td>\n",
       "    </tr>\n",
       "    <tr>\n",
       "      <th>1</th>\n",
       "      <td>vhigh</td>\n",
       "      <td>vhigh</td>\n",
       "      <td>2</td>\n",
       "      <td>2</td>\n",
       "      <td>small</td>\n",
       "      <td>high</td>\n",
       "      <td>unacc</td>\n",
       "    </tr>\n",
       "    <tr>\n",
       "      <th>2</th>\n",
       "      <td>vhigh</td>\n",
       "      <td>vhigh</td>\n",
       "      <td>2</td>\n",
       "      <td>2</td>\n",
       "      <td>med</td>\n",
       "      <td>low</td>\n",
       "      <td>unacc</td>\n",
       "    </tr>\n",
       "    <tr>\n",
       "      <th>3</th>\n",
       "      <td>vhigh</td>\n",
       "      <td>vhigh</td>\n",
       "      <td>2</td>\n",
       "      <td>2</td>\n",
       "      <td>med</td>\n",
       "      <td>med</td>\n",
       "      <td>unacc</td>\n",
       "    </tr>\n",
       "    <tr>\n",
       "      <th>4</th>\n",
       "      <td>vhigh</td>\n",
       "      <td>vhigh</td>\n",
       "      <td>2</td>\n",
       "      <td>2</td>\n",
       "      <td>med</td>\n",
       "      <td>high</td>\n",
       "      <td>unacc</td>\n",
       "    </tr>\n",
       "  </tbody>\n",
       "</table>\n",
       "</div>"
      ],
      "text/plain": [
       "  buying  maint doors persons lug_boot safety  class\n",
       "0  vhigh  vhigh     2       2    small    med  unacc\n",
       "1  vhigh  vhigh     2       2    small   high  unacc\n",
       "2  vhigh  vhigh     2       2      med    low  unacc\n",
       "3  vhigh  vhigh     2       2      med    med  unacc\n",
       "4  vhigh  vhigh     2       2      med   high  unacc"
      ]
     },
     "execution_count": 24,
     "metadata": {},
     "output_type": "execute_result"
    }
   ],
   "source": [
    "data.head()"
   ]
  },
  {
   "cell_type": "code",
   "execution_count": 25,
   "id": "e88e0a35",
   "metadata": {
    "execution": {
     "iopub.execute_input": "2023-02-09T09:56:52.790596Z",
     "iopub.status.busy": "2023-02-09T09:56:52.789827Z",
     "iopub.status.idle": "2023-02-09T09:56:52.804175Z",
     "shell.execute_reply": "2023-02-09T09:56:52.803068Z"
    },
    "papermill": {
     "duration": 0.02827,
     "end_time": "2023-02-09T09:56:52.806579",
     "exception": false,
     "start_time": "2023-02-09T09:56:52.778309",
     "status": "completed"
    },
    "tags": []
   },
   "outputs": [
    {
     "data": {
      "text/html": [
       "<div>\n",
       "<style scoped>\n",
       "    .dataframe tbody tr th:only-of-type {\n",
       "        vertical-align: middle;\n",
       "    }\n",
       "\n",
       "    .dataframe tbody tr th {\n",
       "        vertical-align: top;\n",
       "    }\n",
       "\n",
       "    .dataframe thead th {\n",
       "        text-align: right;\n",
       "    }\n",
       "</style>\n",
       "<table border=\"1\" class=\"dataframe\">\n",
       "  <thead>\n",
       "    <tr style=\"text-align: right;\">\n",
       "      <th></th>\n",
       "      <th>buying</th>\n",
       "      <th>maint</th>\n",
       "      <th>doors</th>\n",
       "      <th>persons</th>\n",
       "      <th>lug_boot</th>\n",
       "      <th>safety</th>\n",
       "      <th>class</th>\n",
       "    </tr>\n",
       "  </thead>\n",
       "  <tbody>\n",
       "    <tr>\n",
       "      <th>1722</th>\n",
       "      <td>low</td>\n",
       "      <td>low</td>\n",
       "      <td>5more</td>\n",
       "      <td>more</td>\n",
       "      <td>med</td>\n",
       "      <td>med</td>\n",
       "      <td>good</td>\n",
       "    </tr>\n",
       "    <tr>\n",
       "      <th>1723</th>\n",
       "      <td>low</td>\n",
       "      <td>low</td>\n",
       "      <td>5more</td>\n",
       "      <td>more</td>\n",
       "      <td>med</td>\n",
       "      <td>high</td>\n",
       "      <td>vgood</td>\n",
       "    </tr>\n",
       "    <tr>\n",
       "      <th>1724</th>\n",
       "      <td>low</td>\n",
       "      <td>low</td>\n",
       "      <td>5more</td>\n",
       "      <td>more</td>\n",
       "      <td>big</td>\n",
       "      <td>low</td>\n",
       "      <td>unacc</td>\n",
       "    </tr>\n",
       "    <tr>\n",
       "      <th>1725</th>\n",
       "      <td>low</td>\n",
       "      <td>low</td>\n",
       "      <td>5more</td>\n",
       "      <td>more</td>\n",
       "      <td>big</td>\n",
       "      <td>med</td>\n",
       "      <td>good</td>\n",
       "    </tr>\n",
       "    <tr>\n",
       "      <th>1726</th>\n",
       "      <td>low</td>\n",
       "      <td>low</td>\n",
       "      <td>5more</td>\n",
       "      <td>more</td>\n",
       "      <td>big</td>\n",
       "      <td>high</td>\n",
       "      <td>vgood</td>\n",
       "    </tr>\n",
       "  </tbody>\n",
       "</table>\n",
       "</div>"
      ],
      "text/plain": [
       "     buying maint  doors persons lug_boot safety  class\n",
       "1722    low   low  5more    more      med    med   good\n",
       "1723    low   low  5more    more      med   high  vgood\n",
       "1724    low   low  5more    more      big    low  unacc\n",
       "1725    low   low  5more    more      big    med   good\n",
       "1726    low   low  5more    more      big   high  vgood"
      ]
     },
     "execution_count": 25,
     "metadata": {},
     "output_type": "execute_result"
    }
   ],
   "source": [
    "data.tail()"
   ]
  },
  {
   "cell_type": "markdown",
   "id": "39e5a8da",
   "metadata": {
    "papermill": {
     "duration": 0.009183,
     "end_time": "2023-02-09T09:56:52.825434",
     "exception": false,
     "start_time": "2023-02-09T09:56:52.816251",
     "status": "completed"
    },
    "tags": []
   },
   "source": [
    "## Declare feature vector and target variable"
   ]
  },
  {
   "cell_type": "code",
   "execution_count": 26,
   "id": "1a7978a0",
   "metadata": {
    "execution": {
     "iopub.execute_input": "2023-02-09T09:56:52.848526Z",
     "iopub.status.busy": "2023-02-09T09:56:52.848091Z",
     "iopub.status.idle": "2023-02-09T09:56:52.854848Z",
     "shell.execute_reply": "2023-02-09T09:56:52.853678Z"
    },
    "papermill": {
     "duration": 0.021736,
     "end_time": "2023-02-09T09:56:52.857098",
     "exception": false,
     "start_time": "2023-02-09T09:56:52.835362",
     "status": "completed"
    },
    "tags": []
   },
   "outputs": [],
   "source": [
    "x = data.drop(['class'], axis=1)\n",
    "y = data['class']"
   ]
  },
  {
   "cell_type": "markdown",
   "id": "d001ee27",
   "metadata": {
    "papermill": {
     "duration": 0.009465,
     "end_time": "2023-02-09T09:56:52.876421",
     "exception": false,
     "start_time": "2023-02-09T09:56:52.866956",
     "status": "completed"
    },
    "tags": []
   },
   "source": [
    "## Feature Engineering "
   ]
  },
  {
   "cell_type": "code",
   "execution_count": 27,
   "id": "406bafc8",
   "metadata": {
    "execution": {
     "iopub.execute_input": "2023-02-09T09:56:52.897564Z",
     "iopub.status.busy": "2023-02-09T09:56:52.897003Z",
     "iopub.status.idle": "2023-02-09T09:56:52.907485Z",
     "shell.execute_reply": "2023-02-09T09:56:52.906658Z"
    },
    "papermill": {
     "duration": 0.02353,
     "end_time": "2023-02-09T09:56:52.909649",
     "exception": false,
     "start_time": "2023-02-09T09:56:52.886119",
     "status": "completed"
    },
    "tags": []
   },
   "outputs": [
    {
     "data": {
      "text/plain": [
       "buying      False\n",
       "maint       False\n",
       "doors       False\n",
       "persons     False\n",
       "lug_boot    False\n",
       "safety      False\n",
       "class       False\n",
       "dtype: bool"
      ]
     },
     "execution_count": 27,
     "metadata": {},
     "output_type": "execute_result"
    }
   ],
   "source": [
    "data.isnull().any()"
   ]
  },
  {
   "cell_type": "code",
   "execution_count": 28,
   "id": "ae8da5f3",
   "metadata": {
    "execution": {
     "iopub.execute_input": "2023-02-09T09:56:52.931398Z",
     "iopub.status.busy": "2023-02-09T09:56:52.930963Z",
     "iopub.status.idle": "2023-02-09T09:56:52.939215Z",
     "shell.execute_reply": "2023-02-09T09:56:52.938139Z"
    },
    "papermill": {
     "duration": 0.022141,
     "end_time": "2023-02-09T09:56:52.941684",
     "exception": false,
     "start_time": "2023-02-09T09:56:52.919543",
     "status": "completed"
    },
    "tags": []
   },
   "outputs": [
    {
     "data": {
      "text/plain": [
       "buying      object\n",
       "maint       object\n",
       "doors       object\n",
       "persons     object\n",
       "lug_boot    object\n",
       "safety      object\n",
       "class       object\n",
       "dtype: object"
      ]
     },
     "execution_count": 28,
     "metadata": {},
     "output_type": "execute_result"
    }
   ],
   "source": [
    "data.dtypes"
   ]
  },
  {
   "cell_type": "code",
   "execution_count": 29,
   "id": "0cbd9f06",
   "metadata": {
    "execution": {
     "iopub.execute_input": "2023-02-09T09:56:52.966144Z",
     "iopub.status.busy": "2023-02-09T09:56:52.965692Z",
     "iopub.status.idle": "2023-02-09T09:56:52.978984Z",
     "shell.execute_reply": "2023-02-09T09:56:52.977842Z"
    },
    "papermill": {
     "duration": 0.029466,
     "end_time": "2023-02-09T09:56:52.981302",
     "exception": false,
     "start_time": "2023-02-09T09:56:52.951836",
     "status": "completed"
    },
    "tags": []
   },
   "outputs": [
    {
     "data": {
      "text/html": [
       "<div>\n",
       "<style scoped>\n",
       "    .dataframe tbody tr th:only-of-type {\n",
       "        vertical-align: middle;\n",
       "    }\n",
       "\n",
       "    .dataframe tbody tr th {\n",
       "        vertical-align: top;\n",
       "    }\n",
       "\n",
       "    .dataframe thead th {\n",
       "        text-align: right;\n",
       "    }\n",
       "</style>\n",
       "<table border=\"1\" class=\"dataframe\">\n",
       "  <thead>\n",
       "    <tr style=\"text-align: right;\">\n",
       "      <th></th>\n",
       "      <th>buying</th>\n",
       "      <th>maint</th>\n",
       "      <th>doors</th>\n",
       "      <th>persons</th>\n",
       "      <th>lug_boot</th>\n",
       "      <th>safety</th>\n",
       "    </tr>\n",
       "  </thead>\n",
       "  <tbody>\n",
       "    <tr>\n",
       "      <th>0</th>\n",
       "      <td>vhigh</td>\n",
       "      <td>vhigh</td>\n",
       "      <td>2</td>\n",
       "      <td>2</td>\n",
       "      <td>small</td>\n",
       "      <td>med</td>\n",
       "    </tr>\n",
       "    <tr>\n",
       "      <th>1</th>\n",
       "      <td>vhigh</td>\n",
       "      <td>vhigh</td>\n",
       "      <td>2</td>\n",
       "      <td>2</td>\n",
       "      <td>small</td>\n",
       "      <td>high</td>\n",
       "    </tr>\n",
       "    <tr>\n",
       "      <th>2</th>\n",
       "      <td>vhigh</td>\n",
       "      <td>vhigh</td>\n",
       "      <td>2</td>\n",
       "      <td>2</td>\n",
       "      <td>med</td>\n",
       "      <td>low</td>\n",
       "    </tr>\n",
       "    <tr>\n",
       "      <th>3</th>\n",
       "      <td>vhigh</td>\n",
       "      <td>vhigh</td>\n",
       "      <td>2</td>\n",
       "      <td>2</td>\n",
       "      <td>med</td>\n",
       "      <td>med</td>\n",
       "    </tr>\n",
       "    <tr>\n",
       "      <th>4</th>\n",
       "      <td>vhigh</td>\n",
       "      <td>vhigh</td>\n",
       "      <td>2</td>\n",
       "      <td>2</td>\n",
       "      <td>med</td>\n",
       "      <td>high</td>\n",
       "    </tr>\n",
       "  </tbody>\n",
       "</table>\n",
       "</div>"
      ],
      "text/plain": [
       "  buying  maint doors persons lug_boot safety\n",
       "0  vhigh  vhigh     2       2    small    med\n",
       "1  vhigh  vhigh     2       2    small   high\n",
       "2  vhigh  vhigh     2       2      med    low\n",
       "3  vhigh  vhigh     2       2      med    med\n",
       "4  vhigh  vhigh     2       2      med   high"
      ]
     },
     "execution_count": 29,
     "metadata": {},
     "output_type": "execute_result"
    }
   ],
   "source": [
    "x.head()"
   ]
  },
  {
   "cell_type": "markdown",
   "id": "512c46f6",
   "metadata": {
    "papermill": {
     "duration": 0.010116,
     "end_time": "2023-02-09T09:56:53.002265",
     "exception": false,
     "start_time": "2023-02-09T09:56:52.992149",
     "status": "completed"
    },
    "tags": []
   },
   "source": [
    "#### Encoding"
   ]
  },
  {
   "cell_type": "code",
   "execution_count": 33,
   "id": "28492eb8",
   "metadata": {},
   "outputs": [],
   "source": [
    "# !pip install --upgrade category_encoders"
   ]
  },
  {
   "cell_type": "code",
   "execution_count": 34,
   "id": "e2a90eac",
   "metadata": {
    "execution": {
     "iopub.execute_input": "2023-02-09T09:56:53.026124Z",
     "iopub.status.busy": "2023-02-09T09:56:53.024927Z",
     "iopub.status.idle": "2023-02-09T09:56:53.355487Z",
     "shell.execute_reply": "2023-02-09T09:56:53.354597Z"
    },
    "papermill": {
     "duration": 0.345346,
     "end_time": "2023-02-09T09:56:53.357958",
     "exception": false,
     "start_time": "2023-02-09T09:56:53.012612",
     "status": "completed"
    },
    "tags": []
   },
   "outputs": [],
   "source": [
    "import category_encoders as ce\n",
    "encoder = ce.OrdinalEncoder(cols=['buying', 'maint', 'doors', 'persons', 'lug_boot', 'safety'])\n",
    "x = encoder.fit_transform(x)"
   ]
  },
  {
   "cell_type": "code",
   "execution_count": 35,
   "id": "73d22d8d",
   "metadata": {
    "execution": {
     "iopub.execute_input": "2023-02-09T09:56:53.380120Z",
     "iopub.status.busy": "2023-02-09T09:56:53.379183Z",
     "iopub.status.idle": "2023-02-09T09:56:53.393050Z",
     "shell.execute_reply": "2023-02-09T09:56:53.391973Z"
    },
    "papermill": {
     "duration": 0.027497,
     "end_time": "2023-02-09T09:56:53.395606",
     "exception": false,
     "start_time": "2023-02-09T09:56:53.368109",
     "status": "completed"
    },
    "tags": []
   },
   "outputs": [
    {
     "data": {
      "text/html": [
       "<div>\n",
       "<style scoped>\n",
       "    .dataframe tbody tr th:only-of-type {\n",
       "        vertical-align: middle;\n",
       "    }\n",
       "\n",
       "    .dataframe tbody tr th {\n",
       "        vertical-align: top;\n",
       "    }\n",
       "\n",
       "    .dataframe thead th {\n",
       "        text-align: right;\n",
       "    }\n",
       "</style>\n",
       "<table border=\"1\" class=\"dataframe\">\n",
       "  <thead>\n",
       "    <tr style=\"text-align: right;\">\n",
       "      <th></th>\n",
       "      <th>buying</th>\n",
       "      <th>maint</th>\n",
       "      <th>doors</th>\n",
       "      <th>persons</th>\n",
       "      <th>lug_boot</th>\n",
       "      <th>safety</th>\n",
       "    </tr>\n",
       "  </thead>\n",
       "  <tbody>\n",
       "    <tr>\n",
       "      <th>0</th>\n",
       "      <td>1</td>\n",
       "      <td>1</td>\n",
       "      <td>1</td>\n",
       "      <td>1</td>\n",
       "      <td>1</td>\n",
       "      <td>1</td>\n",
       "    </tr>\n",
       "    <tr>\n",
       "      <th>1</th>\n",
       "      <td>1</td>\n",
       "      <td>1</td>\n",
       "      <td>1</td>\n",
       "      <td>1</td>\n",
       "      <td>1</td>\n",
       "      <td>2</td>\n",
       "    </tr>\n",
       "    <tr>\n",
       "      <th>2</th>\n",
       "      <td>1</td>\n",
       "      <td>1</td>\n",
       "      <td>1</td>\n",
       "      <td>1</td>\n",
       "      <td>2</td>\n",
       "      <td>3</td>\n",
       "    </tr>\n",
       "    <tr>\n",
       "      <th>3</th>\n",
       "      <td>1</td>\n",
       "      <td>1</td>\n",
       "      <td>1</td>\n",
       "      <td>1</td>\n",
       "      <td>2</td>\n",
       "      <td>1</td>\n",
       "    </tr>\n",
       "    <tr>\n",
       "      <th>4</th>\n",
       "      <td>1</td>\n",
       "      <td>1</td>\n",
       "      <td>1</td>\n",
       "      <td>1</td>\n",
       "      <td>2</td>\n",
       "      <td>2</td>\n",
       "    </tr>\n",
       "  </tbody>\n",
       "</table>\n",
       "</div>"
      ],
      "text/plain": [
       "   buying  maint  doors  persons  lug_boot  safety\n",
       "0       1      1      1        1         1       1\n",
       "1       1      1      1        1         1       2\n",
       "2       1      1      1        1         2       3\n",
       "3       1      1      1        1         2       1\n",
       "4       1      1      1        1         2       2"
      ]
     },
     "execution_count": 35,
     "metadata": {},
     "output_type": "execute_result"
    }
   ],
   "source": [
    "x.head()"
   ]
  },
  {
   "cell_type": "markdown",
   "id": "00f4bcef",
   "metadata": {
    "papermill": {
     "duration": 0.009881,
     "end_time": "2023-02-09T09:56:53.416131",
     "exception": false,
     "start_time": "2023-02-09T09:56:53.406250",
     "status": "completed"
    },
    "tags": []
   },
   "source": [
    " ## Split data into separate train and test set"
   ]
  },
  {
   "cell_type": "code",
   "execution_count": 36,
   "id": "eeee90ed",
   "metadata": {
    "execution": {
     "iopub.execute_input": "2023-02-09T09:56:53.438286Z",
     "iopub.status.busy": "2023-02-09T09:56:53.437843Z",
     "iopub.status.idle": "2023-02-09T09:56:53.518046Z",
     "shell.execute_reply": "2023-02-09T09:56:53.517121Z"
    },
    "papermill": {
     "duration": 0.094302,
     "end_time": "2023-02-09T09:56:53.520685",
     "exception": false,
     "start_time": "2023-02-09T09:56:53.426383",
     "status": "completed"
    },
    "tags": []
   },
   "outputs": [],
   "source": [
    "from sklearn.model_selection import train_test_split\n",
    "x_train, x_test, y_train, y_test = train_test_split(x, y, test_size = 0.30, random_state = 42)"
   ]
  },
  {
   "cell_type": "code",
   "execution_count": 37,
   "id": "c89725fa",
   "metadata": {
    "execution": {
     "iopub.execute_input": "2023-02-09T09:56:53.543225Z",
     "iopub.status.busy": "2023-02-09T09:56:53.542548Z",
     "iopub.status.idle": "2023-02-09T09:56:53.550023Z",
     "shell.execute_reply": "2023-02-09T09:56:53.548968Z"
    },
    "papermill": {
     "duration": 0.021286,
     "end_time": "2023-02-09T09:56:53.552369",
     "exception": false,
     "start_time": "2023-02-09T09:56:53.531083",
     "status": "completed"
    },
    "tags": []
   },
   "outputs": [
    {
     "data": {
      "text/plain": [
       "((1208, 6), (1208,), (519, 6), (519,))"
      ]
     },
     "execution_count": 37,
     "metadata": {},
     "output_type": "execute_result"
    }
   ],
   "source": [
    "x_train.shape, y_train.shape, x_test.shape, y_test.shape "
   ]
  },
  {
   "cell_type": "markdown",
   "id": "208a051b",
   "metadata": {
    "papermill": {
     "duration": 0.009884,
     "end_time": "2023-02-09T09:56:53.572611",
     "exception": false,
     "start_time": "2023-02-09T09:56:53.562727",
     "status": "completed"
    },
    "tags": []
   },
   "source": [
    " ##  Decision Tree Classifier"
   ]
  },
  {
   "cell_type": "code",
   "execution_count": 38,
   "id": "cd14a18a",
   "metadata": {
    "execution": {
     "iopub.execute_input": "2023-02-09T09:56:53.595124Z",
     "iopub.status.busy": "2023-02-09T09:56:53.594691Z",
     "iopub.status.idle": "2023-02-09T09:56:53.735075Z",
     "shell.execute_reply": "2023-02-09T09:56:53.733989Z"
    },
    "papermill": {
     "duration": 0.154596,
     "end_time": "2023-02-09T09:56:53.737486",
     "exception": false,
     "start_time": "2023-02-09T09:56:53.582890",
     "status": "completed"
    },
    "tags": []
   },
   "outputs": [
    {
     "data": {
      "text/plain": [
       "DecisionTreeClassifier(criterion='entropy', max_depth=3, random_state=0)"
      ]
     },
     "execution_count": 38,
     "metadata": {},
     "output_type": "execute_result"
    }
   ],
   "source": [
    "from sklearn.tree import DecisionTreeClassifier\n",
    "\n",
    "clf = DecisionTreeClassifier(criterion='entropy', max_depth=3, random_state=0)\n",
    "# fit the model\n",
    "clf.fit(x_train, y_train)"
   ]
  },
  {
   "cell_type": "markdown",
   "id": "329b6348",
   "metadata": {
    "papermill": {
     "duration": 0.010441,
     "end_time": "2023-02-09T09:56:53.758853",
     "exception": false,
     "start_time": "2023-02-09T09:56:53.748412",
     "status": "completed"
    },
    "tags": []
   },
   "source": [
    " ## Predict results"
   ]
  },
  {
   "cell_type": "code",
   "execution_count": 39,
   "id": "12eb7182",
   "metadata": {
    "execution": {
     "iopub.execute_input": "2023-02-09T09:56:53.781734Z",
     "iopub.status.busy": "2023-02-09T09:56:53.781283Z",
     "iopub.status.idle": "2023-02-09T09:56:53.787933Z",
     "shell.execute_reply": "2023-02-09T09:56:53.787083Z"
    },
    "papermill": {
     "duration": 0.020438,
     "end_time": "2023-02-09T09:56:53.790075",
     "exception": false,
     "start_time": "2023-02-09T09:56:53.769637",
     "status": "completed"
    },
    "tags": []
   },
   "outputs": [],
   "source": [
    "y_pred = clf.predict(x_test)"
   ]
  },
  {
   "cell_type": "markdown",
   "id": "e020a06c",
   "metadata": {
    "papermill": {
     "duration": 0.010069,
     "end_time": "2023-02-09T09:56:53.810716",
     "exception": false,
     "start_time": "2023-02-09T09:56:53.800647",
     "status": "completed"
    },
    "tags": []
   },
   "source": [
    " ## Check accuracy score"
   ]
  },
  {
   "cell_type": "code",
   "execution_count": 40,
   "id": "b7b1f599",
   "metadata": {
    "execution": {
     "iopub.execute_input": "2023-02-09T09:56:53.833733Z",
     "iopub.status.busy": "2023-02-09T09:56:53.833333Z",
     "iopub.status.idle": "2023-02-09T09:56:53.841477Z",
     "shell.execute_reply": "2023-02-09T09:56:53.838865Z"
    },
    "papermill": {
     "duration": 0.023974,
     "end_time": "2023-02-09T09:56:53.845403",
     "exception": false,
     "start_time": "2023-02-09T09:56:53.821429",
     "status": "completed"
    },
    "tags": []
   },
   "outputs": [
    {
     "name": "stdout",
     "output_type": "stream",
     "text": [
      "Model accuracy score with criterion entropy: 0.8015\n"
     ]
    }
   ],
   "source": [
    "from sklearn.metrics import accuracy_score\n",
    "print('Model accuracy score with criterion entropy: {0:0.4f}'. format(accuracy_score(y_test, y_pred)))"
   ]
  },
  {
   "cell_type": "markdown",
   "id": "706fbeb2",
   "metadata": {
    "papermill": {
     "duration": 0.012691,
     "end_time": "2023-02-09T09:56:53.870973",
     "exception": false,
     "start_time": "2023-02-09T09:56:53.858282",
     "status": "completed"
    },
    "tags": []
   },
   "source": [
    "> ## Check for overfitting and underfitting"
   ]
  },
  {
   "cell_type": "code",
   "execution_count": 41,
   "id": "b500a5bb",
   "metadata": {
    "execution": {
     "iopub.execute_input": "2023-02-09T09:56:53.905136Z",
     "iopub.status.busy": "2023-02-09T09:56:53.904646Z",
     "iopub.status.idle": "2023-02-09T09:56:53.915072Z",
     "shell.execute_reply": "2023-02-09T09:56:53.914260Z"
    },
    "papermill": {
     "duration": 0.02801,
     "end_time": "2023-02-09T09:56:53.918576",
     "exception": false,
     "start_time": "2023-02-09T09:56:53.890566",
     "status": "completed"
    },
    "tags": []
   },
   "outputs": [
    {
     "name": "stdout",
     "output_type": "stream",
     "text": [
      "Training set score: 0.7873\n",
      "Test set score: 0.8015\n"
     ]
    }
   ],
   "source": [
    "print('Training set score: {:.4f}'.format(clf.score(x_train, y_train)))\n",
    "print('Test set score: {:.4f}'.format(clf.score(x_test, y_test)))"
   ]
  },
  {
   "cell_type": "markdown",
   "id": "75699c4f",
   "metadata": {
    "papermill": {
     "duration": 0.010642,
     "end_time": "2023-02-09T09:56:53.947522",
     "exception": false,
     "start_time": "2023-02-09T09:56:53.936880",
     "status": "completed"
    },
    "tags": []
   },
   "source": [
    "### We can see that the training-set score and test-set score is same as above. The training-set accuracy score is 0.7873 while the test-set accuracy to be 0.8015. These two values are quite comparable. So, there is no sign of overfitting."
   ]
  },
  {
   "cell_type": "markdown",
   "id": "228ab0de",
   "metadata": {
    "papermill": {
     "duration": 0.010255,
     "end_time": "2023-02-09T09:56:53.968550",
     "exception": false,
     "start_time": "2023-02-09T09:56:53.958295",
     "status": "completed"
    },
    "tags": []
   },
   "source": [
    "> ## Visualize decision-trees"
   ]
  },
  {
   "cell_type": "code",
   "execution_count": 45,
   "id": "0fa4792d",
   "metadata": {
    "execution": {
     "iopub.execute_input": "2023-02-09T09:56:53.991785Z",
     "iopub.status.busy": "2023-02-09T09:56:53.991341Z",
     "iopub.status.idle": "2023-02-09T09:56:54.519243Z",
     "shell.execute_reply": "2023-02-09T09:56:54.517927Z"
    },
    "papermill": {
     "duration": 0.5433,
     "end_time": "2023-02-09T09:56:54.522522",
     "exception": false,
     "start_time": "2023-02-09T09:56:53.979222",
     "status": "completed"
    },
    "tags": []
   },
   "outputs": [
    {
     "data": {
      "text/plain": [
       "[Text(0.6, 0.875, 'X[5] <= 2.5\\nentropy = 1.203\\nsamples = 1208\\nvalue = [266, 52, 848, 42]'),\n",
       " Text(0.4, 0.625, 'X[3] <= 1.5\\nentropy = 1.484\\nsamples = 798\\nvalue = [266, 52, 438, 42]'),\n",
       " Text(0.2, 0.375, 'entropy = 0.0\\nsamples = 251\\nvalue = [0, 0, 251, 0]'),\n",
       " Text(0.6, 0.375, 'X[0] <= 2.5\\nentropy = 1.642\\nsamples = 547\\nvalue = [266, 52, 187, 42]'),\n",
       " Text(0.4, 0.125, 'entropy = 0.995\\nsamples = 280\\nvalue = [128, 0, 152, 0]'),\n",
       " Text(0.8, 0.125, 'entropy = 1.756\\nsamples = 267\\nvalue = [138, 52, 35, 42]'),\n",
       " Text(0.8, 0.625, 'entropy = 0.0\\nsamples = 410\\nvalue = [0, 0, 410, 0]')]"
      ]
     },
     "execution_count": 45,
     "metadata": {},
     "output_type": "execute_result"
    },
    {
     "data": {
      "image/png": "[encoded data removed]",
      "text/plain": [
       "<Figure size 864x576 with 1 Axes>"
      ]
     },
     "metadata": {
      "needs_background": "light"
     },
     "output_type": "display_data"
    }
   ],
   "source": [
    "plt.figure(figsize=(12,8))\n",
    "from sklearn import tree\n",
    "tree.plot_tree(clf.fit(x_train, y_train),filled=True) "
   ]
  },
  {
   "cell_type": "markdown",
   "id": "a9229da5",
   "metadata": {
    "papermill": {
     "duration": 0.011716,
     "end_time": "2023-02-09T09:56:54.546237",
     "exception": false,
     "start_time": "2023-02-09T09:56:54.534521",
     "status": "completed"
    },
    "tags": []
   },
   "source": [
    "> ## Confusion matrix"
   ]
  },
  {
   "cell_type": "code",
   "execution_count": 43,
   "id": "78365303",
   "metadata": {
    "execution": {
     "iopub.execute_input": "2023-02-09T09:56:54.572567Z",
     "iopub.status.busy": "2023-02-09T09:56:54.571746Z",
     "iopub.status.idle": "2023-02-09T09:56:54.586053Z",
     "shell.execute_reply": "2023-02-09T09:56:54.583837Z"
    },
    "papermill": {
     "duration": 0.031188,
     "end_time": "2023-02-09T09:56:54.589504",
     "exception": false,
     "start_time": "2023-02-09T09:56:54.558316",
     "status": "completed"
    },
    "tags": []
   },
   "outputs": [
    {
     "name": "stdout",
     "output_type": "stream",
     "text": [
      "Confusion matrix\n",
      "\n",
      " [[ 66   0  52   0]\n",
      " [ 17   0   0   0]\n",
      " [ 11   0 350   0]\n",
      " [ 23   0   0   0]]\n"
     ]
    }
   ],
   "source": [
    "from sklearn.metrics import confusion_matrix\n",
    "cm = confusion_matrix(y_test, y_pred)\n",
    "print('Confusion matrix\\n\\n', cm)"
   ]
  },
  {
   "cell_type": "markdown",
   "id": "c391f5be",
   "metadata": {
    "papermill": {
     "duration": 0.011756,
     "end_time": "2023-02-09T09:56:54.613935",
     "exception": false,
     "start_time": "2023-02-09T09:56:54.602179",
     "status": "completed"
    },
    "tags": []
   },
   "source": [
    " ## Classification Report"
   ]
  },
  {
   "cell_type": "code",
   "execution_count": 44,
   "id": "25241709",
   "metadata": {
    "execution": {
     "iopub.execute_input": "2023-02-09T09:56:54.641211Z",
     "iopub.status.busy": "2023-02-09T09:56:54.640778Z",
     "iopub.status.idle": "2023-02-09T09:56:54.664644Z",
     "shell.execute_reply": "2023-02-09T09:56:54.662974Z"
    },
    "papermill": {
     "duration": 0.041547,
     "end_time": "2023-02-09T09:56:54.668036",
     "exception": false,
     "start_time": "2023-02-09T09:56:54.626489",
     "status": "completed"
    },
    "tags": []
   },
   "outputs": [
    {
     "name": "stdout",
     "output_type": "stream",
     "text": [
      "              precision    recall  f1-score   support\n",
      "\n",
      "         acc       0.56      0.56      0.56       118\n",
      "        good       0.00      0.00      0.00        17\n",
      "       unacc       0.87      0.97      0.92       361\n",
      "       vgood       0.00      0.00      0.00        23\n",
      "\n",
      "    accuracy                           0.80       519\n",
      "   macro avg       0.36      0.38      0.37       519\n",
      "weighted avg       0.73      0.80      0.77       519\n",
      "\n"
     ]
    },
    {
     "name": "stderr",
     "output_type": "stream",
     "text": [
      "C:\\Users\\Admin\\anaconda3\\lib\\site-packages\\sklearn\\metrics\\_classification.py:1318: UndefinedMetricWarning: Precision and F-score are ill-defined and being set to 0.0 in labels with no predicted samples. Use `zero_division` parameter to control this behavior.\n",
      "  _warn_prf(average, modifier, msg_start, len(result))\n",
      "C:\\Users\\Admin\\anaconda3\\lib\\site-packages\\sklearn\\metrics\\_classification.py:1318: UndefinedMetricWarning: Precision and F-score are ill-defined and being set to 0.0 in labels with no predicted samples. Use `zero_division` parameter to control this behavior.\n",
      "  _warn_prf(average, modifier, msg_start, len(result))\n",
      "C:\\Users\\Admin\\anaconda3\\lib\\site-packages\\sklearn\\metrics\\_classification.py:1318: UndefinedMetricWarning: Precision and F-score are ill-defined and being set to 0.0 in labels with no predicted samples. Use `zero_division` parameter to control this behavior.\n",
      "  _warn_prf(average, modifier, msg_start, len(result))\n"
     ]
    }
   ],
   "source": [
    "from sklearn.metrics import classification_report\n",
    "print(classification_report(y_test, y_pred))"
   ]
  }
 ],
 "metadata": {
  "kernelspec": {
   "display_name": "Python 3 (ipykernel)",
   "language": "python",
   "name": "python3"
  },
  "language_info": {
   "codemirror_mode": {
    "name": "ipython",
    "version": 3
   },
   "file_extension": ".py",
   "mimetype": "text/x-python",
   "name": "python",
   "nbconvert_exporter": "python",
   "pygments_lexer": "ipython3",
   "version": "3.9.12"
  }
 },
 "nbformat": 4,
 "nbformat_minor": 5
}
