{
 "cells": [
  {
   "cell_type": "markdown",
   "id": "5a43520d",
   "metadata": {},
   "source": [
    "> # Chi Square"
   ]
  },
  {
   "cell_type": "code",
   "execution_count": 1,
   "id": "ab1c8d2a",
   "metadata": {},
   "outputs": [],
   "source": [
    "import numpy as np\n",
    "from sklearn.datasets import load_iris\n",
    "from sklearn.preprocessing import KBinsDiscretizer\n",
    "from scipy.stats import chi2_contingency"
   ]
  },
  {
   "cell_type": "code",
   "execution_count": 2,
   "id": "6a1f8102",
   "metadata": {},
   "outputs": [],
   "source": [
    "# Load the iris dataset\n",
    "data = load_iris()\n",
    "X = data.data\n",
    "y = data.target"
   ]
  },
  {
   "cell_type": "code",
   "execution_count": 3,
   "id": "39e17d01",
   "metadata": {},
   "outputs": [],
   "source": [
    "# Let's use only the first feature (sepal length) for this example\n",
    "sepal_length = X[:, 0]"
   ]
  },
  {
   "cell_type": "code",
   "execution_count": 4,
   "id": "24eaf47e",
   "metadata": {},
   "outputs": [],
   "source": [
    "# Convert the continuous feature to categorical using KBinsDiscretizer\n",
    "n_bins = 5  # Number of bins for discretization\n",
    "discretizer = KBinsDiscretizer(n_bins=n_bins, encode='ordinal', strategy='uniform')\n",
    "sepal_length_discrete = discretizer.fit_transform(sepal_length.reshape(-1, 1))"
   ]
  },
  {
   "cell_type": "code",
   "execution_count": 5,
   "id": "7c1b34f5",
   "metadata": {},
   "outputs": [],
   "source": [
    "# Flatten the discrete feature and convert it to integers\n",
    "sepal_length_discrete = sepal_length_discrete.flatten().astype(int)"
   ]
  },
  {
   "cell_type": "code",
   "execution_count": 6,
   "id": "55183fbb",
   "metadata": {},
   "outputs": [],
   "source": [
    "# Create a contingency table\n",
    "contingency_table = np.zeros((n_bins, len(data.target_names)))\n",
    "for i in range(len(data.target_names)):\n",
    "    for j in range(n_bins):\n",
    "        contingency_table[j, i] = np.sum((sepal_length_discrete == j) & (y == i))"
   ]
  },
  {
   "cell_type": "code",
   "execution_count": 7,
   "id": "6af3f3bf",
   "metadata": {},
   "outputs": [
    {
     "name": "stdout",
     "output_type": "stream",
     "text": [
      "Chi-square statistic: 112.098649825784\n",
      "P-value: 1.409589192040307e-20\n",
      "Degrees of freedom: 8\n"
     ]
    }
   ],
   "source": [
    "# Perform the Chi-square test\n",
    "chi2, p, dof, expected = chi2_contingency(contingency_table)\n",
    "\n",
    "print(\"Chi-square statistic:\", chi2)\n",
    "print(\"P-value:\", p)\n",
    "print(\"Degrees of freedom:\", dof)"
   ]
  }
 ],
 "metadata": {
  "kernelspec": {
   "display_name": "Python 3 (ipykernel)",
   "language": "python",
   "name": "python3"
  },
  "language_info": {
   "codemirror_mode": {
    "name": "ipython",
    "version": 3
   },
   "file_extension": ".py",
   "mimetype": "text/x-python",
   "name": "python",
   "nbconvert_exporter": "python",
   "pygments_lexer": "ipython3",
   "version": "3.9.12"
  }
 },
 "nbformat": 4,
 "nbformat_minor": 5
}
