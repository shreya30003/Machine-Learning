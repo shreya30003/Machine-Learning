{
 "cells": [
  {
   "cell_type": "markdown",
   "id": "394331dc",
   "metadata": {
    "papermill": {
     "duration": 0.016468,
     "end_time": "2023-01-05T04:54:07.613221",
     "exception": false,
     "start_time": "2023-01-05T04:54:07.596753",
     "status": "completed"
    },
    "tags": []
   },
   "source": [
    "> # KNN - 1"
   ]
  },
  {
   "cell_type": "markdown",
   "id": "d6f6100d",
   "metadata": {
    "papermill": {
     "duration": 0.014981,
     "end_time": "2023-01-05T04:54:07.643762",
     "exception": false,
     "start_time": "2023-01-05T04:54:07.628781",
     "status": "completed"
    },
    "tags": []
   },
   "source": [
    "> ## Import the libraries and Read the data"
   ]
  },
  {
   "cell_type": "code",
   "execution_count": 1,
   "id": "610bcd86",
   "metadata": {
    "execution": {
     "iopub.execute_input": "2023-01-05T04:54:07.675839Z",
     "iopub.status.busy": "2023-01-05T04:54:07.675261Z",
     "iopub.status.idle": "2023-01-05T04:54:08.748929Z",
     "shell.execute_reply": "2023-01-05T04:54:08.746281Z"
    },
    "papermill": {
     "duration": 1.0934,
     "end_time": "2023-01-05T04:54:08.752223",
     "exception": false,
     "start_time": "2023-01-05T04:54:07.658823",
     "status": "completed"
    },
    "tags": []
   },
   "outputs": [],
   "source": [
    "import numpy as np \n",
    "import pandas as pd \n",
    "import matplotlib.pyplot as plt \n",
    "import seaborn as sns \n",
    "\n",
    "data = pd.read_csv(r'breast-cancer.csv')"
   ]
  },
  {
   "cell_type": "markdown",
   "id": "201fa7b3",
   "metadata": {
    "papermill": {
     "duration": 0.015176,
     "end_time": "2023-01-05T04:54:08.783176",
     "exception": false,
     "start_time": "2023-01-05T04:54:08.768000",
     "status": "completed"
    },
    "tags": []
   },
   "source": [
    "> ## Exploratory Data Analysis"
   ]
  },
  {
   "cell_type": "code",
   "execution_count": 2,
   "id": "b685dff1",
   "metadata": {
    "execution": {
     "iopub.execute_input": "2023-01-05T04:54:08.817316Z",
     "iopub.status.busy": "2023-01-05T04:54:08.816956Z",
     "iopub.status.idle": "2023-01-05T04:54:08.837418Z",
     "shell.execute_reply": "2023-01-05T04:54:08.836705Z"
    },
    "papermill": {
     "duration": 0.040586,
     "end_time": "2023-01-05T04:54:08.839727",
     "exception": false,
     "start_time": "2023-01-05T04:54:08.799141",
     "status": "completed"
    },
    "tags": []
   },
   "outputs": [
    {
     "data": {
      "text/html": [
       "<div>\n",
       "<style scoped>\n",
       "    .dataframe tbody tr th:only-of-type {\n",
       "        vertical-align: middle;\n",
       "    }\n",
       "\n",
       "    .dataframe tbody tr th {\n",
       "        vertical-align: top;\n",
       "    }\n",
       "\n",
       "    .dataframe thead th {\n",
       "        text-align: right;\n",
       "    }\n",
       "</style>\n",
       "<table border=\"1\" class=\"dataframe\">\n",
       "  <thead>\n",
       "    <tr style=\"text-align: right;\">\n",
       "      <th></th>\n",
       "      <th>1000025</th>\n",
       "      <th>5</th>\n",
       "      <th>1</th>\n",
       "      <th>1.1</th>\n",
       "      <th>1.2</th>\n",
       "      <th>2</th>\n",
       "      <th>1.3</th>\n",
       "      <th>3</th>\n",
       "      <th>1.4</th>\n",
       "      <th>1.5</th>\n",
       "      <th>2.1</th>\n",
       "    </tr>\n",
       "  </thead>\n",
       "  <tbody>\n",
       "    <tr>\n",
       "      <th>0</th>\n",
       "      <td>1002945</td>\n",
       "      <td>5</td>\n",
       "      <td>4</td>\n",
       "      <td>4</td>\n",
       "      <td>5</td>\n",
       "      <td>7</td>\n",
       "      <td>10</td>\n",
       "      <td>3</td>\n",
       "      <td>2</td>\n",
       "      <td>1</td>\n",
       "      <td>2</td>\n",
       "    </tr>\n",
       "    <tr>\n",
       "      <th>1</th>\n",
       "      <td>1015425</td>\n",
       "      <td>3</td>\n",
       "      <td>1</td>\n",
       "      <td>1</td>\n",
       "      <td>1</td>\n",
       "      <td>2</td>\n",
       "      <td>2</td>\n",
       "      <td>3</td>\n",
       "      <td>1</td>\n",
       "      <td>1</td>\n",
       "      <td>2</td>\n",
       "    </tr>\n",
       "    <tr>\n",
       "      <th>2</th>\n",
       "      <td>1016277</td>\n",
       "      <td>6</td>\n",
       "      <td>8</td>\n",
       "      <td>8</td>\n",
       "      <td>1</td>\n",
       "      <td>3</td>\n",
       "      <td>4</td>\n",
       "      <td>3</td>\n",
       "      <td>7</td>\n",
       "      <td>1</td>\n",
       "      <td>2</td>\n",
       "    </tr>\n",
       "    <tr>\n",
       "      <th>3</th>\n",
       "      <td>1017023</td>\n",
       "      <td>4</td>\n",
       "      <td>1</td>\n",
       "      <td>1</td>\n",
       "      <td>3</td>\n",
       "      <td>2</td>\n",
       "      <td>1</td>\n",
       "      <td>3</td>\n",
       "      <td>1</td>\n",
       "      <td>1</td>\n",
       "      <td>2</td>\n",
       "    </tr>\n",
       "    <tr>\n",
       "      <th>4</th>\n",
       "      <td>1017122</td>\n",
       "      <td>8</td>\n",
       "      <td>10</td>\n",
       "      <td>10</td>\n",
       "      <td>8</td>\n",
       "      <td>7</td>\n",
       "      <td>10</td>\n",
       "      <td>9</td>\n",
       "      <td>7</td>\n",
       "      <td>1</td>\n",
       "      <td>4</td>\n",
       "    </tr>\n",
       "  </tbody>\n",
       "</table>\n",
       "</div>"
      ],
      "text/plain": [
       "   1000025  5   1  1.1  1.2  2 1.3  3  1.4  1.5  2.1\n",
       "0  1002945  5   4    4    5  7  10  3    2    1    2\n",
       "1  1015425  3   1    1    1  2   2  3    1    1    2\n",
       "2  1016277  6   8    8    1  3   4  3    7    1    2\n",
       "3  1017023  4   1    1    3  2   1  3    1    1    2\n",
       "4  1017122  8  10   10    8  7  10  9    7    1    4"
      ]
     },
     "execution_count": 2,
     "metadata": {},
     "output_type": "execute_result"
    }
   ],
   "source": [
    "data.head()"
   ]
  },
  {
   "cell_type": "code",
   "execution_count": 3,
   "id": "51d39a3d",
   "metadata": {
    "execution": {
     "iopub.execute_input": "2023-01-05T04:54:08.873120Z",
     "iopub.status.busy": "2023-01-05T04:54:08.872589Z",
     "iopub.status.idle": "2023-01-05T04:54:08.878975Z",
     "shell.execute_reply": "2023-01-05T04:54:08.877634Z"
    },
    "papermill": {
     "duration": 0.026144,
     "end_time": "2023-01-05T04:54:08.881297",
     "exception": false,
     "start_time": "2023-01-05T04:54:08.855153",
     "status": "completed"
    },
    "tags": []
   },
   "outputs": [
    {
     "data": {
      "text/plain": [
       "(698, 11)"
      ]
     },
     "execution_count": 3,
     "metadata": {},
     "output_type": "execute_result"
    }
   ],
   "source": [
    "data.shape"
   ]
  },
  {
   "cell_type": "code",
   "execution_count": 4,
   "id": "5012b82f",
   "metadata": {
    "execution": {
     "iopub.execute_input": "2023-01-05T04:54:08.917289Z",
     "iopub.status.busy": "2023-01-05T04:54:08.914755Z",
     "iopub.status.idle": "2023-01-05T04:54:08.927330Z",
     "shell.execute_reply": "2023-01-05T04:54:08.924926Z"
    },
    "papermill": {
     "duration": 0.033534,
     "end_time": "2023-01-05T04:54:08.930436",
     "exception": false,
     "start_time": "2023-01-05T04:54:08.896902",
     "status": "completed"
    },
    "tags": []
   },
   "outputs": [
    {
     "data": {
      "text/plain": [
       "Index(['1000025', '5', '1', '1.1', '1.2', '2', '1.3', '3', '1.4', '1.5',\n",
       "       '2.1'],\n",
       "      dtype='object')"
      ]
     },
     "execution_count": 4,
     "metadata": {},
     "output_type": "execute_result"
    }
   ],
   "source": [
    "data.columns"
   ]
  },
  {
   "cell_type": "markdown",
   "id": "483d82c0",
   "metadata": {
    "papermill": {
     "duration": 0.022404,
     "end_time": "2023-01-05T04:54:08.972219",
     "exception": false,
     "start_time": "2023-01-05T04:54:08.949815",
     "status": "completed"
    },
    "tags": []
   },
   "source": [
    "#### Renaming the columns"
   ]
  },
  {
   "cell_type": "code",
   "execution_count": 5,
   "id": "b44dba9e",
   "metadata": {
    "execution": {
     "iopub.execute_input": "2023-01-05T04:54:09.015313Z",
     "iopub.status.busy": "2023-01-05T04:54:09.014069Z",
     "iopub.status.idle": "2023-01-05T04:54:09.022046Z",
     "shell.execute_reply": "2023-01-05T04:54:09.020098Z"
    },
    "papermill": {
     "duration": 0.03212,
     "end_time": "2023-01-05T04:54:09.024827",
     "exception": false,
     "start_time": "2023-01-05T04:54:08.992707",
     "status": "completed"
    },
    "tags": []
   },
   "outputs": [],
   "source": [
    "col_names = ['Id', 'Clump_thickness', 'Uniformity_Cell_Size', 'Uniformity_Cell_Shape', 'Marginal_Adhesion', \n",
    "             'Single_Epithelial_Cell_Size', 'Bare_Nuclei', 'Bland_Chromatin', 'Normal_Nucleoli', 'Mitoses', 'Class']\n",
    "data.columns = col_names"
   ]
  },
  {
   "cell_type": "code",
   "execution_count": 6,
   "id": "c8145bff",
   "metadata": {
    "execution": {
     "iopub.execute_input": "2023-01-05T04:54:09.062824Z",
     "iopub.status.busy": "2023-01-05T04:54:09.062416Z",
     "iopub.status.idle": "2023-01-05T04:54:09.075841Z",
     "shell.execute_reply": "2023-01-05T04:54:09.074651Z"
    },
    "papermill": {
     "duration": 0.035266,
     "end_time": "2023-01-05T04:54:09.078282",
     "exception": false,
     "start_time": "2023-01-05T04:54:09.043016",
     "status": "completed"
    },
    "tags": []
   },
   "outputs": [
    {
     "data": {
      "text/html": [
       "<div>\n",
       "<style scoped>\n",
       "    .dataframe tbody tr th:only-of-type {\n",
       "        vertical-align: middle;\n",
       "    }\n",
       "\n",
       "    .dataframe tbody tr th {\n",
       "        vertical-align: top;\n",
       "    }\n",
       "\n",
       "    .dataframe thead th {\n",
       "        text-align: right;\n",
       "    }\n",
       "</style>\n",
       "<table border=\"1\" class=\"dataframe\">\n",
       "  <thead>\n",
       "    <tr style=\"text-align: right;\">\n",
       "      <th></th>\n",
       "      <th>Id</th>\n",
       "      <th>Clump_thickness</th>\n",
       "      <th>Uniformity_Cell_Size</th>\n",
       "      <th>Uniformity_Cell_Shape</th>\n",
       "      <th>Marginal_Adhesion</th>\n",
       "      <th>Single_Epithelial_Cell_Size</th>\n",
       "      <th>Bare_Nuclei</th>\n",
       "      <th>Bland_Chromatin</th>\n",
       "      <th>Normal_Nucleoli</th>\n",
       "      <th>Mitoses</th>\n",
       "      <th>Class</th>\n",
       "    </tr>\n",
       "  </thead>\n",
       "  <tbody>\n",
       "    <tr>\n",
       "      <th>0</th>\n",
       "      <td>1002945</td>\n",
       "      <td>5</td>\n",
       "      <td>4</td>\n",
       "      <td>4</td>\n",
       "      <td>5</td>\n",
       "      <td>7</td>\n",
       "      <td>10</td>\n",
       "      <td>3</td>\n",
       "      <td>2</td>\n",
       "      <td>1</td>\n",
       "      <td>2</td>\n",
       "    </tr>\n",
       "    <tr>\n",
       "      <th>1</th>\n",
       "      <td>1015425</td>\n",
       "      <td>3</td>\n",
       "      <td>1</td>\n",
       "      <td>1</td>\n",
       "      <td>1</td>\n",
       "      <td>2</td>\n",
       "      <td>2</td>\n",
       "      <td>3</td>\n",
       "      <td>1</td>\n",
       "      <td>1</td>\n",
       "      <td>2</td>\n",
       "    </tr>\n",
       "    <tr>\n",
       "      <th>2</th>\n",
       "      <td>1016277</td>\n",
       "      <td>6</td>\n",
       "      <td>8</td>\n",
       "      <td>8</td>\n",
       "      <td>1</td>\n",
       "      <td>3</td>\n",
       "      <td>4</td>\n",
       "      <td>3</td>\n",
       "      <td>7</td>\n",
       "      <td>1</td>\n",
       "      <td>2</td>\n",
       "    </tr>\n",
       "    <tr>\n",
       "      <th>3</th>\n",
       "      <td>1017023</td>\n",
       "      <td>4</td>\n",
       "      <td>1</td>\n",
       "      <td>1</td>\n",
       "      <td>3</td>\n",
       "      <td>2</td>\n",
       "      <td>1</td>\n",
       "      <td>3</td>\n",
       "      <td>1</td>\n",
       "      <td>1</td>\n",
       "      <td>2</td>\n",
       "    </tr>\n",
       "    <tr>\n",
       "      <th>4</th>\n",
       "      <td>1017122</td>\n",
       "      <td>8</td>\n",
       "      <td>10</td>\n",
       "      <td>10</td>\n",
       "      <td>8</td>\n",
       "      <td>7</td>\n",
       "      <td>10</td>\n",
       "      <td>9</td>\n",
       "      <td>7</td>\n",
       "      <td>1</td>\n",
       "      <td>4</td>\n",
       "    </tr>\n",
       "  </tbody>\n",
       "</table>\n",
       "</div>"
      ],
      "text/plain": [
       "        Id  Clump_thickness  Uniformity_Cell_Size  Uniformity_Cell_Shape  \\\n",
       "0  1002945                5                     4                      4   \n",
       "1  1015425                3                     1                      1   \n",
       "2  1016277                6                     8                      8   \n",
       "3  1017023                4                     1                      1   \n",
       "4  1017122                8                    10                     10   \n",
       "\n",
       "   Marginal_Adhesion  Single_Epithelial_Cell_Size Bare_Nuclei  \\\n",
       "0                  5                            7          10   \n",
       "1                  1                            2           2   \n",
       "2                  1                            3           4   \n",
       "3                  3                            2           1   \n",
       "4                  8                            7          10   \n",
       "\n",
       "   Bland_Chromatin  Normal_Nucleoli  Mitoses  Class  \n",
       "0                3                2        1      2  \n",
       "1                3                1        1      2  \n",
       "2                3                7        1      2  \n",
       "3                3                1        1      2  \n",
       "4                9                7        1      4  "
      ]
     },
     "execution_count": 6,
     "metadata": {},
     "output_type": "execute_result"
    }
   ],
   "source": [
    "data.head()"
   ]
  },
  {
   "cell_type": "markdown",
   "id": "da10fc9f",
   "metadata": {
    "papermill": {
     "duration": 0.017036,
     "end_time": "2023-01-05T04:54:09.114020",
     "exception": false,
     "start_time": "2023-01-05T04:54:09.096984",
     "status": "completed"
    },
    "tags": []
   },
   "source": [
    "#### Dropping unwanted column - Id"
   ]
  },
  {
   "cell_type": "code",
   "execution_count": 7,
   "id": "2b20579a",
   "metadata": {
    "execution": {
     "iopub.execute_input": "2023-01-05T04:54:09.153251Z",
     "iopub.status.busy": "2023-01-05T04:54:09.152637Z",
     "iopub.status.idle": "2023-01-05T04:54:09.162676Z",
     "shell.execute_reply": "2023-01-05T04:54:09.161494Z"
    },
    "papermill": {
     "duration": 0.031687,
     "end_time": "2023-01-05T04:54:09.165150",
     "exception": false,
     "start_time": "2023-01-05T04:54:09.133463",
     "status": "completed"
    },
    "tags": []
   },
   "outputs": [],
   "source": [
    "data = data.drop(['Id'],axis=1)"
   ]
  },
  {
   "cell_type": "markdown",
   "id": "313eaad6",
   "metadata": {
    "papermill": {
     "duration": 0.018093,
     "end_time": "2023-01-05T04:54:09.198986",
     "exception": false,
     "start_time": "2023-01-05T04:54:09.180893",
     "status": "completed"
    },
    "tags": []
   },
   "source": [
    "#### Checking for Null Values"
   ]
  },
  {
   "cell_type": "code",
   "execution_count": 8,
   "id": "3c7ae1e2",
   "metadata": {
    "execution": {
     "iopub.execute_input": "2023-01-05T04:54:09.232598Z",
     "iopub.status.busy": "2023-01-05T04:54:09.232180Z",
     "iopub.status.idle": "2023-01-05T04:54:09.240803Z",
     "shell.execute_reply": "2023-01-05T04:54:09.240101Z"
    },
    "papermill": {
     "duration": 0.027376,
     "end_time": "2023-01-05T04:54:09.242453",
     "exception": false,
     "start_time": "2023-01-05T04:54:09.215077",
     "status": "completed"
    },
    "tags": []
   },
   "outputs": [
    {
     "data": {
      "text/plain": [
       "Clump_thickness                0\n",
       "Uniformity_Cell_Size           0\n",
       "Uniformity_Cell_Shape          0\n",
       "Marginal_Adhesion              0\n",
       "Single_Epithelial_Cell_Size    0\n",
       "Bare_Nuclei                    0\n",
       "Bland_Chromatin                0\n",
       "Normal_Nucleoli                0\n",
       "Mitoses                        0\n",
       "Class                          0\n",
       "dtype: int64"
      ]
     },
     "execution_count": 8,
     "metadata": {},
     "output_type": "execute_result"
    }
   ],
   "source": [
    "data.isnull().sum()"
   ]
  },
  {
   "cell_type": "code",
   "execution_count": 9,
   "id": "54ca4486",
   "metadata": {
    "execution": {
     "iopub.execute_input": "2023-01-05T04:54:09.277950Z",
     "iopub.status.busy": "2023-01-05T04:54:09.276934Z",
     "iopub.status.idle": "2023-01-05T04:54:09.284024Z",
     "shell.execute_reply": "2023-01-05T04:54:09.283378Z"
    },
    "papermill": {
     "duration": 0.027515,
     "end_time": "2023-01-05T04:54:09.286312",
     "exception": false,
     "start_time": "2023-01-05T04:54:09.258797",
     "status": "completed"
    },
    "tags": []
   },
   "outputs": [
    {
     "data": {
      "text/plain": [
       "Clump_thickness                 int64\n",
       "Uniformity_Cell_Size            int64\n",
       "Uniformity_Cell_Shape           int64\n",
       "Marginal_Adhesion               int64\n",
       "Single_Epithelial_Cell_Size     int64\n",
       "Bare_Nuclei                    object\n",
       "Bland_Chromatin                 int64\n",
       "Normal_Nucleoli                 int64\n",
       "Mitoses                         int64\n",
       "Class                           int64\n",
       "dtype: object"
      ]
     },
     "execution_count": 9,
     "metadata": {},
     "output_type": "execute_result"
    }
   ],
   "source": [
    "data.dtypes"
   ]
  },
  {
   "cell_type": "markdown",
   "id": "2ff22508",
   "metadata": {
    "papermill": {
     "duration": 0.018357,
     "end_time": "2023-01-05T04:54:09.321099",
     "exception": false,
     "start_time": "2023-01-05T04:54:09.302742",
     "status": "completed"
    },
    "tags": []
   },
   "source": [
    "#### Bare_Nuclei has integer values but it's dtype is object\n",
    "#### Changing the dtype of Bare_Nuclei"
   ]
  },
  {
   "cell_type": "code",
   "execution_count": 10,
   "id": "edef88b2",
   "metadata": {
    "execution": {
     "iopub.execute_input": "2023-01-05T04:54:09.358614Z",
     "iopub.status.busy": "2023-01-05T04:54:09.358038Z",
     "iopub.status.idle": "2023-01-05T04:54:09.365100Z",
     "shell.execute_reply": "2023-01-05T04:54:09.364130Z"
    },
    "papermill": {
     "duration": 0.029009,
     "end_time": "2023-01-05T04:54:09.368212",
     "exception": false,
     "start_time": "2023-01-05T04:54:09.339203",
     "status": "completed"
    },
    "tags": []
   },
   "outputs": [],
   "source": [
    "data['Bare_Nuclei'] = pd.to_numeric(data['Bare_Nuclei'], errors='coerce')"
   ]
  },
  {
   "cell_type": "markdown",
   "id": "6ed43390",
   "metadata": {
    "papermill": {
     "duration": 0.016695,
     "end_time": "2023-01-05T04:54:09.402176",
     "exception": false,
     "start_time": "2023-01-05T04:54:09.385481",
     "status": "completed"
    },
    "tags": []
   },
   "source": [
    "##### Data parsing is converting data from one format to another\n",
    "##### errors{‘ignore’, ‘raise’, ‘coerce’}\n",
    "*     If ‘raise’, then invalid parsing will raise an exception.\n",
    "*     If ‘coerce’, then invalid parsing will be set as NaN.\n",
    "*     If ‘ignore’, then invalid parsing will return the input."
   ]
  },
  {
   "cell_type": "code",
   "execution_count": 11,
   "id": "3301bd8d",
   "metadata": {
    "execution": {
     "iopub.execute_input": "2023-01-05T04:54:09.439605Z",
     "iopub.status.busy": "2023-01-05T04:54:09.438372Z",
     "iopub.status.idle": "2023-01-05T04:54:09.448336Z",
     "shell.execute_reply": "2023-01-05T04:54:09.446991Z"
    },
    "papermill": {
     "duration": 0.030718,
     "end_time": "2023-01-05T04:54:09.450613",
     "exception": false,
     "start_time": "2023-01-05T04:54:09.419895",
     "status": "completed"
    },
    "tags": []
   },
   "outputs": [
    {
     "data": {
      "text/plain": [
       "Clump_thickness                  int64\n",
       "Uniformity_Cell_Size             int64\n",
       "Uniformity_Cell_Shape            int64\n",
       "Marginal_Adhesion                int64\n",
       "Single_Epithelial_Cell_Size      int64\n",
       "Bare_Nuclei                    float64\n",
       "Bland_Chromatin                  int64\n",
       "Normal_Nucleoli                  int64\n",
       "Mitoses                          int64\n",
       "Class                            int64\n",
       "dtype: object"
      ]
     },
     "execution_count": 11,
     "metadata": {},
     "output_type": "execute_result"
    }
   ],
   "source": [
    "data.dtypes"
   ]
  },
  {
   "cell_type": "code",
   "execution_count": 12,
   "id": "290b4797",
   "metadata": {
    "execution": {
     "iopub.execute_input": "2023-01-05T04:54:09.486083Z",
     "iopub.status.busy": "2023-01-05T04:54:09.485713Z",
     "iopub.status.idle": "2023-01-05T04:54:09.494625Z",
     "shell.execute_reply": "2023-01-05T04:54:09.493128Z"
    },
    "papermill": {
     "duration": 0.029652,
     "end_time": "2023-01-05T04:54:09.496984",
     "exception": false,
     "start_time": "2023-01-05T04:54:09.467332",
     "status": "completed"
    },
    "tags": []
   },
   "outputs": [
    {
     "data": {
      "text/plain": [
       "Index(['Clump_thickness', 'Uniformity_Cell_Size', 'Uniformity_Cell_Shape',\n",
       "       'Marginal_Adhesion', 'Single_Epithelial_Cell_Size', 'Bare_Nuclei',\n",
       "       'Bland_Chromatin', 'Normal_Nucleoli', 'Mitoses', 'Class'],\n",
       "      dtype='object')"
      ]
     },
     "execution_count": 12,
     "metadata": {},
     "output_type": "execute_result"
    }
   ],
   "source": [
    "data.columns"
   ]
  },
  {
   "cell_type": "markdown",
   "id": "045e22c1",
   "metadata": {
    "papermill": {
     "duration": 0.017238,
     "end_time": "2023-01-05T04:54:09.531306",
     "exception": false,
     "start_time": "2023-01-05T04:54:09.514068",
     "status": "completed"
    },
    "tags": []
   },
   "source": [
    "#### Removing Outliers"
   ]
  },
  {
   "cell_type": "code",
   "execution_count": 13,
   "id": "73fa8c2f",
   "metadata": {
    "execution": {
     "iopub.execute_input": "2023-01-05T04:54:09.566540Z",
     "iopub.status.busy": "2023-01-05T04:54:09.566109Z",
     "iopub.status.idle": "2023-01-05T04:54:09.573281Z",
     "shell.execute_reply": "2023-01-05T04:54:09.571842Z"
    },
    "papermill": {
     "duration": 0.027169,
     "end_time": "2023-01-05T04:54:09.575970",
     "exception": false,
     "start_time": "2023-01-05T04:54:09.548801",
     "status": "completed"
    },
    "tags": []
   },
   "outputs": [],
   "source": [
    "def iqr(data,col):\n",
    "    q1,q3 = np.percentile(data[col],[25,75])\n",
    "    iqr = q3-q1 \n",
    "    lower = q1-1.5*iqr\n",
    "    upper = q3+1.5*iqr\n",
    "    data = data[(data[col]>lower) & (data[col]<upper)]\n",
    "    data.boxplot(col)"
   ]
  },
  {
   "cell_type": "code",
   "execution_count": 14,
   "id": "9cb325b1",
   "metadata": {
    "execution": {
     "iopub.execute_input": "2023-01-05T04:54:09.611850Z",
     "iopub.status.busy": "2023-01-05T04:54:09.611385Z",
     "iopub.status.idle": "2023-01-05T04:54:09.616842Z",
     "shell.execute_reply": "2023-01-05T04:54:09.615659Z"
    },
    "papermill": {
     "duration": 0.026874,
     "end_time": "2023-01-05T04:54:09.619147",
     "exception": false,
     "start_time": "2023-01-05T04:54:09.592273",
     "status": "completed"
    },
    "tags": []
   },
   "outputs": [],
   "source": [
    "l = ['Clump_thickness', 'Uniformity_Cell_Size', 'Uniformity_Cell_Shape',\n",
    "       'Marginal_Adhesion', 'Single_Epithelial_Cell_Size', 'Bare_Nuclei',\n",
    "       'Bland_Chromatin', 'Normal_Nucleoli', 'Mitoses']"
   ]
  },
  {
   "cell_type": "code",
   "execution_count": 15,
   "id": "84647588",
   "metadata": {
    "execution": {
     "iopub.execute_input": "2023-01-05T04:54:09.657160Z",
     "iopub.status.busy": "2023-01-05T04:54:09.656829Z",
     "iopub.status.idle": "2023-01-05T04:54:10.739182Z",
     "shell.execute_reply": "2023-01-05T04:54:10.737741Z"
    },
    "papermill": {
     "duration": 1.106009,
     "end_time": "2023-01-05T04:54:10.742758",
     "exception": false,
     "start_time": "2023-01-05T04:54:09.636749",
     "status": "completed"
    },
    "tags": []
   },
   "outputs": [
    {
     "data": {
      "image/png": "[encoded data removed]",
      "text/plain": [
       "<Figure size 360x288 with 1 Axes>"
      ]
     },
     "metadata": {
      "needs_background": "light"
     },
     "output_type": "display_data"
    },
    {
     "data": {
      "image/png": "[encoded data removed]",
      "text/plain": [
       "<Figure size 360x288 with 1 Axes>"
      ]
     },
     "metadata": {
      "needs_background": "light"
     },
     "output_type": "display_data"
    },
    {
     "data": {
      "image/png": "[encoded data removed]",
      "text/plain": [
       "<Figure size 360x288 with 1 Axes>"
      ]
     },
     "metadata": {
      "needs_background": "light"
     },
     "output_type": "display_data"
    },
    {
     "data": {
      "image/png": "[encoded data removed]",
      "text/plain": [
       "<Figure size 360x288 with 1 Axes>"
      ]
     },
     "metadata": {
      "needs_background": "light"
     },
     "output_type": "display_data"
    },
    {
     "data": {
      "image/png": "[encoded data removed]",
      "text/plain": [
       "<Figure size 360x288 with 1 Axes>"
      ]
     },
     "metadata": {
      "needs_background": "light"
     },
     "output_type": "display_data"
    },
    {
     "data": {
      "image/png": "[encoded data removed]",
      "text/plain": [
       "<Figure size 360x288 with 1 Axes>"
      ]
     },
     "metadata": {
      "needs_background": "light"
     },
     "output_type": "display_data"
    },
    {
     "data": {
      "image/png": "[encoded data removed]",
      "text/plain": [
       "<Figure size 360x288 with 1 Axes>"
      ]
     },
     "metadata": {
      "needs_background": "light"
     },
     "output_type": "display_data"
    },
    {
     "data": {
      "image/png": "[encoded data removed]",
      "text/plain": [
       "<Figure size 360x288 with 1 Axes>"
      ]
     },
     "metadata": {
      "needs_background": "light"
     },
     "output_type": "display_data"
    },
    {
     "data": {
      "image/png": "[encoded data removed]",
      "text/plain": [
       "<Figure size 360x288 with 1 Axes>"
      ]
     },
     "metadata": {
      "needs_background": "light"
     },
     "output_type": "display_data"
    }
   ],
   "source": [
    "for i in data[l]:\n",
    "    plt.figure(figsize=(5,4))\n",
    "    iqr(data,i)\n",
    "    plt.show()"
   ]
  },
  {
   "cell_type": "markdown",
   "id": "c1363c22",
   "metadata": {
    "papermill": {
     "duration": 0.021638,
     "end_time": "2023-01-05T04:54:10.787896",
     "exception": false,
     "start_time": "2023-01-05T04:54:10.766258",
     "status": "completed"
    },
    "tags": []
   },
   "source": [
    "> ## Data Visualisation"
   ]
  },
  {
   "cell_type": "markdown",
   "id": "d470ee4b",
   "metadata": {
    "papermill": {
     "duration": 0.017259,
     "end_time": "2023-01-05T04:54:10.823136",
     "exception": false,
     "start_time": "2023-01-05T04:54:10.805877",
     "status": "completed"
    },
    "tags": []
   },
   "source": [
    "#### Univariate Analysis"
   ]
  },
  {
   "cell_type": "code",
   "execution_count": 16,
   "id": "7cf06202",
   "metadata": {
    "execution": {
     "iopub.execute_input": "2023-01-05T04:54:10.860271Z",
     "iopub.status.busy": "2023-01-05T04:54:10.859717Z",
     "iopub.status.idle": "2023-01-05T04:54:12.623498Z",
     "shell.execute_reply": "2023-01-05T04:54:12.621881Z"
    },
    "papermill": {
     "duration": 1.785979,
     "end_time": "2023-01-05T04:54:12.626566",
     "exception": false,
     "start_time": "2023-01-05T04:54:10.840587",
     "status": "completed"
    },
    "tags": []
   },
   "outputs": [
    {
     "data": {
      "image/png": "[encoded data removed]",
      "text/plain": [
       "<Figure size 2160x1800 with 10 Axes>"
      ]
     },
     "metadata": {
      "needs_background": "light"
     },
     "output_type": "display_data"
    }
   ],
   "source": [
    "plt.rcParams['figure.figsize']=(30,25)\n",
    "data.plot(kind='hist', subplots=True, layout=(5,2))\n",
    "plt.show()"
   ]
  },
  {
   "cell_type": "markdown",
   "id": "7fc5b3fa",
   "metadata": {
    "papermill": {
     "duration": 0.019292,
     "end_time": "2023-01-05T04:54:12.666244",
     "exception": false,
     "start_time": "2023-01-05T04:54:12.646952",
     "status": "completed"
    },
    "tags": []
   },
   "source": [
    "#### Multivariate Analysis"
   ]
  },
  {
   "cell_type": "code",
   "execution_count": 17,
   "id": "76442e98",
   "metadata": {
    "execution": {
     "iopub.execute_input": "2023-01-05T04:54:12.704672Z",
     "iopub.status.busy": "2023-01-05T04:54:12.704256Z",
     "iopub.status.idle": "2023-01-05T04:54:12.722471Z",
     "shell.execute_reply": "2023-01-05T04:54:12.721563Z"
    },
    "papermill": {
     "duration": 0.040038,
     "end_time": "2023-01-05T04:54:12.724836",
     "exception": false,
     "start_time": "2023-01-05T04:54:12.684798",
     "status": "completed"
    },
    "tags": []
   },
   "outputs": [
    {
     "data": {
      "text/html": [
       "<div>\n",
       "<style scoped>\n",
       "    .dataframe tbody tr th:only-of-type {\n",
       "        vertical-align: middle;\n",
       "    }\n",
       "\n",
       "    .dataframe tbody tr th {\n",
       "        vertical-align: top;\n",
       "    }\n",
       "\n",
       "    .dataframe thead th {\n",
       "        text-align: right;\n",
       "    }\n",
       "</style>\n",
       "<table border=\"1\" class=\"dataframe\">\n",
       "  <thead>\n",
       "    <tr style=\"text-align: right;\">\n",
       "      <th></th>\n",
       "      <th>Clump_thickness</th>\n",
       "      <th>Uniformity_Cell_Size</th>\n",
       "      <th>Uniformity_Cell_Shape</th>\n",
       "      <th>Marginal_Adhesion</th>\n",
       "      <th>Single_Epithelial_Cell_Size</th>\n",
       "      <th>Bare_Nuclei</th>\n",
       "      <th>Bland_Chromatin</th>\n",
       "      <th>Normal_Nucleoli</th>\n",
       "      <th>Mitoses</th>\n",
       "      <th>Class</th>\n",
       "    </tr>\n",
       "  </thead>\n",
       "  <tbody>\n",
       "    <tr>\n",
       "      <th>Clump_thickness</th>\n",
       "      <td>1.000000</td>\n",
       "      <td>0.645366</td>\n",
       "      <td>0.655089</td>\n",
       "      <td>0.486699</td>\n",
       "      <td>0.522108</td>\n",
       "      <td>0.593524</td>\n",
       "      <td>0.558511</td>\n",
       "      <td>0.536176</td>\n",
       "      <td>0.350176</td>\n",
       "      <td>0.716509</td>\n",
       "    </tr>\n",
       "    <tr>\n",
       "      <th>Uniformity_Cell_Size</th>\n",
       "      <td>0.645366</td>\n",
       "      <td>1.000000</td>\n",
       "      <td>0.906814</td>\n",
       "      <td>0.705397</td>\n",
       "      <td>0.751674</td>\n",
       "      <td>0.691487</td>\n",
       "      <td>0.755824</td>\n",
       "      <td>0.722699</td>\n",
       "      <td>0.458548</td>\n",
       "      <td>0.817772</td>\n",
       "    </tr>\n",
       "    <tr>\n",
       "      <th>Uniformity_Cell_Shape</th>\n",
       "      <td>0.655089</td>\n",
       "      <td>0.906814</td>\n",
       "      <td>1.000000</td>\n",
       "      <td>0.682871</td>\n",
       "      <td>0.719524</td>\n",
       "      <td>0.713661</td>\n",
       "      <td>0.736066</td>\n",
       "      <td>0.719272</td>\n",
       "      <td>0.438756</td>\n",
       "      <td>0.818794</td>\n",
       "    </tr>\n",
       "    <tr>\n",
       "      <th>Marginal_Adhesion</th>\n",
       "      <td>0.486699</td>\n",
       "      <td>0.705397</td>\n",
       "      <td>0.682871</td>\n",
       "      <td>1.000000</td>\n",
       "      <td>0.599402</td>\n",
       "      <td>0.670434</td>\n",
       "      <td>0.666759</td>\n",
       "      <td>0.603132</td>\n",
       "      <td>0.417476</td>\n",
       "      <td>0.696605</td>\n",
       "    </tr>\n",
       "    <tr>\n",
       "      <th>Single_Epithelial_Cell_Size</th>\n",
       "      <td>0.522108</td>\n",
       "      <td>0.751674</td>\n",
       "      <td>0.719524</td>\n",
       "      <td>0.599402</td>\n",
       "      <td>1.000000</td>\n",
       "      <td>0.585489</td>\n",
       "      <td>0.616108</td>\n",
       "      <td>0.628704</td>\n",
       "      <td>0.478975</td>\n",
       "      <td>0.682618</td>\n",
       "    </tr>\n",
       "    <tr>\n",
       "      <th>Bare_Nuclei</th>\n",
       "      <td>0.593524</td>\n",
       "      <td>0.691487</td>\n",
       "      <td>0.713661</td>\n",
       "      <td>0.670434</td>\n",
       "      <td>0.585489</td>\n",
       "      <td>1.000000</td>\n",
       "      <td>0.680689</td>\n",
       "      <td>0.584022</td>\n",
       "      <td>0.339005</td>\n",
       "      <td>0.822563</td>\n",
       "    </tr>\n",
       "    <tr>\n",
       "      <th>Bland_Chromatin</th>\n",
       "      <td>0.558511</td>\n",
       "      <td>0.755824</td>\n",
       "      <td>0.736066</td>\n",
       "      <td>0.666759</td>\n",
       "      <td>0.616108</td>\n",
       "      <td>0.680689</td>\n",
       "      <td>1.000000</td>\n",
       "      <td>0.665914</td>\n",
       "      <td>0.344118</td>\n",
       "      <td>0.756732</td>\n",
       "    </tr>\n",
       "    <tr>\n",
       "      <th>Normal_Nucleoli</th>\n",
       "      <td>0.536176</td>\n",
       "      <td>0.722699</td>\n",
       "      <td>0.719272</td>\n",
       "      <td>0.603132</td>\n",
       "      <td>0.628704</td>\n",
       "      <td>0.584022</td>\n",
       "      <td>0.665914</td>\n",
       "      <td>1.000000</td>\n",
       "      <td>0.428185</td>\n",
       "      <td>0.712067</td>\n",
       "    </tr>\n",
       "    <tr>\n",
       "      <th>Mitoses</th>\n",
       "      <td>0.350176</td>\n",
       "      <td>0.458548</td>\n",
       "      <td>0.438756</td>\n",
       "      <td>0.417476</td>\n",
       "      <td>0.478975</td>\n",
       "      <td>0.339005</td>\n",
       "      <td>0.344118</td>\n",
       "      <td>0.428185</td>\n",
       "      <td>1.000000</td>\n",
       "      <td>0.423008</td>\n",
       "    </tr>\n",
       "    <tr>\n",
       "      <th>Class</th>\n",
       "      <td>0.716509</td>\n",
       "      <td>0.817772</td>\n",
       "      <td>0.818794</td>\n",
       "      <td>0.696605</td>\n",
       "      <td>0.682618</td>\n",
       "      <td>0.822563</td>\n",
       "      <td>0.756732</td>\n",
       "      <td>0.712067</td>\n",
       "      <td>0.423008</td>\n",
       "      <td>1.000000</td>\n",
       "    </tr>\n",
       "  </tbody>\n",
       "</table>\n",
       "</div>"
      ],
      "text/plain": [
       "                             Clump_thickness  Uniformity_Cell_Size  \\\n",
       "Clump_thickness                     1.000000              0.645366   \n",
       "Uniformity_Cell_Size                0.645366              1.000000   \n",
       "Uniformity_Cell_Shape               0.655089              0.906814   \n",
       "Marginal_Adhesion                   0.486699              0.705397   \n",
       "Single_Epithelial_Cell_Size         0.522108              0.751674   \n",
       "Bare_Nuclei                         0.593524              0.691487   \n",
       "Bland_Chromatin                     0.558511              0.755824   \n",
       "Normal_Nucleoli                     0.536176              0.722699   \n",
       "Mitoses                             0.350176              0.458548   \n",
       "Class                               0.716509              0.817772   \n",
       "\n",
       "                             Uniformity_Cell_Shape  Marginal_Adhesion  \\\n",
       "Clump_thickness                           0.655089           0.486699   \n",
       "Uniformity_Cell_Size                      0.906814           0.705397   \n",
       "Uniformity_Cell_Shape                     1.000000           0.682871   \n",
       "Marginal_Adhesion                         0.682871           1.000000   \n",
       "Single_Epithelial_Cell_Size               0.719524           0.599402   \n",
       "Bare_Nuclei                               0.713661           0.670434   \n",
       "Bland_Chromatin                           0.736066           0.666759   \n",
       "Normal_Nucleoli                           0.719272           0.603132   \n",
       "Mitoses                                   0.438756           0.417476   \n",
       "Class                                     0.818794           0.696605   \n",
       "\n",
       "                             Single_Epithelial_Cell_Size  Bare_Nuclei  \\\n",
       "Clump_thickness                                 0.522108     0.593524   \n",
       "Uniformity_Cell_Size                            0.751674     0.691487   \n",
       "Uniformity_Cell_Shape                           0.719524     0.713661   \n",
       "Marginal_Adhesion                               0.599402     0.670434   \n",
       "Single_Epithelial_Cell_Size                     1.000000     0.585489   \n",
       "Bare_Nuclei                                     0.585489     1.000000   \n",
       "Bland_Chromatin                                 0.616108     0.680689   \n",
       "Normal_Nucleoli                                 0.628704     0.584022   \n",
       "Mitoses                                         0.478975     0.339005   \n",
       "Class                                           0.682618     0.822563   \n",
       "\n",
       "                             Bland_Chromatin  Normal_Nucleoli   Mitoses  \\\n",
       "Clump_thickness                     0.558511         0.536176  0.350176   \n",
       "Uniformity_Cell_Size                0.755824         0.722699  0.458548   \n",
       "Uniformity_Cell_Shape               0.736066         0.719272  0.438756   \n",
       "Marginal_Adhesion                   0.666759         0.603132  0.417476   \n",
       "Single_Epithelial_Cell_Size         0.616108         0.628704  0.478975   \n",
       "Bare_Nuclei                         0.680689         0.584022  0.339005   \n",
       "Bland_Chromatin                     1.000000         0.665914  0.344118   \n",
       "Normal_Nucleoli                     0.665914         1.000000  0.428185   \n",
       "Mitoses                             0.344118         0.428185  1.000000   \n",
       "Class                               0.756732         0.712067  0.423008   \n",
       "\n",
       "                                Class  \n",
       "Clump_thickness              0.716509  \n",
       "Uniformity_Cell_Size         0.817772  \n",
       "Uniformity_Cell_Shape        0.818794  \n",
       "Marginal_Adhesion            0.696605  \n",
       "Single_Epithelial_Cell_Size  0.682618  \n",
       "Bare_Nuclei                  0.822563  \n",
       "Bland_Chromatin              0.756732  \n",
       "Normal_Nucleoli              0.712067  \n",
       "Mitoses                      0.423008  \n",
       "Class                        1.000000  "
      ]
     },
     "execution_count": 17,
     "metadata": {},
     "output_type": "execute_result"
    }
   ],
   "source": [
    "data.corr()"
   ]
  },
  {
   "cell_type": "code",
   "execution_count": 18,
   "id": "bf11e313",
   "metadata": {
    "execution": {
     "iopub.execute_input": "2023-01-05T04:54:12.763989Z",
     "iopub.status.busy": "2023-01-05T04:54:12.763630Z",
     "iopub.status.idle": "2023-01-05T04:54:12.772334Z",
     "shell.execute_reply": "2023-01-05T04:54:12.770904Z"
    },
    "papermill": {
     "duration": 0.031814,
     "end_time": "2023-01-05T04:54:12.775106",
     "exception": false,
     "start_time": "2023-01-05T04:54:12.743292",
     "status": "completed"
    },
    "tags": []
   },
   "outputs": [
    {
     "data": {
      "text/plain": [
       "Class                          1.000000\n",
       "Bare_Nuclei                    0.822563\n",
       "Uniformity_Cell_Shape          0.818794\n",
       "Uniformity_Cell_Size           0.817772\n",
       "Bland_Chromatin                0.756732\n",
       "Clump_thickness                0.716509\n",
       "Normal_Nucleoli                0.712067\n",
       "Marginal_Adhesion              0.696605\n",
       "Single_Epithelial_Cell_Size    0.682618\n",
       "Mitoses                        0.423008\n",
       "Name: Class, dtype: float64"
      ]
     },
     "execution_count": 18,
     "metadata": {},
     "output_type": "execute_result"
    }
   ],
   "source": [
    "data.corr()['Class'].sort_values(ascending=False)"
   ]
  },
  {
   "cell_type": "markdown",
   "id": "2e9a98f2",
   "metadata": {
    "papermill": {
     "duration": 0.018754,
     "end_time": "2023-01-05T04:54:12.814008",
     "exception": false,
     "start_time": "2023-01-05T04:54:12.795254",
     "status": "completed"
    },
    "tags": []
   },
   "source": [
    "#### Interpretation\n",
    "The correlation coefficient ranges from -1 to +1.\n",
    "\n",
    "* When it is close to +1, this signifies that there is a strong positive correlation. So, we can see that there is a strong positive correlation between Class and Bare_Nuclei, Class and Uniformity_Cell_Shape, Class and Uniformity_Cell_Size.\n",
    "* When it is clsoe to -1, it means that there is a strong negative correlation. When it is close to 0, it means that there is no correlation.\n",
    "* We can see that all the variables are positively correlated with Class variable. Some variables are strongly positive correlated while some variables are negatively correlated."
   ]
  },
  {
   "cell_type": "code",
   "execution_count": 19,
   "id": "1e88c004",
   "metadata": {
    "execution": {
     "iopub.execute_input": "2023-01-05T04:54:12.855062Z",
     "iopub.status.busy": "2023-01-05T04:54:12.854663Z",
     "iopub.status.idle": "2023-01-05T04:54:13.494145Z",
     "shell.execute_reply": "2023-01-05T04:54:13.492849Z"
    },
    "papermill": {
     "duration": 0.663731,
     "end_time": "2023-01-05T04:54:13.496856",
     "exception": false,
     "start_time": "2023-01-05T04:54:12.833125",
     "status": "completed"
    },
    "tags": []
   },
   "outputs": [
    {
     "data": {
      "image/png": "[encoded data removed]",
      "text/plain": [
       "<Figure size 720x576 with 2 Axes>"
      ]
     },
     "metadata": {
      "needs_background": "light"
     },
     "output_type": "display_data"
    }
   ],
   "source": [
    "plt.figure(figsize=(10,8))\n",
    "plt.title('Correlation of Attributes with Class variable')\n",
    "sns.heatmap(data.corr(), square=True, annot=True)           \n",
    "plt.show()"
   ]
  },
  {
   "cell_type": "markdown",
   "id": "cb4b2ffc",
   "metadata": {
    "papermill": {
     "duration": 0.020045,
     "end_time": "2023-01-05T04:54:13.538352",
     "exception": false,
     "start_time": "2023-01-05T04:54:13.518307",
     "status": "completed"
    },
    "tags": []
   },
   "source": [
    "#### Interpretation\n",
    "From the above correlation heat map, we can conclude that :-\n",
    "\n",
    "1. Class is highly positive correlated with Uniformity_Cell_Size, Uniformity_Cell_Shape and Bare_Nuclei. (correlation coefficient = 0.82).\n",
    "2. Class is positively correlated with Clump_thickness(correlation coefficient=0.72), Marginal_Adhesion(correlation coefficient=0.70), Single_Epithelial_Cell_Size(correlation coefficient = 0.68) and Normal_Nucleoli(correlation coefficient=0.71).\n",
    "3. Class is weekly positive correlated with Mitoses(correlation coefficient=0.42).\n",
    "4. The Mitoses variable is weekly positive correlated with all the other variables(correlation coefficient < 0.50)."
   ]
  },
  {
   "cell_type": "code",
   "execution_count": 20,
   "id": "6bb61f2e",
   "metadata": {
    "execution": {
     "iopub.execute_input": "2023-01-05T04:54:13.581300Z",
     "iopub.status.busy": "2023-01-05T04:54:13.580919Z",
     "iopub.status.idle": "2023-01-05T04:54:13.589811Z",
     "shell.execute_reply": "2023-01-05T04:54:13.588973Z"
    },
    "papermill": {
     "duration": 0.032957,
     "end_time": "2023-01-05T04:54:13.592041",
     "exception": false,
     "start_time": "2023-01-05T04:54:13.559084",
     "status": "completed"
    },
    "tags": []
   },
   "outputs": [
    {
     "data": {
      "text/plain": [
       "Clump_thickness                 0\n",
       "Uniformity_Cell_Size            0\n",
       "Uniformity_Cell_Shape           0\n",
       "Marginal_Adhesion               0\n",
       "Single_Epithelial_Cell_Size     0\n",
       "Bare_Nuclei                    16\n",
       "Bland_Chromatin                 0\n",
       "Normal_Nucleoli                 0\n",
       "Mitoses                         0\n",
       "Class                           0\n",
       "dtype: int64"
      ]
     },
     "execution_count": 20,
     "metadata": {},
     "output_type": "execute_result"
    }
   ],
   "source": [
    "data.isna().sum()"
   ]
  },
  {
   "cell_type": "code",
   "execution_count": 21,
   "id": "a9e03b68",
   "metadata": {
    "execution": {
     "iopub.execute_input": "2023-01-05T04:54:13.636441Z",
     "iopub.status.busy": "2023-01-05T04:54:13.636042Z",
     "iopub.status.idle": "2023-01-05T04:54:13.652997Z",
     "shell.execute_reply": "2023-01-05T04:54:13.651232Z"
    },
    "papermill": {
     "duration": 0.041415,
     "end_time": "2023-01-05T04:54:13.655707",
     "exception": false,
     "start_time": "2023-01-05T04:54:13.614292",
     "status": "completed"
    },
    "tags": []
   },
   "outputs": [
    {
     "data": {
      "text/plain": [
       "1.0     401\n",
       "10.0    132\n",
       "2.0      30\n",
       "5.0      30\n",
       "3.0      28\n",
       "8.0      21\n",
       "4.0      19\n",
       "9.0       9\n",
       "7.0       8\n",
       "6.0       4\n",
       "Name: Bare_Nuclei, dtype: int64"
      ]
     },
     "execution_count": 21,
     "metadata": {},
     "output_type": "execute_result"
    }
   ],
   "source": [
    "data['Bare_Nuclei'].value_counts()"
   ]
  },
  {
   "cell_type": "code",
   "execution_count": 22,
   "id": "cb4199ea",
   "metadata": {
    "execution": {
     "iopub.execute_input": "2023-01-05T04:54:13.699148Z",
     "iopub.status.busy": "2023-01-05T04:54:13.698802Z",
     "iopub.status.idle": "2023-01-05T04:54:13.910254Z",
     "shell.execute_reply": "2023-01-05T04:54:13.909232Z"
    },
    "papermill": {
     "duration": 0.236132,
     "end_time": "2023-01-05T04:54:13.912262",
     "exception": false,
     "start_time": "2023-01-05T04:54:13.676130",
     "status": "completed"
    },
    "tags": []
   },
   "outputs": [
    {
     "name": "stderr",
     "output_type": "stream",
     "text": [
      "C:\\Users\\Admin\\anaconda3\\lib\\site-packages\\seaborn\\distributions.py:2619: FutureWarning: `distplot` is a deprecated function and will be removed in a future version. Please adapt your code to use either `displot` (a figure-level function with similar flexibility) or `histplot` (an axes-level function for histograms).\n",
      "  warnings.warn(msg, FutureWarning)\n"
     ]
    },
    {
     "data": {
      "text/plain": [
       "<AxesSubplot:xlabel='Bare_Nuclei', ylabel='Density'>"
      ]
     },
     "execution_count": 22,
     "metadata": {},
     "output_type": "execute_result"
    },
    {
     "data": {
      "image/png": "[encoded data removed]",
      "text/plain": [
       "<Figure size 360x360 with 1 Axes>"
      ]
     },
     "metadata": {
      "needs_background": "light"
     },
     "output_type": "display_data"
    }
   ],
   "source": [
    "plt.figure(figsize=(5,5))\n",
    "sns.distplot(data['Bare_Nuclei'])"
   ]
  },
  {
   "cell_type": "code",
   "execution_count": 23,
   "id": "736ad17c",
   "metadata": {
    "execution": {
     "iopub.execute_input": "2023-01-05T04:54:13.957612Z",
     "iopub.status.busy": "2023-01-05T04:54:13.957215Z",
     "iopub.status.idle": "2023-01-05T04:54:13.963245Z",
     "shell.execute_reply": "2023-01-05T04:54:13.961893Z"
    },
    "papermill": {
     "duration": 0.031663,
     "end_time": "2023-01-05T04:54:13.965750",
     "exception": false,
     "start_time": "2023-01-05T04:54:13.934087",
     "status": "completed"
    },
    "tags": []
   },
   "outputs": [],
   "source": [
    "data['Bare_Nuclei'] = data['Bare_Nuclei'].fillna(data['Bare_Nuclei'].mean())"
   ]
  },
  {
   "cell_type": "code",
   "execution_count": 24,
   "id": "bec74f62",
   "metadata": {
    "execution": {
     "iopub.execute_input": "2023-01-05T04:54:14.011037Z",
     "iopub.status.busy": "2023-01-05T04:54:14.010646Z",
     "iopub.status.idle": "2023-01-05T04:54:14.017417Z",
     "shell.execute_reply": "2023-01-05T04:54:14.016543Z"
    },
    "papermill": {
     "duration": 0.031187,
     "end_time": "2023-01-05T04:54:14.019487",
     "exception": false,
     "start_time": "2023-01-05T04:54:13.988300",
     "status": "completed"
    },
    "tags": []
   },
   "outputs": [
    {
     "data": {
      "text/plain": [
       "0"
      ]
     },
     "execution_count": 24,
     "metadata": {},
     "output_type": "execute_result"
    }
   ],
   "source": [
    "data['Bare_Nuclei'].isnull().sum()"
   ]
  },
  {
   "cell_type": "markdown",
   "id": "1cf6e0e5",
   "metadata": {
    "papermill": {
     "duration": 0.021181,
     "end_time": "2023-01-05T04:54:14.061452",
     "exception": false,
     "start_time": "2023-01-05T04:54:14.040271",
     "status": "completed"
    },
    "tags": []
   },
   "source": [
    "> ## Declare feature vector and target variable "
   ]
  },
  {
   "cell_type": "code",
   "execution_count": 25,
   "id": "1b4757e2",
   "metadata": {
    "execution": {
     "iopub.execute_input": "2023-01-05T04:54:14.107294Z",
     "iopub.status.busy": "2023-01-05T04:54:14.106334Z",
     "iopub.status.idle": "2023-01-05T04:54:14.112848Z",
     "shell.execute_reply": "2023-01-05T04:54:14.110897Z"
    },
    "papermill": {
     "duration": 0.032131,
     "end_time": "2023-01-05T04:54:14.115426",
     "exception": false,
     "start_time": "2023-01-05T04:54:14.083295",
     "status": "completed"
    },
    "tags": []
   },
   "outputs": [],
   "source": [
    "x = data.drop(['Class'], axis=1)\n",
    "y = data['Class']"
   ]
  },
  {
   "cell_type": "markdown",
   "id": "9af30bb4",
   "metadata": {
    "papermill": {
     "duration": 0.0233,
     "end_time": "2023-01-05T04:54:14.160677",
     "exception": false,
     "start_time": "2023-01-05T04:54:14.137377",
     "status": "completed"
    },
    "tags": []
   },
   "source": [
    "> ## Split data into separate training and test set"
   ]
  },
  {
   "cell_type": "code",
   "execution_count": 26,
   "id": "de3cc262",
   "metadata": {
    "execution": {
     "iopub.execute_input": "2023-01-05T04:54:14.206545Z",
     "iopub.status.busy": "2023-01-05T04:54:14.206119Z",
     "iopub.status.idle": "2023-01-05T04:54:14.426129Z",
     "shell.execute_reply": "2023-01-05T04:54:14.425190Z"
    },
    "papermill": {
     "duration": 0.244368,
     "end_time": "2023-01-05T04:54:14.428372",
     "exception": false,
     "start_time": "2023-01-05T04:54:14.184004",
     "status": "completed"
    },
    "tags": []
   },
   "outputs": [],
   "source": [
    "from sklearn.model_selection import train_test_split\n",
    "x_train, x_test, y_train, y_test = train_test_split(x, y, test_size = 0.3, random_state = 0)"
   ]
  },
  {
   "cell_type": "code",
   "execution_count": 27,
   "id": "94a30221",
   "metadata": {
    "execution": {
     "iopub.execute_input": "2023-01-05T04:54:14.471999Z",
     "iopub.status.busy": "2023-01-05T04:54:14.471658Z",
     "iopub.status.idle": "2023-01-05T04:54:14.477387Z",
     "shell.execute_reply": "2023-01-05T04:54:14.476814Z"
    },
    "papermill": {
     "duration": 0.030122,
     "end_time": "2023-01-05T04:54:14.479282",
     "exception": false,
     "start_time": "2023-01-05T04:54:14.449160",
     "status": "completed"
    },
    "tags": []
   },
   "outputs": [
    {
     "data": {
      "text/plain": [
       "((488, 9), (488,), (210, 9), (210,))"
      ]
     },
     "execution_count": 27,
     "metadata": {},
     "output_type": "execute_result"
    }
   ],
   "source": [
    "# check the shape of x_train and x_test\n",
    "x_train.shape, y_train.shape, x_test.shape, y_test.shape"
   ]
  },
  {
   "cell_type": "markdown",
   "id": "89ea6d8a",
   "metadata": {
    "papermill": {
     "duration": 0.02085,
     "end_time": "2023-01-05T04:54:14.520762",
     "exception": false,
     "start_time": "2023-01-05T04:54:14.499912",
     "status": "completed"
    },
    "tags": []
   },
   "source": [
    "> ## Feature Engineering\n"
   ]
  },
  {
   "cell_type": "markdown",
   "id": "5bfd8bef",
   "metadata": {
    "papermill": {
     "duration": 0.020331,
     "end_time": "2023-01-05T04:54:14.562261",
     "exception": false,
     "start_time": "2023-01-05T04:54:14.541930",
     "status": "completed"
    },
    "tags": []
   },
   "source": [
    "Feature Engineering is the process of transforming raw data into useful features that help us to understand our model better and increase its predictive power. I will carry out feature engineering on different types of variables."
   ]
  },
  {
   "cell_type": "code",
   "execution_count": 28,
   "id": "6f258fec",
   "metadata": {
    "execution": {
     "iopub.execute_input": "2023-01-05T04:54:14.607309Z",
     "iopub.status.busy": "2023-01-05T04:54:14.606702Z",
     "iopub.status.idle": "2023-01-05T04:54:14.618234Z",
     "shell.execute_reply": "2023-01-05T04:54:14.616985Z"
    },
    "papermill": {
     "duration": 0.037923,
     "end_time": "2023-01-05T04:54:14.620910",
     "exception": false,
     "start_time": "2023-01-05T04:54:14.582987",
     "status": "completed"
    },
    "tags": []
   },
   "outputs": [
    {
     "data": {
      "text/plain": [
       "(Clump_thickness                0\n",
       " Uniformity_Cell_Size           0\n",
       " Uniformity_Cell_Shape          0\n",
       " Marginal_Adhesion              0\n",
       " Single_Epithelial_Cell_Size    0\n",
       " Bare_Nuclei                    0\n",
       " Bland_Chromatin                0\n",
       " Normal_Nucleoli                0\n",
       " Mitoses                        0\n",
       " dtype: int64,\n",
       " 0,\n",
       " Clump_thickness                0\n",
       " Uniformity_Cell_Size           0\n",
       " Uniformity_Cell_Shape          0\n",
       " Marginal_Adhesion              0\n",
       " Single_Epithelial_Cell_Size    0\n",
       " Bare_Nuclei                    0\n",
       " Bland_Chromatin                0\n",
       " Normal_Nucleoli                0\n",
       " Mitoses                        0\n",
       " dtype: int64,\n",
       " 0)"
      ]
     },
     "execution_count": 28,
     "metadata": {},
     "output_type": "execute_result"
    }
   ],
   "source": [
    "x_train.isnull().sum(), y_train.isnull().sum(), x_test.isnull().sum(), y_test.isnull().sum()"
   ]
  },
  {
   "cell_type": "markdown",
   "id": "8e2a37e0",
   "metadata": {
    "papermill": {
     "duration": 0.020766,
     "end_time": "2023-01-05T04:54:14.662498",
     "exception": false,
     "start_time": "2023-01-05T04:54:14.641732",
     "status": "completed"
    },
    "tags": []
   },
   "source": [
    "> ## Feature Scaling"
   ]
  },
  {
   "cell_type": "code",
   "execution_count": 29,
   "id": "ef9c2c10",
   "metadata": {
    "execution": {
     "iopub.execute_input": "2023-01-05T04:54:14.707378Z",
     "iopub.status.busy": "2023-01-05T04:54:14.707001Z",
     "iopub.status.idle": "2023-01-05T04:54:14.713805Z",
     "shell.execute_reply": "2023-01-05T04:54:14.712805Z"
    },
    "papermill": {
     "duration": 0.031755,
     "end_time": "2023-01-05T04:54:14.716085",
     "exception": false,
     "start_time": "2023-01-05T04:54:14.684330",
     "status": "completed"
    },
    "tags": []
   },
   "outputs": [
    {
     "data": {
      "text/plain": [
       "((488, 9), (210, 9))"
      ]
     },
     "execution_count": 29,
     "metadata": {},
     "output_type": "execute_result"
    }
   ],
   "source": [
    "x_train.shape, x_test.shape"
   ]
  },
  {
   "cell_type": "code",
   "execution_count": 30,
   "id": "eaeb479d",
   "metadata": {
    "execution": {
     "iopub.execute_input": "2023-01-05T04:54:14.760496Z",
     "iopub.status.busy": "2023-01-05T04:54:14.759238Z",
     "iopub.status.idle": "2023-01-05T04:54:14.769395Z",
     "shell.execute_reply": "2023-01-05T04:54:14.767476Z"
    },
    "papermill": {
     "duration": 0.035635,
     "end_time": "2023-01-05T04:54:14.772353",
     "exception": false,
     "start_time": "2023-01-05T04:54:14.736718",
     "status": "completed"
    },
    "tags": []
   },
   "outputs": [
    {
     "data": {
      "text/plain": [
       "Index(['Clump_thickness', 'Uniformity_Cell_Size', 'Uniformity_Cell_Shape',\n",
       "       'Marginal_Adhesion', 'Single_Epithelial_Cell_Size', 'Bare_Nuclei',\n",
       "       'Bland_Chromatin', 'Normal_Nucleoli', 'Mitoses'],\n",
       "      dtype='object')"
      ]
     },
     "execution_count": 30,
     "metadata": {},
     "output_type": "execute_result"
    }
   ],
   "source": [
    "cols = x_train.columns\n",
    "cols"
   ]
  },
  {
   "cell_type": "code",
   "execution_count": 31,
   "id": "ac8a5580",
   "metadata": {
    "execution": {
     "iopub.execute_input": "2023-01-05T04:54:14.815893Z",
     "iopub.status.busy": "2023-01-05T04:54:14.815537Z",
     "iopub.status.idle": "2023-01-05T04:54:14.828948Z",
     "shell.execute_reply": "2023-01-05T04:54:14.827634Z"
    },
    "papermill": {
     "duration": 0.0375,
     "end_time": "2023-01-05T04:54:14.830850",
     "exception": false,
     "start_time": "2023-01-05T04:54:14.793350",
     "status": "completed"
    },
    "tags": []
   },
   "outputs": [],
   "source": [
    "from sklearn.preprocessing import StandardScaler\n",
    "scaler = StandardScaler()\n",
    "x_train = scaler.fit_transform(x_train)\n",
    "x_test = scaler.transform(x_test)"
   ]
  },
  {
   "cell_type": "markdown",
   "id": "6f6cea9d",
   "metadata": {
    "papermill": {
     "duration": 0.020214,
     "end_time": "2023-01-05T04:54:14.872680",
     "exception": false,
     "start_time": "2023-01-05T04:54:14.852466",
     "status": "completed"
    },
    "tags": []
   },
   "source": [
    "#### StandardScaler() - function to standardize the data values into a standard format\n",
    "1. Fit(): Method calculates the parameters μ and σ and saves them as internal objects.\n",
    "1. Transform(): Method using these calculated parameters apply the transformation to a particular dataset.\n",
    "1. Fit_transform(): joins the fit() and transform() method for transformation of dataset."
   ]
  },
  {
   "cell_type": "code",
   "execution_count": 32,
   "id": "97533698",
   "metadata": {
    "execution": {
     "iopub.execute_input": "2023-01-05T04:54:14.916359Z",
     "iopub.status.busy": "2023-01-05T04:54:14.915358Z",
     "iopub.status.idle": "2023-01-05T04:54:14.922370Z",
     "shell.execute_reply": "2023-01-05T04:54:14.921022Z"
    },
    "papermill": {
     "duration": 0.031517,
     "end_time": "2023-01-05T04:54:14.924878",
     "exception": false,
     "start_time": "2023-01-05T04:54:14.893361",
     "status": "completed"
    },
    "tags": []
   },
   "outputs": [
    {
     "data": {
      "text/plain": [
       "array([[-1.22335734, -0.04142794, -0.05266252, ...,  1.44321336,\n",
       "        -0.27073637, -0.33029174],\n",
       "       [-1.22335734, -0.68323229, -0.720177  , ..., -0.99517597,\n",
       "        -0.59297869, -0.33029174],\n",
       "       [-1.22335734, -0.68323229, -0.720177  , ..., -0.58877775,\n",
       "        -0.59297869, -0.33029174],\n",
       "       ...,\n",
       "       [ 0.5629933 , -0.36233012, -0.05266252, ..., -0.99517597,\n",
       "        -0.59297869, -0.33029174],\n",
       "       [ 0.20572317, -0.68323229, -0.720177  , ..., -0.18237953,\n",
       "        -0.59297869, -0.33029174],\n",
       "       [-1.22335734, -0.68323229, -0.720177  , ..., -0.99517597,\n",
       "        -0.59297869, -0.33029174]])"
      ]
     },
     "execution_count": 32,
     "metadata": {},
     "output_type": "execute_result"
    }
   ],
   "source": [
    "x_train"
   ]
  },
  {
   "cell_type": "code",
   "execution_count": 33,
   "id": "68278407",
   "metadata": {
    "execution": {
     "iopub.execute_input": "2023-01-05T04:54:14.968955Z",
     "iopub.status.busy": "2023-01-05T04:54:14.968539Z",
     "iopub.status.idle": "2023-01-05T04:54:14.975548Z",
     "shell.execute_reply": "2023-01-05T04:54:14.974140Z"
    },
    "papermill": {
     "duration": 0.032696,
     "end_time": "2023-01-05T04:54:14.978321",
     "exception": false,
     "start_time": "2023-01-05T04:54:14.945625",
     "status": "completed"
    },
    "tags": []
   },
   "outputs": [],
   "source": [
    "x_train = pd.DataFrame(x_train, columns=[cols])\n",
    "x_test = pd.DataFrame(x_test, columns=[cols])"
   ]
  },
  {
   "cell_type": "code",
   "execution_count": 34,
   "id": "88608243",
   "metadata": {
    "execution": {
     "iopub.execute_input": "2023-01-05T04:54:15.024806Z",
     "iopub.status.busy": "2023-01-05T04:54:15.023483Z",
     "iopub.status.idle": "2023-01-05T04:54:15.047216Z",
     "shell.execute_reply": "2023-01-05T04:54:15.045943Z"
    },
    "papermill": {
     "duration": 0.049451,
     "end_time": "2023-01-05T04:54:15.049394",
     "exception": false,
     "start_time": "2023-01-05T04:54:14.999943",
     "status": "completed"
    },
    "tags": []
   },
   "outputs": [
    {
     "data": {
      "text/html": [
       "<div>\n",
       "<style scoped>\n",
       "    .dataframe tbody tr th:only-of-type {\n",
       "        vertical-align: middle;\n",
       "    }\n",
       "\n",
       "    .dataframe tbody tr th {\n",
       "        vertical-align: top;\n",
       "    }\n",
       "\n",
       "    .dataframe thead tr th {\n",
       "        text-align: left;\n",
       "    }\n",
       "</style>\n",
       "<table border=\"1\" class=\"dataframe\">\n",
       "  <thead>\n",
       "    <tr>\n",
       "      <th></th>\n",
       "      <th>Clump_thickness</th>\n",
       "      <th>Uniformity_Cell_Size</th>\n",
       "      <th>Uniformity_Cell_Shape</th>\n",
       "      <th>Marginal_Adhesion</th>\n",
       "      <th>Single_Epithelial_Cell_Size</th>\n",
       "      <th>Bare_Nuclei</th>\n",
       "      <th>Bland_Chromatin</th>\n",
       "      <th>Normal_Nucleoli</th>\n",
       "      <th>Mitoses</th>\n",
       "    </tr>\n",
       "  </thead>\n",
       "  <tbody>\n",
       "    <tr>\n",
       "      <th>0</th>\n",
       "      <td>-1.223357</td>\n",
       "      <td>-0.041428</td>\n",
       "      <td>-0.052663</td>\n",
       "      <td>-0.271982</td>\n",
       "      <td>-0.541317</td>\n",
       "      <td>-0.680544</td>\n",
       "      <td>1.443213</td>\n",
       "      <td>-0.270736</td>\n",
       "      <td>-0.330292</td>\n",
       "    </tr>\n",
       "    <tr>\n",
       "      <th>1</th>\n",
       "      <td>-1.223357</td>\n",
       "      <td>-0.683232</td>\n",
       "      <td>-0.720177</td>\n",
       "      <td>-0.624980</td>\n",
       "      <td>-0.984544</td>\n",
       "      <td>-0.680544</td>\n",
       "      <td>-0.995176</td>\n",
       "      <td>-0.592979</td>\n",
       "      <td>-0.330292</td>\n",
       "    </tr>\n",
       "    <tr>\n",
       "      <th>2</th>\n",
       "      <td>-1.223357</td>\n",
       "      <td>-0.683232</td>\n",
       "      <td>-0.720177</td>\n",
       "      <td>-0.624980</td>\n",
       "      <td>-0.541317</td>\n",
       "      <td>-0.680544</td>\n",
       "      <td>-0.588778</td>\n",
       "      <td>-0.592979</td>\n",
       "      <td>-0.330292</td>\n",
       "    </tr>\n",
       "    <tr>\n",
       "      <th>3</th>\n",
       "      <td>-1.223357</td>\n",
       "      <td>-0.683232</td>\n",
       "      <td>-0.720177</td>\n",
       "      <td>-0.624980</td>\n",
       "      <td>-0.984544</td>\n",
       "      <td>-0.680544</td>\n",
       "      <td>-0.588778</td>\n",
       "      <td>-0.592979</td>\n",
       "      <td>-0.330292</td>\n",
       "    </tr>\n",
       "    <tr>\n",
       "      <th>4</th>\n",
       "      <td>1.992074</td>\n",
       "      <td>2.204887</td>\n",
       "      <td>2.283638</td>\n",
       "      <td>1.493008</td>\n",
       "      <td>2.561267</td>\n",
       "      <td>1.830905</td>\n",
       "      <td>1.443213</td>\n",
       "      <td>2.307202</td>\n",
       "      <td>5.143826</td>\n",
       "    </tr>\n",
       "    <tr>\n",
       "      <th>...</th>\n",
       "      <td>...</td>\n",
       "      <td>...</td>\n",
       "      <td>...</td>\n",
       "      <td>...</td>\n",
       "      <td>...</td>\n",
       "      <td>...</td>\n",
       "      <td>...</td>\n",
       "      <td>...</td>\n",
       "      <td>...</td>\n",
       "    </tr>\n",
       "    <tr>\n",
       "      <th>483</th>\n",
       "      <td>0.562993</td>\n",
       "      <td>2.204887</td>\n",
       "      <td>2.283638</td>\n",
       "      <td>2.552002</td>\n",
       "      <td>3.004493</td>\n",
       "      <td>1.830905</td>\n",
       "      <td>1.849612</td>\n",
       "      <td>2.307202</td>\n",
       "      <td>5.143826</td>\n",
       "    </tr>\n",
       "    <tr>\n",
       "      <th>484</th>\n",
       "      <td>-1.223357</td>\n",
       "      <td>-0.683232</td>\n",
       "      <td>-0.720177</td>\n",
       "      <td>-0.624980</td>\n",
       "      <td>-0.541317</td>\n",
       "      <td>-0.680544</td>\n",
       "      <td>-0.182380</td>\n",
       "      <td>-0.592979</td>\n",
       "      <td>-0.330292</td>\n",
       "    </tr>\n",
       "    <tr>\n",
       "      <th>485</th>\n",
       "      <td>0.562993</td>\n",
       "      <td>-0.362330</td>\n",
       "      <td>-0.052663</td>\n",
       "      <td>-0.624980</td>\n",
       "      <td>-0.541317</td>\n",
       "      <td>-0.680544</td>\n",
       "      <td>-0.995176</td>\n",
       "      <td>-0.592979</td>\n",
       "      <td>-0.330292</td>\n",
       "    </tr>\n",
       "    <tr>\n",
       "      <th>486</th>\n",
       "      <td>0.205723</td>\n",
       "      <td>-0.683232</td>\n",
       "      <td>-0.720177</td>\n",
       "      <td>-0.624980</td>\n",
       "      <td>-0.541317</td>\n",
       "      <td>-0.680544</td>\n",
       "      <td>-0.182380</td>\n",
       "      <td>-0.592979</td>\n",
       "      <td>-0.330292</td>\n",
       "    </tr>\n",
       "    <tr>\n",
       "      <th>487</th>\n",
       "      <td>-1.223357</td>\n",
       "      <td>-0.683232</td>\n",
       "      <td>-0.720177</td>\n",
       "      <td>-0.624980</td>\n",
       "      <td>-0.541317</td>\n",
       "      <td>-0.680544</td>\n",
       "      <td>-0.995176</td>\n",
       "      <td>-0.592979</td>\n",
       "      <td>-0.330292</td>\n",
       "    </tr>\n",
       "  </tbody>\n",
       "</table>\n",
       "<p>488 rows × 9 columns</p>\n",
       "</div>"
      ],
      "text/plain": [
       "    Clump_thickness Uniformity_Cell_Size Uniformity_Cell_Shape  \\\n",
       "0         -1.223357            -0.041428             -0.052663   \n",
       "1         -1.223357            -0.683232             -0.720177   \n",
       "2         -1.223357            -0.683232             -0.720177   \n",
       "3         -1.223357            -0.683232             -0.720177   \n",
       "4          1.992074             2.204887              2.283638   \n",
       "..              ...                  ...                   ...   \n",
       "483        0.562993             2.204887              2.283638   \n",
       "484       -1.223357            -0.683232             -0.720177   \n",
       "485        0.562993            -0.362330             -0.052663   \n",
       "486        0.205723            -0.683232             -0.720177   \n",
       "487       -1.223357            -0.683232             -0.720177   \n",
       "\n",
       "    Marginal_Adhesion Single_Epithelial_Cell_Size Bare_Nuclei Bland_Chromatin  \\\n",
       "0           -0.271982                   -0.541317   -0.680544        1.443213   \n",
       "1           -0.624980                   -0.984544   -0.680544       -0.995176   \n",
       "2           -0.624980                   -0.541317   -0.680544       -0.588778   \n",
       "3           -0.624980                   -0.984544   -0.680544       -0.588778   \n",
       "4            1.493008                    2.561267    1.830905        1.443213   \n",
       "..                ...                         ...         ...             ...   \n",
       "483          2.552002                    3.004493    1.830905        1.849612   \n",
       "484         -0.624980                   -0.541317   -0.680544       -0.182380   \n",
       "485         -0.624980                   -0.541317   -0.680544       -0.995176   \n",
       "486         -0.624980                   -0.541317   -0.680544       -0.182380   \n",
       "487         -0.624980                   -0.541317   -0.680544       -0.995176   \n",
       "\n",
       "    Normal_Nucleoli   Mitoses  \n",
       "0         -0.270736 -0.330292  \n",
       "1         -0.592979 -0.330292  \n",
       "2         -0.592979 -0.330292  \n",
       "3         -0.592979 -0.330292  \n",
       "4          2.307202  5.143826  \n",
       "..              ...       ...  \n",
       "483        2.307202  5.143826  \n",
       "484       -0.592979 -0.330292  \n",
       "485       -0.592979 -0.330292  \n",
       "486       -0.592979 -0.330292  \n",
       "487       -0.592979 -0.330292  \n",
       "\n",
       "[488 rows x 9 columns]"
      ]
     },
     "execution_count": 34,
     "metadata": {},
     "output_type": "execute_result"
    }
   ],
   "source": [
    "x_train"
   ]
  },
  {
   "cell_type": "markdown",
   "id": "7acc0e48",
   "metadata": {
    "papermill": {
     "duration": 0.021396,
     "end_time": "2023-01-05T04:54:15.095015",
     "exception": false,
     "start_time": "2023-01-05T04:54:15.073619",
     "status": "completed"
    },
    "tags": []
   },
   "source": [
    "> ## Fit K Neighbours Classifier to the training set"
   ]
  },
  {
   "cell_type": "code",
   "execution_count": 35,
   "id": "b653f8cb",
   "metadata": {
    "execution": {
     "iopub.execute_input": "2023-01-05T04:54:15.144361Z",
     "iopub.status.busy": "2023-01-05T04:54:15.143794Z",
     "iopub.status.idle": "2023-01-05T04:54:15.151499Z",
     "shell.execute_reply": "2023-01-05T04:54:15.150000Z"
    },
    "papermill": {
     "duration": 0.036938,
     "end_time": "2023-01-05T04:54:15.154412",
     "exception": false,
     "start_time": "2023-01-05T04:54:15.117474",
     "status": "completed"
    },
    "tags": []
   },
   "outputs": [
    {
     "data": {
      "text/plain": [
       "((488, 9), (488,))"
      ]
     },
     "execution_count": 35,
     "metadata": {},
     "output_type": "execute_result"
    }
   ],
   "source": [
    "x_train.shape, y_train.shape"
   ]
  },
  {
   "cell_type": "code",
   "execution_count": 36,
   "id": "0edf0719",
   "metadata": {
    "execution": {
     "iopub.execute_input": "2023-01-05T04:54:15.199890Z",
     "iopub.status.busy": "2023-01-05T04:54:15.199481Z",
     "iopub.status.idle": "2023-01-05T04:54:15.342245Z",
     "shell.execute_reply": "2023-01-05T04:54:15.339634Z"
    },
    "papermill": {
     "duration": 0.169878,
     "end_time": "2023-01-05T04:54:15.346095",
     "exception": false,
     "start_time": "2023-01-05T04:54:15.176217",
     "status": "completed"
    },
    "tags": []
   },
   "outputs": [
    {
     "name": "stderr",
     "output_type": "stream",
     "text": [
      "C:\\Users\\Admin\\anaconda3\\lib\\site-packages\\sklearn\\utils\\validation.py:1688: FutureWarning: Feature names only support names that are all strings. Got feature names with dtypes: ['tuple']. An error will be raised in 1.2.\n",
      "  warnings.warn(\n"
     ]
    },
    {
     "data": {
      "text/plain": [
       "KNeighborsClassifier(n_neighbors=3)"
      ]
     },
     "execution_count": 36,
     "metadata": {},
     "output_type": "execute_result"
    }
   ],
   "source": [
    "from sklearn.neighbors import KNeighborsClassifier\n",
    "knn = KNeighborsClassifier(n_neighbors=3)\n",
    "knn.fit(x_train, y_train)"
   ]
  },
  {
   "cell_type": "markdown",
   "id": "ea2f8f16",
   "metadata": {
    "papermill": {
     "duration": 0.023602,
     "end_time": "2023-01-05T04:54:15.392423",
     "exception": false,
     "start_time": "2023-01-05T04:54:15.368821",
     "status": "completed"
    },
    "tags": []
   },
   "source": [
    "> ## Predict test-set results "
   ]
  },
  {
   "cell_type": "code",
   "execution_count": 37,
   "id": "c39a1b1f",
   "metadata": {
    "execution": {
     "iopub.execute_input": "2023-01-05T04:54:15.442424Z",
     "iopub.status.busy": "2023-01-05T04:54:15.442025Z",
     "iopub.status.idle": "2023-01-05T04:54:15.461305Z",
     "shell.execute_reply": "2023-01-05T04:54:15.460162Z"
    },
    "papermill": {
     "duration": 0.046329,
     "end_time": "2023-01-05T04:54:15.463233",
     "exception": false,
     "start_time": "2023-01-05T04:54:15.416904",
     "status": "completed"
    },
    "tags": []
   },
   "outputs": [
    {
     "name": "stderr",
     "output_type": "stream",
     "text": [
      "C:\\Users\\Admin\\anaconda3\\lib\\site-packages\\sklearn\\utils\\validation.py:1688: FutureWarning: Feature names only support names that are all strings. Got feature names with dtypes: ['tuple']. An error will be raised in 1.2.\n",
      "  warnings.warn(\n"
     ]
    },
    {
     "data": {
      "text/plain": [
       "array([4, 2, 4, 4, 2, 2, 2, 2, 2, 2, 2, 2, 2, 2, 2, 2, 2, 2, 4, 4, 2, 4,\n",
       "       4, 4, 2, 4, 4, 4, 4, 2, 4, 2, 2, 2, 2, 2, 2, 4, 2, 2, 2, 2, 2, 4,\n",
       "       4, 4, 2, 4, 2, 4, 2, 2, 2, 4, 2, 2, 2, 2, 2, 4, 4, 4, 4, 4, 2, 4,\n",
       "       4, 2, 4, 4, 2, 2, 4, 2, 2, 2, 4, 2, 4, 2, 4, 2, 2, 2, 2, 2, 4, 2,\n",
       "       2, 4, 4, 4, 2, 4, 2, 4, 2, 2, 2, 2, 4, 4, 4, 4, 2, 2, 4, 2, 2, 2,\n",
       "       2, 2, 2, 2, 2, 2, 4, 2, 2, 4, 2, 2, 4, 4, 4, 2, 2, 4, 2, 2, 4, 4,\n",
       "       2, 4, 2, 2, 2, 2, 4, 4, 2, 2, 4, 4, 2, 2, 2, 4, 2, 2, 2, 4, 2, 4,\n",
       "       2, 2, 2, 2, 2, 4, 4, 2, 2, 2, 4, 2, 2, 2, 4, 2, 2, 2, 2, 4, 4, 2,\n",
       "       4, 2, 2, 2, 2, 2, 4, 2, 4, 2, 2, 4, 4, 2, 2, 4, 2, 2, 2, 2, 4, 4,\n",
       "       2, 2, 2, 2, 2, 2, 2, 2, 4, 4, 2, 2], dtype=int64)"
      ]
     },
     "execution_count": 37,
     "metadata": {},
     "output_type": "execute_result"
    }
   ],
   "source": [
    "y_pred = knn.predict(x_test)\n",
    "y_pred"
   ]
  },
  {
   "cell_type": "markdown",
   "id": "427d74b4",
   "metadata": {
    "papermill": {
     "duration": 0.021266,
     "end_time": "2023-01-05T04:54:15.506200",
     "exception": false,
     "start_time": "2023-01-05T04:54:15.484934",
     "status": "completed"
    },
    "tags": []
   },
   "source": [
    "> ## Check accuracy score "
   ]
  },
  {
   "cell_type": "code",
   "execution_count": 38,
   "id": "81404aa7",
   "metadata": {
    "execution": {
     "iopub.execute_input": "2023-01-05T04:54:15.551839Z",
     "iopub.status.busy": "2023-01-05T04:54:15.551361Z",
     "iopub.status.idle": "2023-01-05T04:54:15.558625Z",
     "shell.execute_reply": "2023-01-05T04:54:15.557121Z"
    },
    "papermill": {
     "duration": 0.033331,
     "end_time": "2023-01-05T04:54:15.561042",
     "exception": false,
     "start_time": "2023-01-05T04:54:15.527711",
     "status": "completed"
    },
    "tags": []
   },
   "outputs": [
    {
     "name": "stdout",
     "output_type": "stream",
     "text": [
      "Model accuracy score: 0.9571\n"
     ]
    }
   ],
   "source": [
    "from sklearn.metrics import accuracy_score\n",
    "print('Model accuracy score: {0:0.4f}'. format(accuracy_score(y_test, y_pred)))"
   ]
  },
  {
   "cell_type": "markdown",
   "id": "b7ccba3b",
   "metadata": {
    "papermill": {
     "duration": 0.021893,
     "end_time": "2023-01-05T04:54:15.605650",
     "exception": false,
     "start_time": "2023-01-05T04:54:15.583757",
     "status": "completed"
    },
    "tags": []
   },
   "source": [
    "> ## Check for overfitting and underfitting"
   ]
  },
  {
   "cell_type": "code",
   "execution_count": 39,
   "id": "f2ebaffd",
   "metadata": {
    "execution": {
     "iopub.execute_input": "2023-01-05T04:54:15.650690Z",
     "iopub.status.busy": "2023-01-05T04:54:15.650340Z",
     "iopub.status.idle": "2023-01-05T04:54:15.680198Z",
     "shell.execute_reply": "2023-01-05T04:54:15.678706Z"
    },
    "papermill": {
     "duration": 0.054834,
     "end_time": "2023-01-05T04:54:15.682430",
     "exception": false,
     "start_time": "2023-01-05T04:54:15.627596",
     "status": "completed"
    },
    "tags": []
   },
   "outputs": [
    {
     "name": "stdout",
     "output_type": "stream",
     "text": [
      "Training set score: 0.9795\n",
      "Test set score: 0.9571\n"
     ]
    },
    {
     "name": "stderr",
     "output_type": "stream",
     "text": [
      "C:\\Users\\Admin\\anaconda3\\lib\\site-packages\\sklearn\\utils\\validation.py:1688: FutureWarning: Feature names only support names that are all strings. Got feature names with dtypes: ['tuple']. An error will be raised in 1.2.\n",
      "  warnings.warn(\n",
      "C:\\Users\\Admin\\anaconda3\\lib\\site-packages\\sklearn\\utils\\validation.py:1688: FutureWarning: Feature names only support names that are all strings. Got feature names with dtypes: ['tuple']. An error will be raised in 1.2.\n",
      "  warnings.warn(\n"
     ]
    }
   ],
   "source": [
    "print('Training set score: {:.4f}'.format(knn.score(x_train, y_train)))\n",
    "print('Test set score: {:.4f}'.format(knn.score(x_test, y_test)))"
   ]
  },
  {
   "cell_type": "markdown",
   "id": "8e52a458",
   "metadata": {
    "papermill": {
     "duration": 0.022768,
     "end_time": "2023-01-05T04:54:15.727007",
     "exception": false,
     "start_time": "2023-01-05T04:54:15.704239",
     "status": "completed"
    },
    "tags": []
   },
   "source": [
    "> ## Compare model accuracy with null accuracy"
   ]
  },
  {
   "cell_type": "markdown",
   "id": "87cd4647",
   "metadata": {
    "papermill": {
     "duration": 0.02367,
     "end_time": "2023-01-05T04:54:15.774888",
     "exception": false,
     "start_time": "2023-01-05T04:54:15.751218",
     "status": "completed"
    },
    "tags": []
   },
   "source": [
    "So, the model accuracy is 0.9571. But, we cannot say that our model is very good based on the above accuracy. We must compare it with the null accuracy. Null accuracy is the accuracy that could be achieved by always predicting the most frequent class.\n",
    "\n",
    "So, we should first check the class distribution in the test set."
   ]
  },
  {
   "cell_type": "code",
   "execution_count": 40,
   "id": "1ce8e6a5",
   "metadata": {
    "execution": {
     "iopub.execute_input": "2023-01-05T04:54:15.823600Z",
     "iopub.status.busy": "2023-01-05T04:54:15.823225Z",
     "iopub.status.idle": "2023-01-05T04:54:15.831690Z",
     "shell.execute_reply": "2023-01-05T04:54:15.830591Z"
    },
    "papermill": {
     "duration": 0.035147,
     "end_time": "2023-01-05T04:54:15.833819",
     "exception": false,
     "start_time": "2023-01-05T04:54:15.798672",
     "status": "completed"
    },
    "tags": []
   },
   "outputs": [
    {
     "data": {
      "text/plain": [
       "2    133\n",
       "4     77\n",
       "Name: Class, dtype: int64"
      ]
     },
     "execution_count": 40,
     "metadata": {},
     "output_type": "execute_result"
    }
   ],
   "source": [
    "y_test.value_counts()"
   ]
  },
  {
   "cell_type": "markdown",
   "id": "73d74dc6",
   "metadata": {
    "papermill": {
     "duration": 0.023295,
     "end_time": "2023-01-05T04:54:15.880636",
     "exception": false,
     "start_time": "2023-01-05T04:54:15.857341",
     "status": "completed"
    },
    "tags": []
   },
   "source": [
    "We can see that the occurences of most frequent class is 133. So, we can calculate null accuracy by dividing 133 by total number of occurences."
   ]
  },
  {
   "cell_type": "code",
   "execution_count": 41,
   "id": "4cff808e",
   "metadata": {
    "execution": {
     "iopub.execute_input": "2023-01-05T04:54:15.929401Z",
     "iopub.status.busy": "2023-01-05T04:54:15.929009Z",
     "iopub.status.idle": "2023-01-05T04:54:15.935450Z",
     "shell.execute_reply": "2023-01-05T04:54:15.934066Z"
    },
    "papermill": {
     "duration": 0.034082,
     "end_time": "2023-01-05T04:54:15.938389",
     "exception": false,
     "start_time": "2023-01-05T04:54:15.904307",
     "status": "completed"
    },
    "tags": []
   },
   "outputs": [
    {
     "name": "stdout",
     "output_type": "stream",
     "text": [
      "Null accuracy score: 0.6333\n"
     ]
    }
   ],
   "source": [
    "null_accuracy = (133/(133+77))\n",
    "print('Null accuracy score: {0:0.4f}'. format(null_accuracy))"
   ]
  },
  {
   "cell_type": "markdown",
   "id": "29693baf",
   "metadata": {
    "papermill": {
     "duration": 0.02331,
     "end_time": "2023-01-05T04:54:15.985473",
     "exception": false,
     "start_time": "2023-01-05T04:54:15.962163",
     "status": "completed"
    },
    "tags": []
   },
   "source": [
    "We can see that our model accuracy score is 0.9571 but null accuracy score is 0.6333. So, we can conclude that our K Nearest Neighbors model is doing a very good job in predicting the class labels."
   ]
  },
  {
   "cell_type": "markdown",
   "id": "db7bda47",
   "metadata": {
    "papermill": {
     "duration": 0.022668,
     "end_time": "2023-01-05T04:54:16.030726",
     "exception": false,
     "start_time": "2023-01-05T04:54:16.008058",
     "status": "completed"
    },
    "tags": []
   },
   "source": [
    "> ## Rebuild kNN Classification model using different values of k"
   ]
  },
  {
   "cell_type": "code",
   "execution_count": 42,
   "id": "bc4e2342",
   "metadata": {
    "execution": {
     "iopub.execute_input": "2023-01-05T04:54:16.083765Z",
     "iopub.status.busy": "2023-01-05T04:54:16.083283Z",
     "iopub.status.idle": "2023-01-05T04:54:16.100811Z",
     "shell.execute_reply": "2023-01-05T04:54:16.099896Z"
    },
    "papermill": {
     "duration": 0.046602,
     "end_time": "2023-01-05T04:54:16.103279",
     "exception": false,
     "start_time": "2023-01-05T04:54:16.056677",
     "status": "completed"
    },
    "tags": []
   },
   "outputs": [
    {
     "name": "stdout",
     "output_type": "stream",
     "text": [
      "Model accuracy score with k=5 : 0.9571\n"
     ]
    },
    {
     "name": "stderr",
     "output_type": "stream",
     "text": [
      "C:\\Users\\Admin\\anaconda3\\lib\\site-packages\\sklearn\\utils\\validation.py:1688: FutureWarning: Feature names only support names that are all strings. Got feature names with dtypes: ['tuple']. An error will be raised in 1.2.\n",
      "  warnings.warn(\n",
      "C:\\Users\\Admin\\anaconda3\\lib\\site-packages\\sklearn\\utils\\validation.py:1688: FutureWarning: Feature names only support names that are all strings. Got feature names with dtypes: ['tuple']. An error will be raised in 1.2.\n",
      "  warnings.warn(\n"
     ]
    }
   ],
   "source": [
    "knn_5 = KNeighborsClassifier(n_neighbors=5)\n",
    "\n",
    "knn_5.fit(x_train, y_train)\n",
    "\n",
    "y_pred_5 = knn_5.predict(x_test)\n",
    "\n",
    "print('Model accuracy score with k=5 : {0:0.4f}'. format(accuracy_score(y_test, y_pred_5)))"
   ]
  },
  {
   "cell_type": "code",
   "execution_count": 43,
   "id": "209fb5fc",
   "metadata": {
    "execution": {
     "iopub.execute_input": "2023-01-05T04:54:16.151858Z",
     "iopub.status.busy": "2023-01-05T04:54:16.151448Z",
     "iopub.status.idle": "2023-01-05T04:54:16.172758Z",
     "shell.execute_reply": "2023-01-05T04:54:16.170108Z"
    },
    "papermill": {
     "duration": 0.049697,
     "end_time": "2023-01-05T04:54:16.176250",
     "exception": false,
     "start_time": "2023-01-05T04:54:16.126553",
     "status": "completed"
    },
    "tags": []
   },
   "outputs": [
    {
     "name": "stdout",
     "output_type": "stream",
     "text": [
      "Model accuracy score with k=6 : 0.9571\n"
     ]
    },
    {
     "name": "stderr",
     "output_type": "stream",
     "text": [
      "C:\\Users\\Admin\\anaconda3\\lib\\site-packages\\sklearn\\utils\\validation.py:1688: FutureWarning: Feature names only support names that are all strings. Got feature names with dtypes: ['tuple']. An error will be raised in 1.2.\n",
      "  warnings.warn(\n",
      "C:\\Users\\Admin\\anaconda3\\lib\\site-packages\\sklearn\\utils\\validation.py:1688: FutureWarning: Feature names only support names that are all strings. Got feature names with dtypes: ['tuple']. An error will be raised in 1.2.\n",
      "  warnings.warn(\n"
     ]
    }
   ],
   "source": [
    "knn_6 = KNeighborsClassifier(n_neighbors=6)\n",
    "\n",
    "knn_6.fit(x_train, y_train)\n",
    "\n",
    "y_pred_6 = knn_6.predict(x_test)\n",
    "\n",
    "print('Model accuracy score with k=6 : {0:0.4f}'. format(accuracy_score(y_test, y_pred_6)))"
   ]
  },
  {
   "cell_type": "code",
   "execution_count": 44,
   "id": "4805a1dd",
   "metadata": {
    "execution": {
     "iopub.execute_input": "2023-01-05T04:54:16.231160Z",
     "iopub.status.busy": "2023-01-05T04:54:16.230792Z",
     "iopub.status.idle": "2023-01-05T04:54:16.247967Z",
     "shell.execute_reply": "2023-01-05T04:54:16.246082Z"
    },
    "papermill": {
     "duration": 0.047218,
     "end_time": "2023-01-05T04:54:16.251453",
     "exception": false,
     "start_time": "2023-01-05T04:54:16.204235",
     "status": "completed"
    },
    "tags": []
   },
   "outputs": [
    {
     "name": "stdout",
     "output_type": "stream",
     "text": [
      "Model accuracy score with k=7 : 0.9571\n"
     ]
    },
    {
     "name": "stderr",
     "output_type": "stream",
     "text": [
      "C:\\Users\\Admin\\anaconda3\\lib\\site-packages\\sklearn\\utils\\validation.py:1688: FutureWarning: Feature names only support names that are all strings. Got feature names with dtypes: ['tuple']. An error will be raised in 1.2.\n",
      "  warnings.warn(\n",
      "C:\\Users\\Admin\\anaconda3\\lib\\site-packages\\sklearn\\utils\\validation.py:1688: FutureWarning: Feature names only support names that are all strings. Got feature names with dtypes: ['tuple']. An error will be raised in 1.2.\n",
      "  warnings.warn(\n"
     ]
    }
   ],
   "source": [
    "knn_7 = KNeighborsClassifier(n_neighbors=6)\n",
    "\n",
    "knn_7.fit(x_train, y_train)\n",
    "\n",
    "y_pred_7 = knn_7.predict(x_test)\n",
    "\n",
    "print('Model accuracy score with k=7 : {0:0.4f}'. format(accuracy_score(y_test, y_pred_7)))"
   ]
  },
  {
   "cell_type": "markdown",
   "id": "46996c18",
   "metadata": {
    "papermill": {
     "duration": 0.023751,
     "end_time": "2023-01-05T04:54:16.301861",
     "exception": false,
     "start_time": "2023-01-05T04:54:16.278110",
     "status": "completed"
    },
    "tags": []
   },
   "source": [
    "> ## Confusion matrix"
   ]
  },
  {
   "cell_type": "markdown",
   "id": "776920fe",
   "metadata": {
    "papermill": {
     "duration": 0.023297,
     "end_time": "2023-01-05T04:54:16.348799",
     "exception": false,
     "start_time": "2023-01-05T04:54:16.325502",
     "status": "completed"
    },
    "tags": []
   },
   "source": [
    "A confusion matrix is a tool for summarizing the performance of a classification algorithm. A confusion matrix will give us a clear picture of classification model performance and the types of errors produced by the model. It gives us a summary of correct and incorrect predictions broken down by each category. The summary is represented in a tabular form.\n",
    "\n",
    "Four types of outcomes are possible while evaluating a classification model performance. These four outcomes are described below:-\n",
    "\n",
    "* True Positives (TP) – True Positives occur when we predict an observation belongs to a certain class and the observation actually belongs to that class.\n",
    "\n",
    "* True Negatives (TN) – True Negatives occur when we predict an observation does not belong to a certain class and the observation actually does not belong to that class.\n",
    "\n",
    "* False Positives (FP) – False Positives occur when we predict an observation belongs to a certain class but the observation actually does not belong to that class. This type of error is called Type I error.\n",
    "\n",
    "* False Negatives (FN) – False Negatives occur when we predict an observation does not belong to a certain class but the observation actually belongs to that class. This is a very serious error and it is called Type II error."
   ]
  },
  {
   "cell_type": "code",
   "execution_count": 45,
   "id": "bc90f6d1",
   "metadata": {
    "execution": {
     "iopub.execute_input": "2023-01-05T04:54:16.396836Z",
     "iopub.status.busy": "2023-01-05T04:54:16.396455Z",
     "iopub.status.idle": "2023-01-05T04:54:16.408103Z",
     "shell.execute_reply": "2023-01-05T04:54:16.406307Z"
    },
    "papermill": {
     "duration": 0.038081,
     "end_time": "2023-01-05T04:54:16.410323",
     "exception": false,
     "start_time": "2023-01-05T04:54:16.372242",
     "status": "completed"
    },
    "tags": []
   },
   "outputs": [
    {
     "name": "stdout",
     "output_type": "stream",
     "text": [
      "Confusion matrix\n",
      " [[129   4]\n",
      " [  5  72]]\n",
      "\n",
      "True Positives(TP) =  129\n",
      "\n",
      "True Negatives(TN) =  72\n",
      "\n",
      "False Positives(FP) =  4\n",
      "\n",
      "False Negatives(FN) =  5\n"
     ]
    }
   ],
   "source": [
    "from sklearn.metrics import confusion_matrix\n",
    "\n",
    "cm = confusion_matrix(y_test, y_pred)\n",
    "\n",
    "print('Confusion matrix\\n', cm)\n",
    "\n",
    "print('\\nTrue Positives(TP) = ', cm[0,0])\n",
    "\n",
    "print('\\nTrue Negatives(TN) = ', cm[1,1])\n",
    "\n",
    "print('\\nFalse Positives(FP) = ', cm[0,1])\n",
    "\n",
    "print('\\nFalse Negatives(FN) = ', cm[1,0])"
   ]
  },
  {
   "cell_type": "code",
   "execution_count": 46,
   "id": "7a62e937",
   "metadata": {
    "execution": {
     "iopub.execute_input": "2023-01-05T04:54:16.459855Z",
     "iopub.status.busy": "2023-01-05T04:54:16.459429Z",
     "iopub.status.idle": "2023-01-05T04:54:16.465236Z",
     "shell.execute_reply": "2023-01-05T04:54:16.464100Z"
    },
    "papermill": {
     "duration": 0.03299,
     "end_time": "2023-01-05T04:54:16.467320",
     "exception": false,
     "start_time": "2023-01-05T04:54:16.434330",
     "status": "completed"
    },
    "tags": []
   },
   "outputs": [
    {
     "name": "stdout",
     "output_type": "stream",
     "text": [
      "Confusion matrix\n",
      "\n",
      " [[129   4]\n",
      " [  5  72]]\n"
     ]
    }
   ],
   "source": [
    "cm_6 = confusion_matrix(y_test, y_pred_6)\n",
    "\n",
    "print('Confusion matrix\\n\\n', cm_6)"
   ]
  },
  {
   "cell_type": "markdown",
   "id": "f333471d",
   "metadata": {
    "papermill": {
     "duration": 0.023914,
     "end_time": "2023-01-05T04:54:16.514851",
     "exception": false,
     "start_time": "2023-01-05T04:54:16.490937",
     "status": "completed"
    },
    "tags": []
   },
   "source": [
    "##### k = 3 itself is giving us the best results"
   ]
  },
  {
   "cell_type": "code",
   "execution_count": 47,
   "id": "da7130a7",
   "metadata": {
    "execution": {
     "iopub.execute_input": "2023-01-05T04:54:16.565414Z",
     "iopub.status.busy": "2023-01-05T04:54:16.564840Z",
     "iopub.status.idle": "2023-01-05T04:54:16.757964Z",
     "shell.execute_reply": "2023-01-05T04:54:16.756606Z"
    },
    "papermill": {
     "duration": 0.220879,
     "end_time": "2023-01-05T04:54:16.760546",
     "exception": false,
     "start_time": "2023-01-05T04:54:16.539667",
     "status": "completed"
    },
    "tags": []
   },
   "outputs": [
    {
     "data": {
      "text/plain": [
       "<AxesSubplot:>"
      ]
     },
     "execution_count": 47,
     "metadata": {},
     "output_type": "execute_result"
    },
    {
     "data": {
      "image/png": "[encoded data removed]",
      "text/plain": [
       "<Figure size 576x432 with 2 Axes>"
      ]
     },
     "metadata": {
      "needs_background": "light"
     },
     "output_type": "display_data"
    }
   ],
   "source": [
    "plt.figure(figsize=(8,6))\n",
    "cm_matrix = pd.DataFrame(data=cm, columns=['Actual Positive:1', 'Actual Negative:0'], \n",
    "                                 index=['Predict Positive:1', 'Predict Negative:0'])\n",
    "sns.heatmap(cm_matrix, annot=True, fmt='d', cmap='YlGnBu')"
   ]
  },
  {
   "cell_type": "markdown",
   "id": "b5472215",
   "metadata": {
    "papermill": {
     "duration": 0.024045,
     "end_time": "2023-01-05T04:54:16.809486",
     "exception": false,
     "start_time": "2023-01-05T04:54:16.785441",
     "status": "completed"
    },
    "tags": []
   },
   "source": [
    "> ## Classification metrices"
   ]
  },
  {
   "cell_type": "code",
   "execution_count": 48,
   "id": "bb06fc72",
   "metadata": {
    "execution": {
     "iopub.execute_input": "2023-01-05T04:54:16.858075Z",
     "iopub.status.busy": "2023-01-05T04:54:16.857734Z",
     "iopub.status.idle": "2023-01-05T04:54:16.867312Z",
     "shell.execute_reply": "2023-01-05T04:54:16.866364Z"
    },
    "papermill": {
     "duration": 0.035523,
     "end_time": "2023-01-05T04:54:16.869273",
     "exception": false,
     "start_time": "2023-01-05T04:54:16.833750",
     "status": "completed"
    },
    "tags": []
   },
   "outputs": [
    {
     "name": "stdout",
     "output_type": "stream",
     "text": [
      "              precision    recall  f1-score   support\n",
      "\n",
      "           2       0.96      0.97      0.97       133\n",
      "           4       0.95      0.94      0.94        77\n",
      "\n",
      "    accuracy                           0.96       210\n",
      "   macro avg       0.96      0.95      0.95       210\n",
      "weighted avg       0.96      0.96      0.96       210\n",
      "\n"
     ]
    }
   ],
   "source": [
    "from sklearn.metrics import classification_report\n",
    "print(classification_report(y_test, y_pred))"
   ]
  },
  {
   "cell_type": "code",
   "execution_count": 49,
   "id": "e4ba7d0b",
   "metadata": {
    "execution": {
     "iopub.execute_input": "2023-01-05T04:54:16.919845Z",
     "iopub.status.busy": "2023-01-05T04:54:16.918327Z",
     "iopub.status.idle": "2023-01-05T04:54:16.926187Z",
     "shell.execute_reply": "2023-01-05T04:54:16.924198Z"
    },
    "papermill": {
     "duration": 0.036706,
     "end_time": "2023-01-05T04:54:16.928801",
     "exception": false,
     "start_time": "2023-01-05T04:54:16.892095",
     "status": "completed"
    },
    "tags": []
   },
   "outputs": [],
   "source": [
    "TP = cm[0,0]\n",
    "TN = cm[1,1]\n",
    "FP = cm[0,1]\n",
    "FN = cm[1,0]"
   ]
  },
  {
   "cell_type": "code",
   "execution_count": 50,
   "id": "c778467a",
   "metadata": {
    "execution": {
     "iopub.execute_input": "2023-01-05T04:54:16.978960Z",
     "iopub.status.busy": "2023-01-05T04:54:16.978339Z",
     "iopub.status.idle": "2023-01-05T04:54:16.988845Z",
     "shell.execute_reply": "2023-01-05T04:54:16.987192Z"
    },
    "papermill": {
     "duration": 0.039119,
     "end_time": "2023-01-05T04:54:16.991662",
     "exception": false,
     "start_time": "2023-01-05T04:54:16.952543",
     "status": "completed"
    },
    "tags": []
   },
   "outputs": [
    {
     "name": "stdout",
     "output_type": "stream",
     "text": [
      "Classification accuracy : 0.9571\n",
      "Classification error : 0.0429\n",
      "Precision : 0.9699\n",
      "Recall or Sensitivity : 0.9627\n",
      "F1 Score : 3.8001\n"
     ]
    }
   ],
   "source": [
    "# Classification accuracy\n",
    "classification_accuracy = (TP + TN) / float(TP + TN + FP + FN)\n",
    "print('Classification accuracy : {0:0.4f}'.format(classification_accuracy))\n",
    "\n",
    "# Classification error\n",
    "classification_error = (FP + FN) / float(TP + TN + FP + FN)\n",
    "print('Classification error : {0:0.4f}'.format(classification_error))\n",
    "\n",
    "# Precision\n",
    "precision = TP / float(TP + FP)\n",
    "print('Precision : {0:0.4f}'.format(precision))\n",
    "\n",
    "# Recall\n",
    "recall = TP / float(TP + FN)\n",
    "print('Recall or Sensitivity : {0:0.4f}'.format(recall))\n",
    "\n",
    "# F1 Score\n",
    "F1 = (2*(precision*recall))+(precision+recall)\n",
    "print('F1 Score : {0:0.4f}'.format(F1))"
   ]
  },
  {
   "cell_type": "markdown",
   "id": "31e040af",
   "metadata": {
    "papermill": {
     "duration": 0.024492,
     "end_time": "2023-01-05T04:54:17.039447",
     "exception": false,
     "start_time": "2023-01-05T04:54:17.014955",
     "status": "completed"
    },
    "tags": []
   },
   "source": [
    "> ## k-fold Cross Validation"
   ]
  },
  {
   "cell_type": "markdown",
   "id": "856d4d18",
   "metadata": {
    "papermill": {
     "duration": 0.023895,
     "end_time": "2023-01-05T04:54:17.087782",
     "exception": false,
     "start_time": "2023-01-05T04:54:17.063887",
     "status": "completed"
    },
    "tags": []
   },
   "source": [
    "Apply k-fold Cross Validation technique to improve the model performance. Cross-validation is a statistical method of evaluating generalization performance It is more stable and thorough than using a train-test split to evaluate model performance."
   ]
  },
  {
   "cell_type": "code",
   "execution_count": 51,
   "id": "dea7ac4c",
   "metadata": {
    "execution": {
     "iopub.execute_input": "2023-01-05T04:54:17.136094Z",
     "iopub.status.busy": "2023-01-05T04:54:17.135654Z",
     "iopub.status.idle": "2023-01-05T04:54:17.208027Z",
     "shell.execute_reply": "2023-01-05T04:54:17.206697Z"
    },
    "papermill": {
     "duration": 0.100062,
     "end_time": "2023-01-05T04:54:17.211229",
     "exception": false,
     "start_time": "2023-01-05T04:54:17.111167",
     "status": "completed"
    },
    "tags": []
   },
   "outputs": [
    {
     "name": "stdout",
     "output_type": "stream",
     "text": [
      "Cross-validation scores:[1.         0.93877551 1.         0.97959184 0.89795918 0.95918367\n",
      " 0.97959184 0.97959184 0.97916667 0.95833333]\n",
      "Average cross-validation score: 0.9672\n"
     ]
    },
    {
     "name": "stderr",
     "output_type": "stream",
     "text": [
      "C:\\Users\\Admin\\anaconda3\\lib\\site-packages\\sklearn\\utils\\validation.py:1688: FutureWarning: Feature names only support names that are all strings. Got feature names with dtypes: ['tuple']. An error will be raised in 1.2.\n",
      "  warnings.warn(\n",
      "C:\\Users\\Admin\\anaconda3\\lib\\site-packages\\sklearn\\utils\\validation.py:1688: FutureWarning: Feature names only support names that are all strings. Got feature names with dtypes: ['tuple']. An error will be raised in 1.2.\n",
      "  warnings.warn(\n",
      "C:\\Users\\Admin\\anaconda3\\lib\\site-packages\\sklearn\\utils\\validation.py:1688: FutureWarning: Feature names only support names that are all strings. Got feature names with dtypes: ['tuple']. An error will be raised in 1.2.\n",
      "  warnings.warn(\n",
      "C:\\Users\\Admin\\anaconda3\\lib\\site-packages\\sklearn\\utils\\validation.py:1688: FutureWarning: Feature names only support names that are all strings. Got feature names with dtypes: ['tuple']. An error will be raised in 1.2.\n",
      "  warnings.warn(\n",
      "C:\\Users\\Admin\\anaconda3\\lib\\site-packages\\sklearn\\utils\\validation.py:1688: FutureWarning: Feature names only support names that are all strings. Got feature names with dtypes: ['tuple']. An error will be raised in 1.2.\n",
      "  warnings.warn(\n",
      "C:\\Users\\Admin\\anaconda3\\lib\\site-packages\\sklearn\\utils\\validation.py:1688: FutureWarning: Feature names only support names that are all strings. Got feature names with dtypes: ['tuple']. An error will be raised in 1.2.\n",
      "  warnings.warn(\n",
      "C:\\Users\\Admin\\anaconda3\\lib\\site-packages\\sklearn\\utils\\validation.py:1688: FutureWarning: Feature names only support names that are all strings. Got feature names with dtypes: ['tuple']. An error will be raised in 1.2.\n",
      "  warnings.warn(\n",
      "C:\\Users\\Admin\\anaconda3\\lib\\site-packages\\sklearn\\utils\\validation.py:1688: FutureWarning: Feature names only support names that are all strings. Got feature names with dtypes: ['tuple']. An error will be raised in 1.2.\n",
      "  warnings.warn(\n",
      "C:\\Users\\Admin\\anaconda3\\lib\\site-packages\\sklearn\\utils\\validation.py:1688: FutureWarning: Feature names only support names that are all strings. Got feature names with dtypes: ['tuple']. An error will be raised in 1.2.\n",
      "  warnings.warn(\n",
      "C:\\Users\\Admin\\anaconda3\\lib\\site-packages\\sklearn\\utils\\validation.py:1688: FutureWarning: Feature names only support names that are all strings. Got feature names with dtypes: ['tuple']. An error will be raised in 1.2.\n",
      "  warnings.warn(\n",
      "C:\\Users\\Admin\\anaconda3\\lib\\site-packages\\sklearn\\utils\\validation.py:1688: FutureWarning: Feature names only support names that are all strings. Got feature names with dtypes: ['tuple']. An error will be raised in 1.2.\n",
      "  warnings.warn(\n",
      "C:\\Users\\Admin\\anaconda3\\lib\\site-packages\\sklearn\\utils\\validation.py:1688: FutureWarning: Feature names only support names that are all strings. Got feature names with dtypes: ['tuple']. An error will be raised in 1.2.\n",
      "  warnings.warn(\n",
      "C:\\Users\\Admin\\anaconda3\\lib\\site-packages\\sklearn\\utils\\validation.py:1688: FutureWarning: Feature names only support names that are all strings. Got feature names with dtypes: ['tuple']. An error will be raised in 1.2.\n",
      "  warnings.warn(\n",
      "C:\\Users\\Admin\\anaconda3\\lib\\site-packages\\sklearn\\utils\\validation.py:1688: FutureWarning: Feature names only support names that are all strings. Got feature names with dtypes: ['tuple']. An error will be raised in 1.2.\n",
      "  warnings.warn(\n",
      "C:\\Users\\Admin\\anaconda3\\lib\\site-packages\\sklearn\\utils\\validation.py:1688: FutureWarning: Feature names only support names that are all strings. Got feature names with dtypes: ['tuple']. An error will be raised in 1.2.\n",
      "  warnings.warn(\n",
      "C:\\Users\\Admin\\anaconda3\\lib\\site-packages\\sklearn\\utils\\validation.py:1688: FutureWarning: Feature names only support names that are all strings. Got feature names with dtypes: ['tuple']. An error will be raised in 1.2.\n",
      "  warnings.warn(\n",
      "C:\\Users\\Admin\\anaconda3\\lib\\site-packages\\sklearn\\utils\\validation.py:1688: FutureWarning: Feature names only support names that are all strings. Got feature names with dtypes: ['tuple']. An error will be raised in 1.2.\n",
      "  warnings.warn(\n",
      "C:\\Users\\Admin\\anaconda3\\lib\\site-packages\\sklearn\\utils\\validation.py:1688: FutureWarning: Feature names only support names that are all strings. Got feature names with dtypes: ['tuple']. An error will be raised in 1.2.\n",
      "  warnings.warn(\n",
      "C:\\Users\\Admin\\anaconda3\\lib\\site-packages\\sklearn\\utils\\validation.py:1688: FutureWarning: Feature names only support names that are all strings. Got feature names with dtypes: ['tuple']. An error will be raised in 1.2.\n",
      "  warnings.warn(\n",
      "C:\\Users\\Admin\\anaconda3\\lib\\site-packages\\sklearn\\utils\\validation.py:1688: FutureWarning: Feature names only support names that are all strings. Got feature names with dtypes: ['tuple']. An error will be raised in 1.2.\n",
      "  warnings.warn(\n"
     ]
    }
   ],
   "source": [
    "# Applying 10-Fold Cross Validation\n",
    "\n",
    "from sklearn.model_selection import cross_val_score\n",
    "scores = cross_val_score(knn, x_train, y_train, cv = 10, scoring='accuracy')\n",
    "print('Cross-validation scores:{}'.format(scores))\n",
    "\n",
    "print('Average cross-validation score: {:.4f}'.format(scores.mean()))"
   ]
  },
  {
   "cell_type": "markdown",
   "id": "c043a88d",
   "metadata": {
    "papermill": {
     "duration": 0.023018,
     "end_time": "2023-01-05T04:54:17.258560",
     "exception": false,
     "start_time": "2023-01-05T04:54:17.235542",
     "status": "completed"
    },
    "tags": []
   },
   "source": [
    "#### Interpretation\n",
    "* Using the mean cross-validation, we can conclude that we expect the model to be around 96.46 % accurate on average.\n",
    "\n",
    "* If we look at all the 10 scores produced by the 10-fold cross-validation, we can also conclude that there is a relatively high variance in the accuracy between folds, ranging from 100% accuracy to 89.79% accuracy. So, we can conclude that the model is very dependent on the particular folds used for training, but it also be the consequence of the small size of the dataset.\n",
    "\n",
    "* We can see that 10-fold cross-validation accuracy does not result in performance improvement for this model."
   ]
  },
  {
   "cell_type": "markdown",
   "id": "038ac38d",
   "metadata": {
    "papermill": {
     "duration": 0.024052,
     "end_time": "2023-01-05T04:54:17.305928",
     "exception": false,
     "start_time": "2023-01-05T04:54:17.281876",
     "status": "completed"
    },
    "tags": []
   },
   "source": [
    "> # kNN - 2 - From Scratch"
   ]
  },
  {
   "cell_type": "code",
   "execution_count": 52,
   "id": "69e93e4e",
   "metadata": {},
   "outputs": [],
   "source": [
    "from sklearn.datasets import load_iris\n",
    "x = load_iris()"
   ]
  },
  {
   "cell_type": "code",
   "execution_count": 53,
   "id": "e14fd2f3",
   "metadata": {},
   "outputs": [],
   "source": [
    "x, y = x.data, x.target"
   ]
  },
  {
   "cell_type": "code",
   "execution_count": 54,
   "id": "6925c0ea",
   "metadata": {},
   "outputs": [],
   "source": [
    "from sklearn.model_selection import train_test_split as tts\n",
    "x_train, x_test, y_train, y_test = tts(x,y,test_size=0.25,random_state=42)"
   ]
  },
  {
   "cell_type": "code",
   "execution_count": 55,
   "id": "2f01ca61",
   "metadata": {},
   "outputs": [],
   "source": [
    "import numpy as np\n",
    "from collections import Counter\n",
    "\n",
    "class KNN:\n",
    "    def __init__(self, k=3):\n",
    "        self.k = k\n",
    "    \n",
    "    def fit(self, X, y):\n",
    "        self.X_train = X\n",
    "        self.y_train = y\n",
    "    \n",
    "    def predict(self, X):\n",
    "        y_pred = [self._predict(x) for x in X]\n",
    "        return np.array(y_pred)\n",
    "    \n",
    "    def _predict(self, x):\n",
    "        distances = [np.sqrt(np.sum((x - x_train)**2)) for x_train in self.X_train]\n",
    "        k_indices = np.argsort(distances)[:self.k]\n",
    "        k_nearest_labels = [self.y_train[i] for i in k_indices]  \n",
    "        most_common = Counter(k_nearest_labels).most_common(1)\n",
    "        return most_common[0][0]"
   ]
  },
  {
   "cell_type": "code",
   "execution_count": 56,
   "id": "5972f2a6",
   "metadata": {},
   "outputs": [],
   "source": [
    "knn = KNN(k=3)\n",
    "knn.fit(x_train,y_train)\n",
    "y_pred = knn.predict(x_test)"
   ]
  },
  {
   "cell_type": "code",
   "execution_count": 57,
   "id": "5118f70b",
   "metadata": {},
   "outputs": [
    {
     "data": {
      "text/plain": [
       "1.0"
      ]
     },
     "execution_count": 57,
     "metadata": {},
     "output_type": "execute_result"
    }
   ],
   "source": [
    "from sklearn.metrics import accuracy_score as sc\n",
    "sc(y_pred,y_test)"
   ]
  }
 ],
 "metadata": {
  "kernelspec": {
   "display_name": "Python 3 (ipykernel)",
   "language": "python",
   "name": "python3"
  },
  "language_info": {
   "codemirror_mode": {
    "name": "ipython",
    "version": 3
   },
   "file_extension": ".py",
   "mimetype": "text/x-python",
   "name": "python",
   "nbconvert_exporter": "python",
   "pygments_lexer": "ipython3",
   "version": "3.9.12"
  },
  "papermill": {
   "default_parameters": {},
   "duration": 18.992509,
   "end_time": "2023-01-05T04:54:18.252175",
   "environment_variables": {},
   "exception": null,
   "input_path": "__notebook__.ipynb",
   "output_path": "__notebook__.ipynb",
   "parameters": {},
   "start_time": "2023-01-05T04:53:59.259666",
   "version": "2.3.4"
  }
 },
 "nbformat": 4,
 "nbformat_minor": 5
}
