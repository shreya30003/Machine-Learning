{
 "cells": [
  {
   "cell_type": "markdown",
   "id": "aaa352dc",
   "metadata": {},
   "source": [
    "> # SIMPLE LINEAR REGREESION - 1 "
   ]
  },
  {
   "cell_type": "markdown",
   "id": "a6be5236",
   "metadata": {},
   "source": [
    "## Import the libraries and read the dataset"
   ]
  },
  {
   "cell_type": "code",
   "execution_count": 1,
   "id": "272fa2d3",
   "metadata": {},
   "outputs": [],
   "source": [
    "import pandas as pd\n",
    "import numpy as np\n",
    "import matplotlib.pyplot as plt\n",
    "import seaborn as sns"
   ]
  },
  {
   "cell_type": "code",
   "execution_count": 2,
   "id": "4ecee232",
   "metadata": {},
   "outputs": [],
   "source": [
    "data = pd.read_csv(r'Salary_data.csv')"
   ]
  },
  {
   "cell_type": "code",
   "execution_count": 3,
   "id": "c5b8b79f",
   "metadata": {},
   "outputs": [
    {
     "data": {
      "text/html": [
       "<div>\n",
       "<style scoped>\n",
       "    .dataframe tbody tr th:only-of-type {\n",
       "        vertical-align: middle;\n",
       "    }\n",
       "\n",
       "    .dataframe tbody tr th {\n",
       "        vertical-align: top;\n",
       "    }\n",
       "\n",
       "    .dataframe thead th {\n",
       "        text-align: right;\n",
       "    }\n",
       "</style>\n",
       "<table border=\"1\" class=\"dataframe\">\n",
       "  <thead>\n",
       "    <tr style=\"text-align: right;\">\n",
       "      <th></th>\n",
       "      <th>YearsExperience</th>\n",
       "      <th>Salary</th>\n",
       "    </tr>\n",
       "  </thead>\n",
       "  <tbody>\n",
       "    <tr>\n",
       "      <th>0</th>\n",
       "      <td>1.1</td>\n",
       "      <td>39343.0</td>\n",
       "    </tr>\n",
       "    <tr>\n",
       "      <th>1</th>\n",
       "      <td>1.3</td>\n",
       "      <td>46205.0</td>\n",
       "    </tr>\n",
       "    <tr>\n",
       "      <th>2</th>\n",
       "      <td>1.5</td>\n",
       "      <td>37731.0</td>\n",
       "    </tr>\n",
       "    <tr>\n",
       "      <th>3</th>\n",
       "      <td>2.0</td>\n",
       "      <td>43525.0</td>\n",
       "    </tr>\n",
       "    <tr>\n",
       "      <th>4</th>\n",
       "      <td>2.2</td>\n",
       "      <td>39891.0</td>\n",
       "    </tr>\n",
       "  </tbody>\n",
       "</table>\n",
       "</div>"
      ],
      "text/plain": [
       "   YearsExperience   Salary\n",
       "0              1.1  39343.0\n",
       "1              1.3  46205.0\n",
       "2              1.5  37731.0\n",
       "3              2.0  43525.0\n",
       "4              2.2  39891.0"
      ]
     },
     "execution_count": 3,
     "metadata": {},
     "output_type": "execute_result"
    }
   ],
   "source": [
    "data.head()"
   ]
  },
  {
   "cell_type": "markdown",
   "id": "943e6dae",
   "metadata": {},
   "source": [
    "## Exploratory Data Analysis\n",
    "* Shape\n",
    "* dtypes\n",
    "* Null values\n",
    "* Boxplot\n",
    "* Visualization"
   ]
  },
  {
   "cell_type": "code",
   "execution_count": 4,
   "id": "b3c02f75",
   "metadata": {},
   "outputs": [
    {
     "data": {
      "text/plain": [
       "(30, 2)"
      ]
     },
     "execution_count": 4,
     "metadata": {},
     "output_type": "execute_result"
    }
   ],
   "source": [
    "data.shape"
   ]
  },
  {
   "cell_type": "code",
   "execution_count": 5,
   "id": "57ec063e",
   "metadata": {},
   "outputs": [
    {
     "data": {
      "text/plain": [
       "YearsExperience    float64\n",
       "Salary             float64\n",
       "dtype: object"
      ]
     },
     "execution_count": 5,
     "metadata": {},
     "output_type": "execute_result"
    }
   ],
   "source": [
    "data.dtypes"
   ]
  },
  {
   "cell_type": "code",
   "execution_count": 6,
   "id": "1a21c8b9",
   "metadata": {},
   "outputs": [
    {
     "data": {
      "text/plain": [
       "Index([], dtype='object')"
      ]
     },
     "execution_count": 6,
     "metadata": {},
     "output_type": "execute_result"
    }
   ],
   "source": [
    "data.columns[data.isnull().any()]"
   ]
  },
  {
   "cell_type": "code",
   "execution_count": 7,
   "id": "01acfb94",
   "metadata": {},
   "outputs": [
    {
     "data": {
      "text/plain": [
       "<AxesSubplot:>"
      ]
     },
     "execution_count": 7,
     "metadata": {},
     "output_type": "execute_result"
    },
    {
     "data": {
      "image/png": "[encoded data removed]",
      "text/plain": [
       "<Figure size 432x288 with 1 Axes>"
      ]
     },
     "metadata": {
      "needs_background": "light"
     },
     "output_type": "display_data"
    }
   ],
   "source": [
    "data.boxplot(['YearsExperience'])"
   ]
  },
  {
   "cell_type": "code",
   "execution_count": 8,
   "id": "809b45f1",
   "metadata": {},
   "outputs": [
    {
     "data": {
      "text/plain": [
       "Text(0, 0.5, 'Salary')"
      ]
     },
     "execution_count": 8,
     "metadata": {},
     "output_type": "execute_result"
    },
    {
     "data": {
      "image/png": "[encoded data removed]",
      "text/plain": [
       "<Figure size 432x288 with 1 Axes>"
      ]
     },
     "metadata": {
      "needs_background": "light"
     },
     "output_type": "display_data"
    }
   ],
   "source": [
    "data.plot(x='YearsExperience', y='Salary', style='o',color = 'r')\n",
    "plt.xlabel('YearsExperience')\n",
    "plt.ylabel('Salary')\n",
    "# a linear relationship can be observed"
   ]
  },
  {
   "cell_type": "markdown",
   "id": "ad14eaf7",
   "metadata": {},
   "source": [
    "## Store the value of the feature and the predicting column in seperate arrays"
   ]
  },
  {
   "cell_type": "code",
   "execution_count": 9,
   "id": "bd1e524f",
   "metadata": {},
   "outputs": [],
   "source": [
    "x = data.iloc[:,:1].values\n",
    "y = data.iloc[:,-1].values"
   ]
  },
  {
   "cell_type": "code",
   "execution_count": 10,
   "id": "7dae4c63",
   "metadata": {},
   "outputs": [
    {
     "name": "stdout",
     "output_type": "stream",
     "text": [
      "[[ 1.1]\n",
      " [ 1.3]\n",
      " [ 1.5]\n",
      " [ 2. ]\n",
      " [ 2.2]\n",
      " [ 2.9]\n",
      " [ 3. ]\n",
      " [ 3.2]\n",
      " [ 3.2]\n",
      " [ 3.7]\n",
      " [ 3.9]\n",
      " [ 4. ]\n",
      " [ 4. ]\n",
      " [ 4.1]\n",
      " [ 4.5]\n",
      " [ 4.9]\n",
      " [ 5.1]\n",
      " [ 5.3]\n",
      " [ 5.9]\n",
      " [ 6. ]\n",
      " [ 6.8]\n",
      " [ 7.1]\n",
      " [ 7.9]\n",
      " [ 8.2]\n",
      " [ 8.7]\n",
      " [ 9. ]\n",
      " [ 9.5]\n",
      " [ 9.6]\n",
      " [10.3]\n",
      " [10.5]]\n",
      "[ 39343.  46205.  37731.  43525.  39891.  56642.  60150.  54445.  64445.\n",
      "  57189.  63218.  55794.  56957.  57081.  61111.  67938.  66029.  83088.\n",
      "  81363.  93940.  91738.  98273. 101302. 113812. 109431. 105582. 116969.\n",
      " 112635. 122391. 121872.]\n"
     ]
    }
   ],
   "source": [
    "print(x)\n",
    "print(y)"
   ]
  },
  {
   "cell_type": "markdown",
   "id": "d8ba24e9",
   "metadata": {},
   "source": [
    "## Split into training and testing set"
   ]
  },
  {
   "cell_type": "code",
   "execution_count": 11,
   "id": "ec92f234",
   "metadata": {},
   "outputs": [],
   "source": [
    "from sklearn.model_selection import train_test_split\n",
    "x_train, x_test, y_train, y_test = train_test_split(x,y,test_size=0.3,random_state=0)"
   ]
  },
  {
   "cell_type": "code",
   "execution_count": 12,
   "id": "73fe7d48",
   "metadata": {},
   "outputs": [
    {
     "name": "stdout",
     "output_type": "stream",
     "text": [
      "(21, 1)\n",
      "(21,)\n",
      "(9, 1)\n",
      "(9,)\n"
     ]
    }
   ],
   "source": [
    "print(x_train.shape)\n",
    "print(y_train.shape)\n",
    "print(x_test.shape)\n",
    "print(y_test.shape)"
   ]
  },
  {
   "cell_type": "code",
   "execution_count": 13,
   "id": "48cd6e27",
   "metadata": {},
   "outputs": [
    {
     "data": {
      "text/plain": [
       "array([[ 7.9],\n",
       "       [ 2.9],\n",
       "       [ 5.1],\n",
       "       [ 3.2],\n",
       "       [ 4.5],\n",
       "       [ 8.2],\n",
       "       [ 6.8],\n",
       "       [ 1.3],\n",
       "       [10.5],\n",
       "       [ 3. ],\n",
       "       [ 2.2],\n",
       "       [ 5.9],\n",
       "       [ 6. ],\n",
       "       [ 3.7],\n",
       "       [ 3.2],\n",
       "       [ 9. ],\n",
       "       [ 2. ],\n",
       "       [ 1.1],\n",
       "       [ 7.1],\n",
       "       [ 4.9],\n",
       "       [ 4. ]])"
      ]
     },
     "execution_count": 13,
     "metadata": {},
     "output_type": "execute_result"
    }
   ],
   "source": [
    "x_train"
   ]
  },
  {
   "cell_type": "markdown",
   "id": "45f56e79",
   "metadata": {},
   "source": [
    "## Fit the training data into the regression model"
   ]
  },
  {
   "cell_type": "code",
   "execution_count": 14,
   "id": "214e3056",
   "metadata": {},
   "outputs": [
    {
     "data": {
      "text/plain": [
       "LinearRegression()"
      ]
     },
     "execution_count": 14,
     "metadata": {},
     "output_type": "execute_result"
    }
   ],
   "source": [
    "from sklearn.linear_model import LinearRegression\n",
    "reg = LinearRegression()\n",
    "reg.fit(x_train,y_train)"
   ]
  },
  {
   "cell_type": "markdown",
   "id": "302cbd15",
   "metadata": {},
   "source": [
    "## Find coefficient and intercept"
   ]
  },
  {
   "cell_type": "code",
   "execution_count": 15,
   "id": "f8a30acf",
   "metadata": {},
   "outputs": [
    {
     "name": "stdout",
     "output_type": "stream",
     "text": [
      "[9360.26128619]\n",
      "26777.391341197632\n"
     ]
    }
   ],
   "source": [
    "print(reg.coef_)\n",
    "print(reg.intercept_)"
   ]
  },
  {
   "cell_type": "code",
   "execution_count": 16,
   "id": "e5ee14f9",
   "metadata": {},
   "outputs": [
    {
     "name": "stdout",
     "output_type": "stream",
     "text": [
      "Y = [9360.26128619] * X + 26777.391341197632\n"
     ]
    }
   ],
   "source": [
    "print('Y =',reg.coef_,'* X +',reg.intercept_)"
   ]
  },
  {
   "cell_type": "markdown",
   "id": "6e6a9e72",
   "metadata": {},
   "source": [
    "> y = a + bx\\\n",
    "> a - intercept or constant\\\n",
    "> b - regression coeff or slope"
   ]
  },
  {
   "cell_type": "markdown",
   "id": "386fa52b",
   "metadata": {},
   "source": [
    "## Predict the values"
   ]
  },
  {
   "cell_type": "code",
   "execution_count": 17,
   "id": "c91922c6",
   "metadata": {},
   "outputs": [],
   "source": [
    "y_pred = reg.predict(x_test)"
   ]
  },
  {
   "cell_type": "code",
   "execution_count": 18,
   "id": "e032d81a",
   "metadata": {},
   "outputs": [
    {
     "data": {
      "text/plain": [
       "(array([ 37731., 122391.,  57081.,  63218., 116969.]),\n",
       " array([ 40817.78327049, 123188.08258899,  65154.46261459,  63282.41035735,\n",
       "        115699.87356004]))"
      ]
     },
     "execution_count": 18,
     "metadata": {},
     "output_type": "execute_result"
    }
   ],
   "source": [
    "y_test[:5],y_pred[:5]"
   ]
  },
  {
   "cell_type": "markdown",
   "id": "eb80c22f",
   "metadata": {},
   "source": [
    "## Find Errors"
   ]
  },
  {
   "cell_type": "code",
   "execution_count": 19,
   "id": "58f8c1b4",
   "metadata": {},
   "outputs": [
    {
     "name": "stdout",
     "output_type": "stream",
     "text": [
      "MAE :  3737.4178618788987\n",
      "MSE :  23370078.800832972\n",
      "RMSE :  4834.260936361728\n"
     ]
    }
   ],
   "source": [
    "from sklearn import metrics\n",
    "import math\n",
    "print('MAE : ',metrics.mean_absolute_error(y_test,y_pred))\n",
    "print('MSE : ',metrics.mean_squared_error(y_test,y_pred))\n",
    "print('RMSE : ',math.sqrt(metrics.mean_squared_error(y_test,y_pred)))"
   ]
  },
  {
   "cell_type": "code",
   "execution_count": 20,
   "id": "ecec48ed",
   "metadata": {},
   "outputs": [],
   "source": [
    "Y = reg.intercept_ + reg.coef_*x"
   ]
  },
  {
   "cell_type": "markdown",
   "id": "9e62a60d",
   "metadata": {},
   "source": [
    "## Plot the LOBF"
   ]
  },
  {
   "cell_type": "code",
   "execution_count": 21,
   "id": "7119d9ce",
   "metadata": {},
   "outputs": [
    {
     "data": {
      "text/plain": [
       "Text(0, 0.5, 'Salary')"
      ]
     },
     "execution_count": 21,
     "metadata": {},
     "output_type": "execute_result"
    },
    {
     "data": {
      "image/png": "[encoded data removed]",
      "text/plain": [
       "<Figure size 432x288 with 1 Axes>"
      ]
     },
     "metadata": {
      "needs_background": "light"
     },
     "output_type": "display_data"
    }
   ],
   "source": [
    "plt.scatter(x,y,color='b')\n",
    "plt.plot(x, Y, color='r')\n",
    "plt.xlabel(\"YearsExpirience\")\n",
    "plt.ylabel(\"Salary\")"
   ]
  },
  {
   "cell_type": "code",
   "execution_count": 22,
   "id": "7105036f",
   "metadata": {},
   "outputs": [
    {
     "data": {
      "image/png": "[encoded data removed]",
      "text/plain": [
       "<Figure size 432x288 with 1 Axes>"
      ]
     },
     "metadata": {
      "needs_background": "light"
     },
     "output_type": "display_data"
    }
   ],
   "source": [
    "plt.plot(y_pred,c='r',label='Prediction')\n",
    "plt.plot(y_test,c='g',label='Original')\n",
    "plt.legend()\n",
    "plt.show()"
   ]
  },
  {
   "cell_type": "markdown",
   "id": "83575ed8",
   "metadata": {},
   "source": [
    "> # SIMPLE LINEAR REGRESSION - 2"
   ]
  },
  {
   "cell_type": "code",
   "execution_count": 26,
   "id": "d44913b1",
   "metadata": {},
   "outputs": [],
   "source": [
    "import pandas as pd\n",
    "import numpy as np\n",
    "import matplotlib.pyplot as plt\n",
    "import seaborn as sns"
   ]
  },
  {
   "cell_type": "code",
   "execution_count": 27,
   "id": "3a1fec29",
   "metadata": {},
   "outputs": [],
   "source": [
    "data = pd.read_csv(r'advertising.csv')"
   ]
  },
  {
   "cell_type": "code",
   "execution_count": 28,
   "id": "f926e8e9",
   "metadata": {},
   "outputs": [
    {
     "data": {
      "text/html": [
       "<div>\n",
       "<style scoped>\n",
       "    .dataframe tbody tr th:only-of-type {\n",
       "        vertical-align: middle;\n",
       "    }\n",
       "\n",
       "    .dataframe tbody tr th {\n",
       "        vertical-align: top;\n",
       "    }\n",
       "\n",
       "    .dataframe thead th {\n",
       "        text-align: right;\n",
       "    }\n",
       "</style>\n",
       "<table border=\"1\" class=\"dataframe\">\n",
       "  <thead>\n",
       "    <tr style=\"text-align: right;\">\n",
       "      <th></th>\n",
       "      <th>TV</th>\n",
       "      <th>Radio</th>\n",
       "      <th>Newspaper</th>\n",
       "      <th>Sales</th>\n",
       "    </tr>\n",
       "  </thead>\n",
       "  <tbody>\n",
       "    <tr>\n",
       "      <th>0</th>\n",
       "      <td>230.1</td>\n",
       "      <td>37.8</td>\n",
       "      <td>69.2</td>\n",
       "      <td>22.1</td>\n",
       "    </tr>\n",
       "    <tr>\n",
       "      <th>1</th>\n",
       "      <td>44.5</td>\n",
       "      <td>39.3</td>\n",
       "      <td>45.1</td>\n",
       "      <td>10.4</td>\n",
       "    </tr>\n",
       "    <tr>\n",
       "      <th>2</th>\n",
       "      <td>17.2</td>\n",
       "      <td>45.9</td>\n",
       "      <td>69.3</td>\n",
       "      <td>12.0</td>\n",
       "    </tr>\n",
       "    <tr>\n",
       "      <th>3</th>\n",
       "      <td>151.5</td>\n",
       "      <td>41.3</td>\n",
       "      <td>58.5</td>\n",
       "      <td>16.5</td>\n",
       "    </tr>\n",
       "    <tr>\n",
       "      <th>4</th>\n",
       "      <td>180.8</td>\n",
       "      <td>10.8</td>\n",
       "      <td>58.4</td>\n",
       "      <td>17.9</td>\n",
       "    </tr>\n",
       "  </tbody>\n",
       "</table>\n",
       "</div>"
      ],
      "text/plain": [
       "      TV  Radio  Newspaper  Sales\n",
       "0  230.1   37.8       69.2   22.1\n",
       "1   44.5   39.3       45.1   10.4\n",
       "2   17.2   45.9       69.3   12.0\n",
       "3  151.5   41.3       58.5   16.5\n",
       "4  180.8   10.8       58.4   17.9"
      ]
     },
     "execution_count": 28,
     "metadata": {},
     "output_type": "execute_result"
    }
   ],
   "source": [
    "data.head()"
   ]
  },
  {
   "cell_type": "code",
   "execution_count": 29,
   "id": "bc2da93d",
   "metadata": {},
   "outputs": [
    {
     "data": {
      "text/plain": [
       "(200, 4)"
      ]
     },
     "execution_count": 29,
     "metadata": {},
     "output_type": "execute_result"
    }
   ],
   "source": [
    "data.shape"
   ]
  },
  {
   "cell_type": "code",
   "execution_count": 30,
   "id": "e00c48fd",
   "metadata": {},
   "outputs": [
    {
     "data": {
      "text/plain": [
       "TV           float64\n",
       "Radio        float64\n",
       "Newspaper    float64\n",
       "Sales        float64\n",
       "dtype: object"
      ]
     },
     "execution_count": 30,
     "metadata": {},
     "output_type": "execute_result"
    }
   ],
   "source": [
    "data.dtypes"
   ]
  },
  {
   "cell_type": "code",
   "execution_count": 31,
   "id": "8c83f04c",
   "metadata": {},
   "outputs": [
    {
     "data": {
      "text/plain": [
       "TV           0\n",
       "Radio        0\n",
       "Newspaper    0\n",
       "Sales        0\n",
       "dtype: int64"
      ]
     },
     "execution_count": 31,
     "metadata": {},
     "output_type": "execute_result"
    }
   ],
   "source": [
    "data.isna().sum()"
   ]
  },
  {
   "cell_type": "code",
   "execution_count": 32,
   "id": "f42434f4",
   "metadata": {},
   "outputs": [
    {
     "data": {
      "text/plain": [
       "Index(['TV', 'Radio', 'Newspaper', 'Sales'], dtype='object')"
      ]
     },
     "execution_count": 32,
     "metadata": {},
     "output_type": "execute_result"
    }
   ],
   "source": [
    "data.columns"
   ]
  },
  {
   "cell_type": "code",
   "execution_count": 33,
   "id": "d2f63ffb",
   "metadata": {},
   "outputs": [
    {
     "data": {
      "text/plain": [
       "<AxesSubplot:>"
      ]
     },
     "execution_count": 33,
     "metadata": {},
     "output_type": "execute_result"
    },
    {
     "data": {
      "image/png": "[encoded data removed]",
      "text/plain": [
       "<Figure size 432x288 with 1 Axes>"
      ]
     },
     "metadata": {
      "needs_background": "light"
     },
     "output_type": "display_data"
    }
   ],
   "source": [
    "data.boxplot(column=['TV', 'Radio', 'Newspaper'])"
   ]
  },
  {
   "cell_type": "code",
   "execution_count": 34,
   "id": "492a8e35",
   "metadata": {},
   "outputs": [
    {
     "data": {
      "text/plain": [
       "<AxesSubplot:>"
      ]
     },
     "execution_count": 34,
     "metadata": {},
     "output_type": "execute_result"
    },
    {
     "data": {
      "image/png": "[encoded data removed]",
      "text/plain": [
       "<Figure size 432x288 with 1 Axes>"
      ]
     },
     "metadata": {
      "needs_background": "light"
     },
     "output_type": "display_data"
    }
   ],
   "source": [
    "q1,q3 = np.percentile(data['Newspaper'],[25,75])\n",
    "iqr = q3-q1\n",
    "lower = q1-1.5*iqr\n",
    "upper = q3+1.5*iqr\n",
    "data = data[(data['Newspaper']>lower) & (data['Newspaper']<upper)]\n",
    "data.boxplot('Newspaper')"
   ]
  },
  {
   "cell_type": "code",
   "execution_count": 35,
   "id": "47ae3415",
   "metadata": {},
   "outputs": [
    {
     "data": {
      "image/png": "[encoded data removed]",
      "text/plain": [
       "<Figure size 432x288 with 1 Axes>"
      ]
     },
     "metadata": {
      "needs_background": "light"
     },
     "output_type": "display_data"
    },
    {
     "data": {
      "image/png": "[encoded data removed]",
      "text/plain": [
       "<Figure size 432x288 with 1 Axes>"
      ]
     },
     "metadata": {
      "needs_background": "light"
     },
     "output_type": "display_data"
    },
    {
     "data": {
      "image/png": "[encoded data removed]",
      "text/plain": [
       "<Figure size 432x288 with 1 Axes>"
      ]
     },
     "metadata": {
      "needs_background": "light"
     },
     "output_type": "display_data"
    }
   ],
   "source": [
    "plt.scatter(data.TV,data.Sales)\n",
    "plt.show()\n",
    "plt.scatter(data.Radio,data.Sales)\n",
    "plt.show()\n",
    "plt.scatter(data.Newspaper,data.Sales)\n",
    "plt.show()"
   ]
  },
  {
   "cell_type": "code",
   "execution_count": 36,
   "id": "10c63671",
   "metadata": {},
   "outputs": [],
   "source": [
    "x = data['TV']\n",
    "y = data['Sales']"
   ]
  },
  {
   "cell_type": "code",
   "execution_count": 37,
   "id": "39169f92",
   "metadata": {},
   "outputs": [],
   "source": [
    "shuffle_data = data.sample(frac=1)\n",
    "train_size = int(0.7*len(data))\n",
    "train_set = shuffle_data[:train_size]\n",
    "test_set = shuffle_data[train_size:]"
   ]
  },
  {
   "cell_type": "code",
   "execution_count": 38,
   "id": "38ef973f",
   "metadata": {},
   "outputs": [],
   "source": [
    "x_train = train_set['TV']\n",
    "y_train = train_set['Sales']\n",
    "x_test = test_set['TV']\n",
    "y_test = test_set['Sales']"
   ]
  },
  {
   "cell_type": "code",
   "execution_count": 39,
   "id": "16792dbf",
   "metadata": {},
   "outputs": [],
   "source": [
    "def func(x,y):\n",
    "    n = len(x)\n",
    "    x_mean = x.mean()\n",
    "    y_mean = y.mean()\n",
    "    b1 = ((n*((x*y).sum())) - (x.sum()*y.sum())) / ((n*((x**2).sum())) - ((x.sum())**2))\n",
    "    b0 = y_mean - (b1*x_mean)\n",
    "    return(b0,b1)"
   ]
  },
  {
   "cell_type": "code",
   "execution_count": 40,
   "id": "9379feee",
   "metadata": {},
   "outputs": [
    {
     "name": "stdout",
     "output_type": "stream",
     "text": [
      "Intercept(b0) :  7.07071926173256\n",
      "Slope(b1)     :  0.05439640005587526\n"
     ]
    }
   ],
   "source": [
    "b0, b1 = func(x_train,y_train)\n",
    "print (\"Intercept(b0) : \",b0)\n",
    "print (\"Slope(b1)     : \",b1)"
   ]
  },
  {
   "cell_type": "code",
   "execution_count": 41,
   "id": "da5b8cd0",
   "metadata": {},
   "outputs": [
    {
     "name": "stdout",
     "output_type": "stream",
     "text": [
      "Y = 7.07071926173256 + 0.05439640005587526 * X\n"
     ]
    }
   ],
   "source": [
    "print('Y =',b0,'+',b1,'* X')"
   ]
  },
  {
   "cell_type": "code",
   "execution_count": 42,
   "id": "bdae3ad1",
   "metadata": {},
   "outputs": [],
   "source": [
    "def pred(x,b0,b1):\n",
    "    return (b0 + b1*x)\n",
    "\n",
    "y_pred = pred(x_test,b0,b1)"
   ]
  },
  {
   "cell_type": "code",
   "execution_count": 43,
   "id": "728dd1bb",
   "metadata": {},
   "outputs": [
    {
     "data": {
      "text/plain": [
       "(1.7448687158759852, 4.87670455768227, 2.2083261891492096)"
      ]
     },
     "execution_count": 43,
     "metadata": {},
     "output_type": "execute_result"
    }
   ],
   "source": [
    "def MAE(y_test,y_pred):    \n",
    "    MAE = ((y_test - y_pred).abs().sum())/len(y_test)\n",
    "    return MAE\n",
    "\n",
    "def MSE(y_test,y_pred):    \n",
    "    MSE = (((y_test - y_pred)**2).sum())/len(y_test)\n",
    "    return MSE\n",
    "\n",
    "def RMSE(y_test,y_pred):    \n",
    "    RMSE = ((((y_test - y_pred)**2).sum())/len(y_test))**0.5\n",
    "    return RMSE\n",
    "\n",
    "MAE(y_test,y_pred), MSE(y_test,y_pred), RMSE(y_test,y_pred)"
   ]
  },
  {
   "cell_type": "code",
   "execution_count": 44,
   "id": "b8e3e541",
   "metadata": {},
   "outputs": [
    {
     "data": {
      "text/plain": [
       "[<matplotlib.lines.Line2D at 0x27e2dce6fd0>]"
      ]
     },
     "execution_count": 44,
     "metadata": {},
     "output_type": "execute_result"
    },
    {
     "data": {
      "image/png": "[encoded data removed]",
      "text/plain": [
       "<Figure size 432x288 with 1 Axes>"
      ]
     },
     "metadata": {
      "needs_background": "light"
     },
     "output_type": "display_data"
    }
   ],
   "source": [
    "Y = b0 + b1*x\n",
    "plt.scatter(x,y,color='b')\n",
    "plt.plot(x, Y, color='r')"
   ]
  }
 ],
 "metadata": {
  "kernelspec": {
   "display_name": "Python 3 (ipykernel)",
   "language": "python",
   "name": "python3"
  },
  "language_info": {
   "codemirror_mode": {
    "name": "ipython",
    "version": 3
   },
   "file_extension": ".py",
   "mimetype": "text/x-python",
   "name": "python",
   "nbconvert_exporter": "python",
   "pygments_lexer": "ipython3",
   "version": "3.9.12"
  }
 },
 "nbformat": 4,
 "nbformat_minor": 5
}
