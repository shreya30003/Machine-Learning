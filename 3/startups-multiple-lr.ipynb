{
 "cells": [
  {
   "cell_type": "markdown",
   "id": "ba4242b5",
   "metadata": {
    "papermill": {
     "duration": 0.010556,
     "end_time": "2023-02-02T15:08:03.316654",
     "exception": false,
     "start_time": "2023-02-02T15:08:03.306098",
     "status": "completed"
    },
    "tags": []
   },
   "source": [
    "# Multilinear Regression - Startups Dataset"
   ]
  },
  {
   "cell_type": "markdown",
   "id": "7bae46c5",
   "metadata": {
    "papermill": {
     "duration": 0.008595,
     "end_time": "2023-02-02T15:08:03.334882",
     "exception": false,
     "start_time": "2023-02-02T15:08:03.326287",
     "status": "completed"
    },
    "tags": []
   },
   "source": [
    "> ### Import the libraries and read the data"
   ]
  },
  {
   "cell_type": "code",
   "execution_count": 1,
   "id": "52426ac9",
   "metadata": {
    "execution": {
     "iopub.execute_input": "2023-02-02T15:08:03.356064Z",
     "iopub.status.busy": "2023-02-02T15:08:03.355412Z",
     "iopub.status.idle": "2023-02-02T15:08:03.398030Z",
     "shell.execute_reply": "2023-02-02T15:08:03.397168Z"
    },
    "papermill": {
     "duration": 0.056944,
     "end_time": "2023-02-02T15:08:03.400744",
     "exception": false,
     "start_time": "2023-02-02T15:08:03.343800",
     "status": "completed"
    },
    "tags": []
   },
   "outputs": [],
   "source": [
    "import pandas as pd\n",
    "import matplotlib.pyplot as plt\n",
    "data = pd.read_csv(r'C:\\Users\\Admin\\Desktop\\Cs\\MLT\\Sample\\50_Startups.csv')"
   ]
  },
  {
   "cell_type": "markdown",
   "id": "0d380215",
   "metadata": {
    "papermill": {
     "duration": 0.010117,
     "end_time": "2023-02-02T15:08:03.422682",
     "exception": false,
     "start_time": "2023-02-02T15:08:03.412565",
     "status": "completed"
    },
    "tags": []
   },
   "source": [
    "> ### Print the values"
   ]
  },
  {
   "cell_type": "code",
   "execution_count": 2,
   "id": "fb3cb8e1",
   "metadata": {
    "execution": {
     "iopub.execute_input": "2023-02-02T15:08:03.444457Z",
     "iopub.status.busy": "2023-02-02T15:08:03.443713Z",
     "iopub.status.idle": "2023-02-02T15:08:03.475054Z",
     "shell.execute_reply": "2023-02-02T15:08:03.473812Z"
    },
    "papermill": {
     "duration": 0.044735,
     "end_time": "2023-02-02T15:08:03.478287",
     "exception": false,
     "start_time": "2023-02-02T15:08:03.433552",
     "status": "completed"
    },
    "tags": []
   },
   "outputs": [
    {
     "data": {
      "text/html": [
       "<div>\n",
       "<style scoped>\n",
       "    .dataframe tbody tr th:only-of-type {\n",
       "        vertical-align: middle;\n",
       "    }\n",
       "\n",
       "    .dataframe tbody tr th {\n",
       "        vertical-align: top;\n",
       "    }\n",
       "\n",
       "    .dataframe thead th {\n",
       "        text-align: right;\n",
       "    }\n",
       "</style>\n",
       "<table border=\"1\" class=\"dataframe\">\n",
       "  <thead>\n",
       "    <tr style=\"text-align: right;\">\n",
       "      <th></th>\n",
       "      <th>R&amp;D Spend</th>\n",
       "      <th>Administration</th>\n",
       "      <th>Marketing Spend</th>\n",
       "      <th>State</th>\n",
       "      <th>Profit</th>\n",
       "    </tr>\n",
       "  </thead>\n",
       "  <tbody>\n",
       "    <tr>\n",
       "      <th>0</th>\n",
       "      <td>165349.20</td>\n",
       "      <td>136897.80</td>\n",
       "      <td>471784.10</td>\n",
       "      <td>New York</td>\n",
       "      <td>192261.83</td>\n",
       "    </tr>\n",
       "    <tr>\n",
       "      <th>1</th>\n",
       "      <td>162597.70</td>\n",
       "      <td>151377.59</td>\n",
       "      <td>443898.53</td>\n",
       "      <td>California</td>\n",
       "      <td>191792.06</td>\n",
       "    </tr>\n",
       "    <tr>\n",
       "      <th>2</th>\n",
       "      <td>153441.51</td>\n",
       "      <td>101145.55</td>\n",
       "      <td>407934.54</td>\n",
       "      <td>Florida</td>\n",
       "      <td>191050.39</td>\n",
       "    </tr>\n",
       "    <tr>\n",
       "      <th>3</th>\n",
       "      <td>144372.41</td>\n",
       "      <td>118671.85</td>\n",
       "      <td>383199.62</td>\n",
       "      <td>New York</td>\n",
       "      <td>182901.99</td>\n",
       "    </tr>\n",
       "    <tr>\n",
       "      <th>4</th>\n",
       "      <td>142107.34</td>\n",
       "      <td>91391.77</td>\n",
       "      <td>366168.42</td>\n",
       "      <td>Florida</td>\n",
       "      <td>166187.94</td>\n",
       "    </tr>\n",
       "  </tbody>\n",
       "</table>\n",
       "</div>"
      ],
      "text/plain": [
       "   R&D Spend  Administration  Marketing Spend       State     Profit\n",
       "0  165349.20       136897.80        471784.10    New York  192261.83\n",
       "1  162597.70       151377.59        443898.53  California  191792.06\n",
       "2  153441.51       101145.55        407934.54     Florida  191050.39\n",
       "3  144372.41       118671.85        383199.62    New York  182901.99\n",
       "4  142107.34        91391.77        366168.42     Florida  166187.94"
      ]
     },
     "execution_count": 2,
     "metadata": {},
     "output_type": "execute_result"
    }
   ],
   "source": [
    "data.head()"
   ]
  },
  {
   "cell_type": "markdown",
   "id": "8aeb7afe",
   "metadata": {
    "papermill": {
     "duration": 0.008774,
     "end_time": "2023-02-02T15:08:03.496523",
     "exception": false,
     "start_time": "2023-02-02T15:08:03.487749",
     "status": "completed"
    },
    "tags": []
   },
   "source": [
    "> ### Data Preprocessing - Check for Null Values and remove outliers"
   ]
  },
  {
   "cell_type": "code",
   "execution_count": 3,
   "id": "59868a82",
   "metadata": {
    "execution": {
     "iopub.execute_input": "2023-02-02T15:08:03.516607Z",
     "iopub.status.busy": "2023-02-02T15:08:03.516019Z",
     "iopub.status.idle": "2023-02-02T15:08:03.523779Z",
     "shell.execute_reply": "2023-02-02T15:08:03.522992Z"
    },
    "papermill": {
     "duration": 0.020307,
     "end_time": "2023-02-02T15:08:03.525948",
     "exception": false,
     "start_time": "2023-02-02T15:08:03.505641",
     "status": "completed"
    },
    "tags": []
   },
   "outputs": [
    {
     "data": {
      "text/plain": [
       "R&D Spend          0\n",
       "Administration     0\n",
       "Marketing Spend    0\n",
       "State              0\n",
       "Profit             0\n",
       "dtype: int64"
      ]
     },
     "execution_count": 3,
     "metadata": {},
     "output_type": "execute_result"
    }
   ],
   "source": [
    "data.isnull().sum()"
   ]
  },
  {
   "cell_type": "code",
   "execution_count": 4,
   "id": "8e1352db",
   "metadata": {
    "execution": {
     "iopub.execute_input": "2023-02-02T15:08:03.546934Z",
     "iopub.status.busy": "2023-02-02T15:08:03.546493Z",
     "iopub.status.idle": "2023-02-02T15:08:03.553892Z",
     "shell.execute_reply": "2023-02-02T15:08:03.552614Z"
    },
    "papermill": {
     "duration": 0.021105,
     "end_time": "2023-02-02T15:08:03.556397",
     "exception": false,
     "start_time": "2023-02-02T15:08:03.535292",
     "status": "completed"
    },
    "tags": []
   },
   "outputs": [
    {
     "data": {
      "text/plain": [
       "Index(['R&D Spend', 'Administration', 'Marketing Spend', 'State', 'Profit'], dtype='object')"
      ]
     },
     "execution_count": 4,
     "metadata": {},
     "output_type": "execute_result"
    }
   ],
   "source": [
    "data.columns"
   ]
  },
  {
   "cell_type": "code",
   "execution_count": 5,
   "id": "bc40fb8b",
   "metadata": {
    "execution": {
     "iopub.execute_input": "2023-02-02T15:08:03.576749Z",
     "iopub.status.busy": "2023-02-02T15:08:03.576329Z",
     "iopub.status.idle": "2023-02-02T15:08:03.786831Z",
     "shell.execute_reply": "2023-02-02T15:08:03.785968Z"
    },
    "papermill": {
     "duration": 0.225573,
     "end_time": "2023-02-02T15:08:03.791424",
     "exception": false,
     "start_time": "2023-02-02T15:08:03.565851",
     "status": "completed"
    },
    "tags": []
   },
   "outputs": [
    {
     "data": {
      "text/plain": [
       "<AxesSubplot:>"
      ]
     },
     "execution_count": 5,
     "metadata": {},
     "output_type": "execute_result"
    },
    {
     "data": {
      "image/png": "[encoded data removed]",
      "text/plain": [
       "<Figure size 432x288 with 1 Axes>"
      ]
     },
     "metadata": {
      "needs_background": "light"
     },
     "output_type": "display_data"
    }
   ],
   "source": [
    "data.boxplot(column=['R&D Spend', 'Administration', 'Marketing Spend'])"
   ]
  },
  {
   "cell_type": "markdown",
   "id": "0ed439b9",
   "metadata": {
    "papermill": {
     "duration": 0.009991,
     "end_time": "2023-02-02T15:08:04.478536",
     "exception": false,
     "start_time": "2023-02-02T15:08:04.468545",
     "status": "completed"
    },
    "tags": []
   },
   "source": [
    "> ### Label encoding"
   ]
  },
  {
   "cell_type": "code",
   "execution_count": 6,
   "id": "cd143daa",
   "metadata": {},
   "outputs": [],
   "source": [
    "from sklearn.preprocessing import LabelEncoder\n",
    "le = LabelEncoder()\n",
    "data['State'] = le.fit_transform(data['State'])"
   ]
  },
  {
   "cell_type": "code",
   "execution_count": 7,
   "id": "cfc7cae5",
   "metadata": {
    "execution": {
     "iopub.execute_input": "2023-02-02T15:08:04.581344Z",
     "iopub.status.busy": "2023-02-02T15:08:04.579952Z",
     "iopub.status.idle": "2023-02-02T15:08:04.596982Z",
     "shell.execute_reply": "2023-02-02T15:08:04.595658Z"
    },
    "papermill": {
     "duration": 0.031551,
     "end_time": "2023-02-02T15:08:04.599292",
     "exception": false,
     "start_time": "2023-02-02T15:08:04.567741",
     "status": "completed"
    },
    "tags": []
   },
   "outputs": [
    {
     "data": {
      "text/html": [
       "<div>\n",
       "<style scoped>\n",
       "    .dataframe tbody tr th:only-of-type {\n",
       "        vertical-align: middle;\n",
       "    }\n",
       "\n",
       "    .dataframe tbody tr th {\n",
       "        vertical-align: top;\n",
       "    }\n",
       "\n",
       "    .dataframe thead th {\n",
       "        text-align: right;\n",
       "    }\n",
       "</style>\n",
       "<table border=\"1\" class=\"dataframe\">\n",
       "  <thead>\n",
       "    <tr style=\"text-align: right;\">\n",
       "      <th></th>\n",
       "      <th>R&amp;D Spend</th>\n",
       "      <th>Administration</th>\n",
       "      <th>Marketing Spend</th>\n",
       "      <th>State</th>\n",
       "      <th>Profit</th>\n",
       "    </tr>\n",
       "  </thead>\n",
       "  <tbody>\n",
       "    <tr>\n",
       "      <th>0</th>\n",
       "      <td>165349.20</td>\n",
       "      <td>136897.80</td>\n",
       "      <td>471784.10</td>\n",
       "      <td>2</td>\n",
       "      <td>192261.83</td>\n",
       "    </tr>\n",
       "    <tr>\n",
       "      <th>1</th>\n",
       "      <td>162597.70</td>\n",
       "      <td>151377.59</td>\n",
       "      <td>443898.53</td>\n",
       "      <td>0</td>\n",
       "      <td>191792.06</td>\n",
       "    </tr>\n",
       "    <tr>\n",
       "      <th>2</th>\n",
       "      <td>153441.51</td>\n",
       "      <td>101145.55</td>\n",
       "      <td>407934.54</td>\n",
       "      <td>1</td>\n",
       "      <td>191050.39</td>\n",
       "    </tr>\n",
       "    <tr>\n",
       "      <th>3</th>\n",
       "      <td>144372.41</td>\n",
       "      <td>118671.85</td>\n",
       "      <td>383199.62</td>\n",
       "      <td>2</td>\n",
       "      <td>182901.99</td>\n",
       "    </tr>\n",
       "    <tr>\n",
       "      <th>4</th>\n",
       "      <td>142107.34</td>\n",
       "      <td>91391.77</td>\n",
       "      <td>366168.42</td>\n",
       "      <td>1</td>\n",
       "      <td>166187.94</td>\n",
       "    </tr>\n",
       "  </tbody>\n",
       "</table>\n",
       "</div>"
      ],
      "text/plain": [
       "   R&D Spend  Administration  Marketing Spend  State     Profit\n",
       "0  165349.20       136897.80        471784.10      2  192261.83\n",
       "1  162597.70       151377.59        443898.53      0  191792.06\n",
       "2  153441.51       101145.55        407934.54      1  191050.39\n",
       "3  144372.41       118671.85        383199.62      2  182901.99\n",
       "4  142107.34        91391.77        366168.42      1  166187.94"
      ]
     },
     "execution_count": 7,
     "metadata": {},
     "output_type": "execute_result"
    }
   ],
   "source": [
    "data.head()"
   ]
  },
  {
   "cell_type": "markdown",
   "id": "fc8cbd4e",
   "metadata": {
    "papermill": {
     "duration": 0.010458,
     "end_time": "2023-02-02T15:08:04.620650",
     "exception": false,
     "start_time": "2023-02-02T15:08:04.610192",
     "status": "completed"
    },
    "tags": []
   },
   "source": [
    "> ### Store the value of features and target output in seperate DataFrames"
   ]
  },
  {
   "cell_type": "code",
   "execution_count": 8,
   "id": "d0c1966a",
   "metadata": {
    "execution": {
     "iopub.execute_input": "2023-02-02T15:08:04.644823Z",
     "iopub.status.busy": "2023-02-02T15:08:04.644071Z",
     "iopub.status.idle": "2023-02-02T15:08:04.650267Z",
     "shell.execute_reply": "2023-02-02T15:08:04.649186Z"
    },
    "papermill": {
     "duration": 0.020718,
     "end_time": "2023-02-02T15:08:04.652515",
     "exception": false,
     "start_time": "2023-02-02T15:08:04.631797",
     "status": "completed"
    },
    "tags": []
   },
   "outputs": [],
   "source": [
    "x = data.iloc[:,:-1].values \n",
    "y = data.iloc[:,-1].values "
   ]
  },
  {
   "cell_type": "code",
   "execution_count": 9,
   "id": "300674db",
   "metadata": {
    "execution": {
     "iopub.execute_input": "2023-02-02T15:08:04.676269Z",
     "iopub.status.busy": "2023-02-02T15:08:04.675560Z",
     "iopub.status.idle": "2023-02-02T15:08:04.690249Z",
     "shell.execute_reply": "2023-02-02T15:08:04.688961Z"
    },
    "papermill": {
     "duration": 0.029193,
     "end_time": "2023-02-02T15:08:04.692595",
     "exception": false,
     "start_time": "2023-02-02T15:08:04.663402",
     "status": "completed"
    },
    "tags": []
   },
   "outputs": [
    {
     "data": {
      "text/html": [
       "<div>\n",
       "<style scoped>\n",
       "    .dataframe tbody tr th:only-of-type {\n",
       "        vertical-align: middle;\n",
       "    }\n",
       "\n",
       "    .dataframe tbody tr th {\n",
       "        vertical-align: top;\n",
       "    }\n",
       "\n",
       "    .dataframe thead th {\n",
       "        text-align: right;\n",
       "    }\n",
       "</style>\n",
       "<table border=\"1\" class=\"dataframe\">\n",
       "  <thead>\n",
       "    <tr style=\"text-align: right;\">\n",
       "      <th></th>\n",
       "      <th>0</th>\n",
       "      <th>1</th>\n",
       "      <th>2</th>\n",
       "      <th>3</th>\n",
       "    </tr>\n",
       "  </thead>\n",
       "  <tbody>\n",
       "    <tr>\n",
       "      <th>0</th>\n",
       "      <td>165349.20</td>\n",
       "      <td>136897.80</td>\n",
       "      <td>471784.10</td>\n",
       "      <td>2.0</td>\n",
       "    </tr>\n",
       "    <tr>\n",
       "      <th>1</th>\n",
       "      <td>162597.70</td>\n",
       "      <td>151377.59</td>\n",
       "      <td>443898.53</td>\n",
       "      <td>0.0</td>\n",
       "    </tr>\n",
       "    <tr>\n",
       "      <th>2</th>\n",
       "      <td>153441.51</td>\n",
       "      <td>101145.55</td>\n",
       "      <td>407934.54</td>\n",
       "      <td>1.0</td>\n",
       "    </tr>\n",
       "    <tr>\n",
       "      <th>3</th>\n",
       "      <td>144372.41</td>\n",
       "      <td>118671.85</td>\n",
       "      <td>383199.62</td>\n",
       "      <td>2.0</td>\n",
       "    </tr>\n",
       "    <tr>\n",
       "      <th>4</th>\n",
       "      <td>142107.34</td>\n",
       "      <td>91391.77</td>\n",
       "      <td>366168.42</td>\n",
       "      <td>1.0</td>\n",
       "    </tr>\n",
       "  </tbody>\n",
       "</table>\n",
       "</div>"
      ],
      "text/plain": [
       "           0          1          2    3\n",
       "0  165349.20  136897.80  471784.10  2.0\n",
       "1  162597.70  151377.59  443898.53  0.0\n",
       "2  153441.51  101145.55  407934.54  1.0\n",
       "3  144372.41  118671.85  383199.62  2.0\n",
       "4  142107.34   91391.77  366168.42  1.0"
      ]
     },
     "execution_count": 9,
     "metadata": {},
     "output_type": "execute_result"
    }
   ],
   "source": [
    "x1 = pd.DataFrame(x)\n",
    "x1.head()"
   ]
  },
  {
   "cell_type": "code",
   "execution_count": 10,
   "id": "bca7bd73",
   "metadata": {
    "execution": {
     "iopub.execute_input": "2023-02-02T15:08:04.716503Z",
     "iopub.status.busy": "2023-02-02T15:08:04.716126Z",
     "iopub.status.idle": "2023-02-02T15:08:04.730560Z",
     "shell.execute_reply": "2023-02-02T15:08:04.729376Z"
    },
    "papermill": {
     "duration": 0.029066,
     "end_time": "2023-02-02T15:08:04.732939",
     "exception": false,
     "start_time": "2023-02-02T15:08:04.703873",
     "status": "completed"
    },
    "tags": []
   },
   "outputs": [
    {
     "data": {
      "text/html": [
       "<div>\n",
       "<style scoped>\n",
       "    .dataframe tbody tr th:only-of-type {\n",
       "        vertical-align: middle;\n",
       "    }\n",
       "\n",
       "    .dataframe tbody tr th {\n",
       "        vertical-align: top;\n",
       "    }\n",
       "\n",
       "    .dataframe thead th {\n",
       "        text-align: right;\n",
       "    }\n",
       "</style>\n",
       "<table border=\"1\" class=\"dataframe\">\n",
       "  <thead>\n",
       "    <tr style=\"text-align: right;\">\n",
       "      <th></th>\n",
       "      <th>R&amp;D Spend</th>\n",
       "      <th>Administration</th>\n",
       "      <th>Marketing Spend</th>\n",
       "      <th>State</th>\n",
       "    </tr>\n",
       "  </thead>\n",
       "  <tbody>\n",
       "    <tr>\n",
       "      <th>0</th>\n",
       "      <td>165349.20</td>\n",
       "      <td>136897.80</td>\n",
       "      <td>471784.10</td>\n",
       "      <td>2.0</td>\n",
       "    </tr>\n",
       "    <tr>\n",
       "      <th>1</th>\n",
       "      <td>162597.70</td>\n",
       "      <td>151377.59</td>\n",
       "      <td>443898.53</td>\n",
       "      <td>0.0</td>\n",
       "    </tr>\n",
       "    <tr>\n",
       "      <th>2</th>\n",
       "      <td>153441.51</td>\n",
       "      <td>101145.55</td>\n",
       "      <td>407934.54</td>\n",
       "      <td>1.0</td>\n",
       "    </tr>\n",
       "    <tr>\n",
       "      <th>3</th>\n",
       "      <td>144372.41</td>\n",
       "      <td>118671.85</td>\n",
       "      <td>383199.62</td>\n",
       "      <td>2.0</td>\n",
       "    </tr>\n",
       "    <tr>\n",
       "      <th>4</th>\n",
       "      <td>142107.34</td>\n",
       "      <td>91391.77</td>\n",
       "      <td>366168.42</td>\n",
       "      <td>1.0</td>\n",
       "    </tr>\n",
       "  </tbody>\n",
       "</table>\n",
       "</div>"
      ],
      "text/plain": [
       "   R&D Spend  Administration  Marketing Spend  State\n",
       "0  165349.20       136897.80        471784.10    2.0\n",
       "1  162597.70       151377.59        443898.53    0.0\n",
       "2  153441.51       101145.55        407934.54    1.0\n",
       "3  144372.41       118671.85        383199.62    2.0\n",
       "4  142107.34        91391.77        366168.42    1.0"
      ]
     },
     "execution_count": 10,
     "metadata": {},
     "output_type": "execute_result"
    }
   ],
   "source": [
    "x1.columns = ['R&D Spend', 'Administration', 'Marketing Spend', 'State']\n",
    "x1.head()"
   ]
  },
  {
   "cell_type": "code",
   "execution_count": 11,
   "id": "be988dac",
   "metadata": {
    "execution": {
     "iopub.execute_input": "2023-02-02T15:08:04.758290Z",
     "iopub.status.busy": "2023-02-02T15:08:04.757868Z",
     "iopub.status.idle": "2023-02-02T15:08:04.763541Z",
     "shell.execute_reply": "2023-02-02T15:08:04.762320Z"
    },
    "papermill": {
     "duration": 0.020981,
     "end_time": "2023-02-02T15:08:04.765927",
     "exception": false,
     "start_time": "2023-02-02T15:08:04.744946",
     "status": "completed"
    },
    "tags": []
   },
   "outputs": [],
   "source": [
    "x1['INTERCEPT'] = 1"
   ]
  },
  {
   "cell_type": "markdown",
   "id": "ab882a2e",
   "metadata": {
    "papermill": {
     "duration": 0.010859,
     "end_time": "2023-02-02T15:08:04.788519",
     "exception": false,
     "start_time": "2023-02-02T15:08:04.777660",
     "status": "completed"
    },
    "tags": []
   },
   "source": [
    "> ### Check if there is multicollinearity"
   ]
  },
  {
   "cell_type": "code",
   "execution_count": 12,
   "id": "9796d8ca",
   "metadata": {
    "execution": {
     "iopub.execute_input": "2023-02-02T15:08:04.812900Z",
     "iopub.status.busy": "2023-02-02T15:08:04.812424Z",
     "iopub.status.idle": "2023-02-02T15:08:04.817663Z",
     "shell.execute_reply": "2023-02-02T15:08:04.816793Z"
    },
    "papermill": {
     "duration": 0.019927,
     "end_time": "2023-02-02T15:08:04.819732",
     "exception": false,
     "start_time": "2023-02-02T15:08:04.799805",
     "status": "completed"
    },
    "tags": []
   },
   "outputs": [],
   "source": [
    "vif = pd.DataFrame()"
   ]
  },
  {
   "cell_type": "code",
   "execution_count": 13,
   "id": "2f3b9dc2",
   "metadata": {
    "execution": {
     "iopub.execute_input": "2023-02-02T15:08:04.844252Z",
     "iopub.status.busy": "2023-02-02T15:08:04.843456Z",
     "iopub.status.idle": "2023-02-02T15:08:05.778921Z",
     "shell.execute_reply": "2023-02-02T15:08:05.777689Z"
    },
    "papermill": {
     "duration": 0.95041,
     "end_time": "2023-02-02T15:08:05.781462",
     "exception": false,
     "start_time": "2023-02-02T15:08:04.831052",
     "status": "completed"
    },
    "tags": []
   },
   "outputs": [
    {
     "data": {
      "text/html": [
       "<div>\n",
       "<style scoped>\n",
       "    .dataframe tbody tr th:only-of-type {\n",
       "        vertical-align: middle;\n",
       "    }\n",
       "\n",
       "    .dataframe tbody tr th {\n",
       "        vertical-align: top;\n",
       "    }\n",
       "\n",
       "    .dataframe thead th {\n",
       "        text-align: right;\n",
       "    }\n",
       "</style>\n",
       "<table border=\"1\" class=\"dataframe\">\n",
       "  <thead>\n",
       "    <tr style=\"text-align: right;\">\n",
       "      <th></th>\n",
       "      <th>variables</th>\n",
       "    </tr>\n",
       "  </thead>\n",
       "  <tbody>\n",
       "    <tr>\n",
       "      <th>0</th>\n",
       "      <td>R&amp;D Spend</td>\n",
       "    </tr>\n",
       "    <tr>\n",
       "      <th>1</th>\n",
       "      <td>Administration</td>\n",
       "    </tr>\n",
       "    <tr>\n",
       "      <th>2</th>\n",
       "      <td>Marketing Spend</td>\n",
       "    </tr>\n",
       "    <tr>\n",
       "      <th>3</th>\n",
       "      <td>State</td>\n",
       "    </tr>\n",
       "    <tr>\n",
       "      <th>4</th>\n",
       "      <td>INTERCEPT</td>\n",
       "    </tr>\n",
       "  </tbody>\n",
       "</table>\n",
       "</div>"
      ],
      "text/plain": [
       "         variables\n",
       "0        R&D Spend\n",
       "1   Administration\n",
       "2  Marketing Spend\n",
       "3            State\n",
       "4        INTERCEPT"
      ]
     },
     "execution_count": 13,
     "metadata": {},
     "output_type": "execute_result"
    }
   ],
   "source": [
    "from statsmodels.stats.outliers_influence import variance_inflation_factor\n",
    "vif['variables'] = x1.columns\n",
    "vif"
   ]
  },
  {
   "cell_type": "code",
   "execution_count": 14,
   "id": "a9a4fe2b",
   "metadata": {
    "execution": {
     "iopub.execute_input": "2023-02-02T15:08:05.806747Z",
     "iopub.status.busy": "2023-02-02T15:08:05.806363Z",
     "iopub.status.idle": "2023-02-02T15:08:05.825486Z",
     "shell.execute_reply": "2023-02-02T15:08:05.824488Z"
    },
    "papermill": {
     "duration": 0.03481,
     "end_time": "2023-02-02T15:08:05.827870",
     "exception": false,
     "start_time": "2023-02-02T15:08:05.793060",
     "status": "completed"
    },
    "tags": []
   },
   "outputs": [
    {
     "data": {
      "text/html": [
       "<div>\n",
       "<style scoped>\n",
       "    .dataframe tbody tr th:only-of-type {\n",
       "        vertical-align: middle;\n",
       "    }\n",
       "\n",
       "    .dataframe tbody tr th {\n",
       "        vertical-align: top;\n",
       "    }\n",
       "\n",
       "    .dataframe thead th {\n",
       "        text-align: right;\n",
       "    }\n",
       "</style>\n",
       "<table border=\"1\" class=\"dataframe\">\n",
       "  <thead>\n",
       "    <tr style=\"text-align: right;\">\n",
       "      <th></th>\n",
       "      <th>variables</th>\n",
       "      <th>vif</th>\n",
       "    </tr>\n",
       "  </thead>\n",
       "  <tbody>\n",
       "    <tr>\n",
       "      <th>0</th>\n",
       "      <td>R&amp;D Spend</td>\n",
       "      <td>2.481178</td>\n",
       "    </tr>\n",
       "    <tr>\n",
       "      <th>1</th>\n",
       "      <td>Administration</td>\n",
       "      <td>1.175315</td>\n",
       "    </tr>\n",
       "    <tr>\n",
       "      <th>2</th>\n",
       "      <td>Marketing Spend</td>\n",
       "      <td>2.326780</td>\n",
       "    </tr>\n",
       "    <tr>\n",
       "      <th>3</th>\n",
       "      <td>State</td>\n",
       "      <td>1.011281</td>\n",
       "    </tr>\n",
       "    <tr>\n",
       "      <th>4</th>\n",
       "      <td>INTERCEPT</td>\n",
       "      <td>26.570692</td>\n",
       "    </tr>\n",
       "  </tbody>\n",
       "</table>\n",
       "</div>"
      ],
      "text/plain": [
       "         variables        vif\n",
       "0        R&D Spend   2.481178\n",
       "1   Administration   1.175315\n",
       "2  Marketing Spend   2.326780\n",
       "3            State   1.011281\n",
       "4        INTERCEPT  26.570692"
      ]
     },
     "execution_count": 14,
     "metadata": {},
     "output_type": "execute_result"
    }
   ],
   "source": [
    "vif['vif'] = [variance_inflation_factor(x1.values,i) for i in range(x1.shape[1])]\n",
    "vif"
   ]
  },
  {
   "cell_type": "markdown",
   "id": "e8e56795",
   "metadata": {
    "papermill": {
     "duration": 0.011316,
     "end_time": "2023-02-02T15:08:05.850804",
     "exception": false,
     "start_time": "2023-02-02T15:08:05.839488",
     "status": "completed"
    },
    "tags": []
   },
   "source": [
    "#### VIF < 3 - No multicollinearity"
   ]
  },
  {
   "cell_type": "code",
   "execution_count": 15,
   "id": "c4148a34",
   "metadata": {
    "execution": {
     "iopub.execute_input": "2023-02-02T15:08:05.898059Z",
     "iopub.status.busy": "2023-02-02T15:08:05.897304Z",
     "iopub.status.idle": "2023-02-02T15:08:05.906886Z",
     "shell.execute_reply": "2023-02-02T15:08:05.906002Z"
    },
    "papermill": {
     "duration": 0.024295,
     "end_time": "2023-02-02T15:08:05.908881",
     "exception": false,
     "start_time": "2023-02-02T15:08:05.884586",
     "status": "completed"
    },
    "tags": []
   },
   "outputs": [
    {
     "data": {
      "text/plain": [
       "array([[1.6534920e+05, 1.3689780e+05, 4.7178410e+05, 2.0000000e+00],\n",
       "       [1.6259770e+05, 1.5137759e+05, 4.4389853e+05, 0.0000000e+00],\n",
       "       [1.5344151e+05, 1.0114555e+05, 4.0793454e+05, 1.0000000e+00],\n",
       "       [1.4437241e+05, 1.1867185e+05, 3.8319962e+05, 2.0000000e+00],\n",
       "       [1.4210734e+05, 9.1391770e+04, 3.6616842e+05, 1.0000000e+00],\n",
       "       [1.3187690e+05, 9.9814710e+04, 3.6286136e+05, 2.0000000e+00],\n",
       "       [1.3461546e+05, 1.4719887e+05, 1.2771682e+05, 0.0000000e+00],\n",
       "       [1.3029813e+05, 1.4553006e+05, 3.2387668e+05, 1.0000000e+00],\n",
       "       [1.2054252e+05, 1.4871895e+05, 3.1161329e+05, 2.0000000e+00],\n",
       "       [1.2333488e+05, 1.0867917e+05, 3.0498162e+05, 0.0000000e+00],\n",
       "       [1.0191308e+05, 1.1059411e+05, 2.2916095e+05, 1.0000000e+00],\n",
       "       [1.0067196e+05, 9.1790610e+04, 2.4974455e+05, 0.0000000e+00],\n",
       "       [9.3863750e+04, 1.2732038e+05, 2.4983944e+05, 1.0000000e+00],\n",
       "       [9.1992390e+04, 1.3549507e+05, 2.5266493e+05, 0.0000000e+00],\n",
       "       [1.1994324e+05, 1.5654742e+05, 2.5651292e+05, 1.0000000e+00],\n",
       "       [1.1452361e+05, 1.2261684e+05, 2.6177623e+05, 2.0000000e+00],\n",
       "       [7.8013110e+04, 1.2159755e+05, 2.6434606e+05, 0.0000000e+00],\n",
       "       [9.4657160e+04, 1.4507758e+05, 2.8257431e+05, 2.0000000e+00],\n",
       "       [9.1749160e+04, 1.1417579e+05, 2.9491957e+05, 1.0000000e+00],\n",
       "       [8.6419700e+04, 1.5351411e+05, 0.0000000e+00, 2.0000000e+00],\n",
       "       [7.6253860e+04, 1.1386730e+05, 2.9866447e+05, 0.0000000e+00],\n",
       "       [7.8389470e+04, 1.5377343e+05, 2.9973729e+05, 2.0000000e+00],\n",
       "       [7.3994560e+04, 1.2278275e+05, 3.0331926e+05, 1.0000000e+00],\n",
       "       [6.7532530e+04, 1.0575103e+05, 3.0476873e+05, 1.0000000e+00],\n",
       "       [7.7044010e+04, 9.9281340e+04, 1.4057481e+05, 2.0000000e+00],\n",
       "       [6.4664710e+04, 1.3955316e+05, 1.3796262e+05, 0.0000000e+00],\n",
       "       [7.5328870e+04, 1.4413598e+05, 1.3405007e+05, 1.0000000e+00],\n",
       "       [7.2107600e+04, 1.2786455e+05, 3.5318381e+05, 2.0000000e+00],\n",
       "       [6.6051520e+04, 1.8264556e+05, 1.1814820e+05, 1.0000000e+00],\n",
       "       [6.5605480e+04, 1.5303206e+05, 1.0713838e+05, 2.0000000e+00],\n",
       "       [6.1994480e+04, 1.1564128e+05, 9.1131240e+04, 1.0000000e+00],\n",
       "       [6.1136380e+04, 1.5270192e+05, 8.8218230e+04, 2.0000000e+00],\n",
       "       [6.3408860e+04, 1.2921961e+05, 4.6085250e+04, 0.0000000e+00],\n",
       "       [5.5493950e+04, 1.0305749e+05, 2.1463481e+05, 1.0000000e+00],\n",
       "       [4.6426070e+04, 1.5769392e+05, 2.1079767e+05, 0.0000000e+00],\n",
       "       [4.6014020e+04, 8.5047440e+04, 2.0551764e+05, 2.0000000e+00],\n",
       "       [2.8663760e+04, 1.2705621e+05, 2.0112682e+05, 1.0000000e+00],\n",
       "       [4.4069950e+04, 5.1283140e+04, 1.9702942e+05, 0.0000000e+00],\n",
       "       [2.0229590e+04, 6.5947930e+04, 1.8526510e+05, 2.0000000e+00],\n",
       "       [3.8558510e+04, 8.2982090e+04, 1.7499930e+05, 0.0000000e+00],\n",
       "       [2.8754330e+04, 1.1854605e+05, 1.7279567e+05, 0.0000000e+00],\n",
       "       [2.7892920e+04, 8.4710770e+04, 1.6447071e+05, 1.0000000e+00],\n",
       "       [2.3640930e+04, 9.6189630e+04, 1.4800111e+05, 0.0000000e+00],\n",
       "       [1.5505730e+04, 1.2738230e+05, 3.5534170e+04, 2.0000000e+00],\n",
       "       [2.2177740e+04, 1.5480614e+05, 2.8334720e+04, 0.0000000e+00],\n",
       "       [1.0002300e+03, 1.2415304e+05, 1.9039300e+03, 2.0000000e+00],\n",
       "       [1.3154600e+03, 1.1581621e+05, 2.9711446e+05, 1.0000000e+00],\n",
       "       [0.0000000e+00, 1.3542692e+05, 0.0000000e+00, 0.0000000e+00],\n",
       "       [5.4205000e+02, 5.1743150e+04, 0.0000000e+00, 2.0000000e+00],\n",
       "       [0.0000000e+00, 1.1698380e+05, 4.5173060e+04, 0.0000000e+00]])"
      ]
     },
     "execution_count": 15,
     "metadata": {},
     "output_type": "execute_result"
    }
   ],
   "source": [
    "x"
   ]
  },
  {
   "cell_type": "markdown",
   "id": "1bc8cbf0",
   "metadata": {
    "papermill": {
     "duration": 0.01133,
     "end_time": "2023-02-02T15:08:05.931967",
     "exception": false,
     "start_time": "2023-02-02T15:08:05.920637",
     "status": "completed"
    },
    "tags": []
   },
   "source": [
    "> ### Split into training and testing set"
   ]
  },
  {
   "cell_type": "code",
   "execution_count": 16,
   "id": "aaca5a85",
   "metadata": {
    "execution": {
     "iopub.execute_input": "2023-02-02T15:08:05.957561Z",
     "iopub.status.busy": "2023-02-02T15:08:05.956829Z",
     "iopub.status.idle": "2023-02-02T15:08:06.163728Z",
     "shell.execute_reply": "2023-02-02T15:08:06.162543Z"
    },
    "papermill": {
     "duration": 0.222822,
     "end_time": "2023-02-02T15:08:06.166518",
     "exception": false,
     "start_time": "2023-02-02T15:08:05.943696",
     "status": "completed"
    },
    "tags": []
   },
   "outputs": [],
   "source": [
    "from sklearn.model_selection import train_test_split\n",
    "x_train,x_test,y_train,y_test = train_test_split(x,y,test_size=0.25,random_state=0) # test_size -> 70:30"
   ]
  },
  {
   "cell_type": "code",
   "execution_count": 17,
   "id": "b22ff248",
   "metadata": {
    "execution": {
     "iopub.execute_input": "2023-02-02T15:08:06.191931Z",
     "iopub.status.busy": "2023-02-02T15:08:06.191454Z",
     "iopub.status.idle": "2023-02-02T15:08:06.199464Z",
     "shell.execute_reply": "2023-02-02T15:08:06.197556Z"
    },
    "papermill": {
     "duration": 0.023695,
     "end_time": "2023-02-02T15:08:06.202011",
     "exception": false,
     "start_time": "2023-02-02T15:08:06.178316",
     "status": "completed"
    },
    "tags": []
   },
   "outputs": [
    {
     "name": "stdout",
     "output_type": "stream",
     "text": [
      "(37, 4)\n",
      "(37,)\n",
      "(13, 4)\n",
      "(13,)\n"
     ]
    }
   ],
   "source": [
    "print(x_train.shape)\n",
    "print(y_train.shape)\n",
    "print(x_test.shape)\n",
    "print(y_test.shape)"
   ]
  },
  {
   "cell_type": "markdown",
   "id": "e9c02aa5",
   "metadata": {
    "papermill": {
     "duration": 0.012081,
     "end_time": "2023-02-02T15:08:06.225917",
     "exception": false,
     "start_time": "2023-02-02T15:08:06.213836",
     "status": "completed"
    },
    "tags": []
   },
   "source": [
    "> ### Apply linear regression and fit the model"
   ]
  },
  {
   "cell_type": "code",
   "execution_count": 18,
   "id": "90c0d3c4",
   "metadata": {
    "execution": {
     "iopub.execute_input": "2023-02-02T15:08:06.253006Z",
     "iopub.status.busy": "2023-02-02T15:08:06.251731Z",
     "iopub.status.idle": "2023-02-02T15:08:06.354299Z",
     "shell.execute_reply": "2023-02-02T15:08:06.353016Z"
    },
    "papermill": {
     "duration": 0.118741,
     "end_time": "2023-02-02T15:08:06.356892",
     "exception": false,
     "start_time": "2023-02-02T15:08:06.238151",
     "status": "completed"
    },
    "tags": []
   },
   "outputs": [
    {
     "data": {
      "text/plain": [
       "LinearRegression()"
      ]
     },
     "execution_count": 18,
     "metadata": {},
     "output_type": "execute_result"
    }
   ],
   "source": [
    "from sklearn.linear_model import LinearRegression\n",
    "reg = LinearRegression()\n",
    "reg.fit(x_train,y_train)"
   ]
  },
  {
   "cell_type": "markdown",
   "id": "c35ab417",
   "metadata": {
    "papermill": {
     "duration": 0.011739,
     "end_time": "2023-02-02T15:08:06.380884",
     "exception": false,
     "start_time": "2023-02-02T15:08:06.369145",
     "status": "completed"
    },
    "tags": []
   },
   "source": [
    "### Print the slopes and intercept\n",
    "*  y = b0 + b1x1 + b2x2 + ... + bnxn\n",
    "*  b0 - intercept\n",
    "*  b1,b2,..bn - slope"
   ]
  },
  {
   "cell_type": "code",
   "execution_count": 19,
   "id": "f34bb354",
   "metadata": {
    "execution": {
     "iopub.execute_input": "2023-02-02T15:08:06.406719Z",
     "iopub.status.busy": "2023-02-02T15:08:06.406295Z",
     "iopub.status.idle": "2023-02-02T15:08:06.412943Z",
     "shell.execute_reply": "2023-02-02T15:08:06.411788Z"
    },
    "papermill": {
     "duration": 0.022937,
     "end_time": "2023-02-02T15:08:06.415683",
     "exception": false,
     "start_time": "2023-02-02T15:08:06.392746",
     "status": "completed"
    },
    "tags": []
   },
   "outputs": [
    {
     "name": "stdout",
     "output_type": "stream",
     "text": [
      "41091.206521703396\n",
      "[  0.78258471   0.04496351   0.0327938  -11.61886233]\n"
     ]
    }
   ],
   "source": [
    "print(reg.intercept_)\n",
    "print(reg.coef_)   #slope"
   ]
  },
  {
   "cell_type": "markdown",
   "id": "33b4e29c",
   "metadata": {
    "papermill": {
     "duration": 0.011563,
     "end_time": "2023-02-02T15:08:06.474902",
     "exception": false,
     "start_time": "2023-02-02T15:08:06.463339",
     "status": "completed"
    },
    "tags": []
   },
   "source": [
    "> ### Predict the values"
   ]
  },
  {
   "cell_type": "code",
   "execution_count": 20,
   "id": "31d1520b",
   "metadata": {
    "execution": {
     "iopub.execute_input": "2023-02-02T15:08:06.500991Z",
     "iopub.status.busy": "2023-02-02T15:08:06.500486Z",
     "iopub.status.idle": "2023-02-02T15:08:06.506404Z",
     "shell.execute_reply": "2023-02-02T15:08:06.505182Z"
    },
    "papermill": {
     "duration": 0.022007,
     "end_time": "2023-02-02T15:08:06.508891",
     "exception": false,
     "start_time": "2023-02-02T15:08:06.486884",
     "status": "completed"
    },
    "tags": []
   },
   "outputs": [],
   "source": [
    "y_pred = reg.predict(x_test)"
   ]
  },
  {
   "cell_type": "markdown",
   "id": "d85390c9",
   "metadata": {
    "papermill": {
     "duration": 0.01169,
     "end_time": "2023-02-02T15:08:06.533015",
     "exception": false,
     "start_time": "2023-02-02T15:08:06.521325",
     "status": "completed"
    },
    "tags": []
   },
   "source": [
    "> ### Find R2 value"
   ]
  },
  {
   "cell_type": "code",
   "execution_count": 21,
   "id": "2098fda3",
   "metadata": {
    "execution": {
     "iopub.execute_input": "2023-02-02T15:08:06.559514Z",
     "iopub.status.busy": "2023-02-02T15:08:06.559094Z",
     "iopub.status.idle": "2023-02-02T15:08:06.566458Z",
     "shell.execute_reply": "2023-02-02T15:08:06.565254Z"
    },
    "papermill": {
     "duration": 0.023915,
     "end_time": "2023-02-02T15:08:06.568847",
     "exception": false,
     "start_time": "2023-02-02T15:08:06.544932",
     "status": "completed"
    },
    "tags": []
   },
   "outputs": [
    {
     "name": "stdout",
     "output_type": "stream",
     "text": [
      "93.25447894242299 %\n"
     ]
    }
   ],
   "source": [
    "from sklearn.metrics import r2_score\n",
    "print(r2_score(y_test,y_pred)*100,'%')"
   ]
  },
  {
   "cell_type": "markdown",
   "id": "2f6e9dbd",
   "metadata": {
    "papermill": {
     "duration": 0.01273,
     "end_time": "2023-02-02T15:08:06.593941",
     "exception": false,
     "start_time": "2023-02-02T15:08:06.581211",
     "status": "completed"
    },
    "tags": []
   },
   "source": [
    "> ### Predicted vs acual value graph"
   ]
  },
  {
   "cell_type": "code",
   "execution_count": 22,
   "id": "2cc61e2b",
   "metadata": {
    "execution": {
     "iopub.execute_input": "2023-02-02T15:08:06.620656Z",
     "iopub.status.busy": "2023-02-02T15:08:06.620277Z",
     "iopub.status.idle": "2023-02-02T15:08:06.840710Z",
     "shell.execute_reply": "2023-02-02T15:08:06.839343Z"
    },
    "papermill": {
     "duration": 0.237325,
     "end_time": "2023-02-02T15:08:06.843747",
     "exception": false,
     "start_time": "2023-02-02T15:08:06.606422",
     "status": "completed"
    },
    "tags": []
   },
   "outputs": [
    {
     "data": {
      "image/png": "[encoded data removed]",
      "text/plain": [
       "<Figure size 432x288 with 1 Axes>"
      ]
     },
     "metadata": {
      "needs_background": "light"
     },
     "output_type": "display_data"
    }
   ],
   "source": [
    "plt.plot(y_pred,c='r',label='Prediction')\n",
    "plt.plot(y_test,c='g',label='Original')\n",
    "plt.legend()\n",
    "plt.show()"
   ]
  },
  {
   "cell_type": "code",
   "execution_count": 26,
   "id": "a57a5709",
   "metadata": {},
   "outputs": [],
   "source": [
    "import pickle\n",
    "file = open('startup.pkl','wb')\n",
    "pickle.dump(reg, file)"
   ]
  },
  {
   "cell_type": "code",
   "execution_count": 27,
   "id": "d11b8b41",
   "metadata": {},
   "outputs": [],
   "source": [
    "model = open('startup.pkl','rb')"
   ]
  },
  {
   "cell_type": "code",
   "execution_count": 28,
   "id": "376a0953",
   "metadata": {},
   "outputs": [
    {
     "data": {
      "text/plain": [
       "LinearRegression()"
      ]
     },
     "execution_count": 28,
     "metadata": {},
     "output_type": "execute_result"
    }
   ],
   "source": [
    "pickle.load(model)"
   ]
  },
  {
   "cell_type": "code",
   "execution_count": null,
   "id": "3f1eb05e",
   "metadata": {},
   "outputs": [],
   "source": []
  }
 ],
 "metadata": {
  "kernelspec": {
   "display_name": "Python 3",
   "language": "python",
   "name": "python3"
  },
  "language_info": {
   "codemirror_mode": {
    "name": "ipython",
    "version": 3
   },
   "file_extension": ".py",
   "mimetype": "text/x-python",
   "name": "python",
   "nbconvert_exporter": "python",
   "pygments_lexer": "ipython3",
   "version": "3.9.12"
  },
  "papermill": {
   "default_parameters": {},
   "duration": 13.182909,
   "end_time": "2023-02-02T15:08:07.580451",
   "environment_variables": {},
   "exception": null,
   "input_path": "__notebook__.ipynb",
   "output_path": "__notebook__.ipynb",
   "parameters": {},
   "start_time": "2023-02-02T15:07:54.397542",
   "version": "2.3.4"
  }
 },
 "nbformat": 4,
 "nbformat_minor": 5
}
